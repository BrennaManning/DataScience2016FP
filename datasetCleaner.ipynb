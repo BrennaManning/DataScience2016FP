{
 "cells": [
  {
   "cell_type": "code",
   "execution_count": 13,
   "metadata": {
    "collapsed": false
   },
   "outputs": [
    {
     "name": "stdout",
     "output_type": "stream",
     "text": [
      "<class 'pandas.core.frame.DataFrame'>\n",
      "Int64Index: 97921 entries, 0 to 97920\n",
      "Columns: 226 entries, Date to Sidepaks (mg/m3)\n",
      "dtypes: bool(1), float64(218), int64(6), object(1)\n",
      "memory usage: 168.9+ MB\n",
      "None\n"
     ]
    }
   ],
   "source": [
    "import pandas as pd\n",
    "\n",
    "df = pd.read_csv('Kwadela2014-winter.csv')\n",
    "print df.info()"
   ]
  },
  {
   "cell_type": "code",
   "execution_count": 14,
   "metadata": {
    "collapsed": false
   },
   "outputs": [
    {
     "name": "stdout",
     "output_type": "stream",
     "text": [
      "   Dusttraks_(mg/m3)  PM10_(ug/m3)  PM2.5_(ug/m3)  SO2_(ppb)  CO_(ppm)  \\\n",
      "0              0.043           NaN         31.576        NaN     0.193   \n",
      "1              0.041           NaN         32.248        NaN     0.163   \n",
      "2              0.042           NaN         12.765        NaN     0.188   \n",
      "3              0.044           NaN          2.687        NaN     0.206   \n",
      "4              0.043           NaN          3.807        NaN     0.240   \n",
      "\n",
      "   NO_(ppb)  NO2_(ppb)  Hour  Minute  Day   ...     H06-K-N  H07-K-S  H10-K-N  \\\n",
      "0     6.494      8.734    12       0   11   ...        11.7     15.3     17.1   \n",
      "1     5.375      8.286    12       1   11   ...        11.7     15.4     17.2   \n",
      "2     5.375      8.062    12       2   11   ...        11.8     15.4     17.3   \n",
      "3     5.375      8.062    12       3   11   ...        11.8     15.5     17.4   \n",
      "4     4.927      8.062    12       4   11   ...        11.8     15.5     17.5   \n",
      "\n",
      "   H11-K-N  H15-K-N  H16-K-N  H17-K-S  H18-K-N  H19-K-W  H22-K-S  \n",
      "0     16.2     15.3     15.3     15.5     15.5       15       15  \n",
      "1     16.5     15.4     15.3     15.5     15.5       15       15  \n",
      "2     16.8     15.5     15.4     15.5     15.5       15       15  \n",
      "3     17.0     15.5     15.4     15.5     15.5       15       15  \n",
      "4     17.2     15.5     15.5     15.5     15.5       15       15  \n",
      "\n",
      "[5 rows x 28 columns]\n"
     ]
    }
   ],
   "source": [
    "\n",
    "house_list = [column for column in df if '-K' in column]\n",
    "\n",
    "column_list = ['Dusttraks_(mg/m3)','PM10_(ug/m3)','PM2.5_(ug/m3)','SO2_(ppb)',\n",
    "              'CO_(ppm)','NO_(ppb)','NO2_(ppb)','Hour', 'Minute','Day','Month',\n",
    "              'Year','Temperature_(degC)']\n",
    "\n",
    "cleandf = df[column_list+house_list]\n",
    "\n",
    "print cleandf.head()\n",
    "\n",
    "cleandf.to_csv('Kwadella_winter_2014_cleaned.csv')"
   ]
  },
  {
   "cell_type": "code",
   "execution_count": null,
   "metadata": {
    "collapsed": true
   },
   "outputs": [],
   "source": []
  }
 ],
 "metadata": {
  "kernelspec": {
   "display_name": "Python 2",
   "language": "python",
   "name": "python2"
  },
  "language_info": {
   "codemirror_mode": {
    "name": "ipython",
    "version": 2
   },
   "file_extension": ".py",
   "mimetype": "text/x-python",
   "name": "python",
   "nbconvert_exporter": "python",
   "pygments_lexer": "ipython2",
   "version": "2.7.11"
  }
 },
 "nbformat": 4,
 "nbformat_minor": 0
}

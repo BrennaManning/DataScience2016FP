{
 "cells": [
  {
   "cell_type": "markdown",
   "metadata": {},
   "source": [
    "# Statistical Comparisons Generator\n",
    "\n",
    "This notebook separates different measurement categories into numerous populations and compares the statistical significance of data trends"
   ]
  },
  {
   "cell_type": "code",
   "execution_count": 14,
   "metadata": {
    "collapsed": false
   },
   "outputs": [],
   "source": [
    "#all package imports needed for notebook here\n",
    "import pandas as pd\n",
    "\n",
    "%matplotlib inline\n",
    "\n",
    "import matplotlib.pyplot as plt\n",
    "import matplotlib.cm as cm\n",
    "from matplotlib.ticker import ScalarFormatter, FormatStrFormatter\n",
    "from scipy.stats import kruskal\n",
    "import seaborn as sns\n",
    "import numpy as np\n",
    "import pprint as pp\n",
    "from datetime import datetime\n",
    "from IPython.display import display\n",
    "import thinkstats2\n",
    "import thinkplot\n",
    "\n",
    "df2013 = pd.read_csv('Kwadella_winter_2013_cleaned.csv')\n",
    "df2014 = pd.read_csv('Kwadella_winter_2014_cleaned.csv')"
   ]
  },
  {
   "cell_type": "markdown",
   "metadata": {},
   "source": [
    "First we're looking at an analysis of variance between 2014 and 2013 to see how significantly the years differed. We'll look at how the outdoor temperatures varied (as a soft control), then compare the year's pollutant concentrations  to get a read for how well the intervention reduced pollution. We'll do this again with diurnal plots to be sure. \n",
    "\n",
    "Cross correlation will let us track dusttraks vs PM2.5 vs PM10 vs CO concentrations and traking the rise and fall of each pollutant over the course of the entire winter. We're starting by just looking at the entire winter, then we may divide pollution measurements based on temperature deviation of a given day or by month\n",
    "\n",
    "ANOVA is best for comparing one category of measurement at different time points to see if there is significant variance between those groups. for example: 1 way ANOVA done on dusttraks from the mean temp track, dusttraks from 1 sd colder than the mean, and dusttraks from 1 sd warmer than the mean. This measurement would tell us if there is variance in pollution between the three groups. This test could also be applied to 2013 vs 2014 dusttraks to find statistical significance in the differences in pollution before and after intervention"
   ]
  },
  {
   "cell_type": "code",
   "execution_count": 36,
   "metadata": {
    "collapsed": true
   },
   "outputs": [],
   "source": [
    "def get_datetime(s):\n",
    "    \"\"\"strips date and time from the already existing date column\"\"\"\n",
    "    dt = datetime.strptime(s, \"%m/%d/%y %H:%M\")\n",
    "    return dt\n",
    "\n",
    "def daysSinceStart(df):\n",
    "    \"\"\"get time since epoch using a series for month and day\n",
    "    takes in dataframe and returns the dataframe with an added colum for days since the beginning of data collection\"\"\"\n",
    "    dayArray = np.array(df.Day)\n",
    "    monthArray = np.array(df.Month)\n",
    "    \n",
    "    runningDays = []\n",
    "    for day, month in zip(dayArray, monthArray):\n",
    "        if month == 7:\n",
    "            total_days = 0\n",
    "        elif month == 8:\n",
    "            total_days = 31 \n",
    "        elif month == 9:\n",
    "            total_days = 61\n",
    "        else:\n",
    "            raise ValueError \n",
    "        total_days = total_days + day\n",
    "        runningDays.append(total_days)\n",
    "    df['DayCount'] = pd.Series(runningDays, index = df.index)\n",
    "    return df\n",
    "\n",
    "#Daily Average Outdoor Temp\n",
    "def compute_avg_temp(df):\n",
    "    df['DailyAverageTemp'] = df['Temperature_(degC)'].mean()\n",
    "    return df\n",
    "\n",
    "#each minute's avg indoor temp\n",
    "def compute_avg_val(df):\n",
    "    df['AvgHouse'] = (df['H01-K-E'].mean()+ df['H02-K-N'].mean() + df['H03-K-S'].mean()+ df['H04-K-S'].mean()\n",
    "                      + df['H05-K-N'].mean()+df['H06-K-N'].mean() + df['H10-K-N'].mean()\n",
    "                      +df['H11-K-X'].mean()+ df['H12-K-N'].mean() + df['H15-K-S'].mean() +df['H17-K-N'].mean() \n",
    "                      + df['H18-K-S'].mean() + df['H20-K-S'].mean()\n",
    "                      )/13\n",
    "    return df\n",
    "\n",
    "def preprocess(df):\n",
    "    \"\"\"runs the datetime and daysSinceStart helper functions\n",
    "    takes and returns a dataframe\"\"\"\n",
    "    res = df.copy()\n",
    "    datetimes = res.Date.apply(get_datetime)\n",
    "    res['Hour'] = datetimes.apply(lambda dt: dt.hour)\n",
    "    res['Day'] = datetimes.apply(lambda dt: dt.day)\n",
    "    res['Month'] = datetimes.apply(lambda dt: dt.month)\n",
    "    res['Year'] = datetimes.apply(lambda dt: dt.year)\n",
    "    res = compute_avg_val(res)\n",
    "    return res"
   ]
  },
  {
   "cell_type": "code",
   "execution_count": 37,
   "metadata": {
    "collapsed": false
   },
   "outputs": [],
   "source": [
    "df2013 = preprocess(df2013)\n",
    "df2013 = daysSinceStart(df2013)\n",
    "grouped = df2013.groupby('DayCount')\n",
    "df2013 = grouped.apply(compute_avg_temp)\n",
    "df2013 = compute_avg_temp(df2013)\n",
    "df2013['Dusttraks_(mg/m3)']= df2013['Dusttraks_(mg/m3)']*0.14\n",
    "\n",
    "\n",
    "df2014 = daysSinceStart(df2014)\n",
    "grouped = df2014.groupby('DayCount')\n",
    "df2014 = grouped.apply(compute_avg_temp)\n",
    "df2014 = compute_avg_temp(df2014)\n",
    "df2014['Dusttraks_(mg/m3)']= df2014['Dusttraks_(mg/m3)']*0.14"
   ]
  },
  {
   "cell_type": "code",
   "execution_count": 45,
   "metadata": {
    "collapsed": false
   },
   "outputs": [
    {
     "name": "stdout",
     "output_type": "stream",
     "text": [
      "   Unnamed: 0  Dusttraks_(mg/m3)  PM10_(ug/m3)  PM2.5_(ug/m3)  SO2_(ppb)  \\\n",
      "0         120                NaN           NaN            NaN        NaN   \n",
      "1         121                NaN           NaN            NaN        NaN   \n",
      "2         122                NaN           NaN            NaN        NaN   \n",
      "3         123                NaN           NaN            NaN        NaN   \n",
      "4         124                NaN           NaN            NaN        NaN   \n",
      "\n",
      "   CO_(ppm)  NO_(ppb)  NO2_(ppb)          Date  Temperature_(degC)    ...      \\\n",
      "0       NaN       NaN        NaN  7/2/13 14:00                 NaN    ...       \n",
      "1       NaN       NaN        NaN  7/2/13 14:01                 NaN    ...       \n",
      "2       NaN       NaN        NaN  7/2/13 14:02                 NaN    ...       \n",
      "3       NaN       NaN        NaN  7/2/13 14:03                 NaN    ...       \n",
      "4       NaN       NaN        NaN  7/2/13 14:04                 NaN    ...       \n",
      "\n",
      "   H17-K-N  H18-K-S  H20-K-S  Hour  Day  Month  Year  DayCount  \\\n",
      "0     15.5     16.5     15.0    14    2      7  2013         2   \n",
      "1     15.5     16.5     15.1    14    2      7  2013         2   \n",
      "2     15.5     16.5     15.1    14    2      7  2013         2   \n",
      "3     15.5     16.5     15.2    14    2      7  2013         2   \n",
      "4     15.5     16.5     15.2    14    2      7  2013         2   \n",
      "\n",
      "   DailyAverageTemp   AvgHouse  \n",
      "0         10.798239  16.865647  \n",
      "1         10.798239  16.865647  \n",
      "2         10.798239  16.865647  \n",
      "3         10.798239  16.865647  \n",
      "4         10.798239  16.865647  \n",
      "\n",
      "[5 rows x 31 columns]\n"
     ]
    }
   ],
   "source": [
    "print df2013.head()"
   ]
  },
  {
   "cell_type": "code",
   "execution_count": 5,
   "metadata": {
    "collapsed": true
   },
   "outputs": [],
   "source": [
    "def cross_correlation_using_fft(x, y):\n",
    "    f1 = fft(x)\n",
    "    f2 = fft(np.flipud(y))\n",
    "    cc = np.real(ifft(f1 * f2))\n",
    "    return fftshift(cc)\n",
    " \n",
    "# shift &lt; 0 means that y starts 'shift' time steps before x # shift &gt; 0 means that y starts 'shift' time steps after x\n",
    "def compute_shift(x, y):\n",
    "    assert len(x) == len(y)\n",
    "    c = cross_correlation_using_fft(x, y)\n",
    "    assert len(c) == len(x)\n",
    "    zero_index = int(len(x) / 2) - 1\n",
    "    shift = zero_index - np.argmax(c)\n",
    "    return shift"
   ]
  },
  {
   "cell_type": "code",
   "execution_count": 48,
   "metadata": {
    "collapsed": false,
    "scrolled": false
   },
   "outputs": [],
   "source": [
    "def GroupByDay(df,header, func=np.mean):\n",
    "    \"\"\"Groups header values by day and compute the daily mean for each category.\n",
    "    df: DataFrame of environmental data\n",
    "    returns: DataFrame of daily data\n",
    "    \"\"\"\n",
    "    groups = df[['DayCount', headers]].groupby('DayCount')\n",
    "    daily = groups.aggregate(func)\n",
    "\n",
    "    daily['DayCount'] = daily.index\n",
    "    return daily\n",
    "\n",
    "def FillMissing(daily,header, span = 3000):\n",
    "    \"\"\"Fills missing values with an exponentially weighted moving average.\n",
    "    Resulting DataFrame has new columns 'ewma' and 'resid'.\n",
    "    daily: DataFrame of daily values (temperatures, pollution, etc)\n",
    "    span: window size (sort of) passed to ewma\n",
    "    returns: new DataFrame of daily prices\n",
    "    \"\"\"\n",
    "    #dates = pd.date_range(daily.index.min(), daily.index.max())\n",
    "    #reindexed = daily.reindex(dates)\n",
    "\n",
    "    ewma = pd.ewma(daily[header], span=span)\n",
    "\n",
    "    resid = (daily[header] - ewma).dropna()\n",
    "    fake_data = ewma + thinkstats2.Resample(resid, len(daily.DayCount))\n",
    "    daily[header].fillna(fake_data, inplace=True)\n",
    "\n",
    "    daily['ewma'] = ewma\n",
    "    daily['resid'] = reindexed.ppg - ewma\n",
    "    print daily.head()\n",
    "    return daily\n",
    "\n",
    "def normalize(df, headers):\n",
    "    normdf = df[headers].dropna()\n",
    "    #FillMissing(df, headers))\n",
    "    #for h in headers:\n",
    "        #means = pd.rolling_mean(normdf[h],5000, min_periods = 1).shift(-3000) #window is 3000 b/c temp doesn't start until the 3000th entry in the 2013df\n",
    "        #normdf.loc[:,h] = normdf[h].fillna(means)\n",
    "    df_norm = (normdf-normdf.mean())/(normdf.max() - normdf.min())\n",
    "    return df_norm\n",
    "\n",
    "intHeadCorrList= ['Temperature_(degC)', 'Dusttraks_(mg/m3)', 'PM10_(ug/m3)','PM2.5_(ug/m3)','SO2_(ppb)','CO_(ppm)','NO_(ppb)',\n",
    "                 'NO2_(ppb)']\n",
    "dfnorm13 = normalize(df2013, intHeadCorrList)"
   ]
  },
  {
   "cell_type": "code",
   "execution_count": 50,
   "metadata": {
    "collapsed": false
   },
   "outputs": [
    {
     "name": "stdout",
     "output_type": "stream",
     "text": [
      "                    Temperature_(degC)  Dusttraks_(mg/m3)  PM10_(ug/m3)  \\\n",
      "Temperature_(degC)            1.000000          -0.051971      0.334552   \n",
      "Dusttraks_(mg/m3)            -0.051971           1.000000      0.359603   \n",
      "PM10_(ug/m3)                  0.334552           0.359603      1.000000   \n",
      "PM2.5_(ug/m3)                -0.003481           0.246446      0.366330   \n",
      "SO2_(ppb)                     0.314639           0.320246      0.484691   \n",
      "\n",
      "                    PM2.5_(ug/m3)  SO2_(ppb)  CO_(ppm)  NO_(ppb)  NO2_(ppb)  \n",
      "Temperature_(degC)      -0.003481   0.314639 -0.253483 -0.064890   0.187605  \n",
      "Dusttraks_(mg/m3)        0.246446   0.320246  0.135695  0.582362   0.410862  \n",
      "PM10_(ug/m3)             0.366330   0.484691  0.220396  0.205098   0.461499  \n",
      "PM2.5_(ug/m3)            1.000000   0.232282  0.312534  0.087900   0.319056  \n",
      "SO2_(ppb)                0.232282   1.000000  0.282412  0.460925   0.763380  \n"
     ]
    }
   ],
   "source": [
    "\n",
    "speardf = dfnorm13.corr(method = 'spearman')\n",
    "print speardf.head()"
   ]
  },
  {
   "cell_type": "code",
   "execution_count": 11,
   "metadata": {
    "collapsed": false
   },
   "outputs": [],
   "source": [
    "#need to replace nans with a rolling mean, then normalize, then correlate "
   ]
  },
  {
   "cell_type": "code",
   "execution_count": 27,
   "metadata": {
    "collapsed": false
   },
   "outputs": [],
   "source": [
    "crosscorr_array = np.correlate(dfnorm13['Temperature_(degC)'],dfnorm13['Dusttraks_(mg/m3)'], mode = 'full'"
   ]
  },
  {
   "cell_type": "code",
   "execution_count": 31,
   "metadata": {
    "collapsed": false,
    "scrolled": true
   },
   "outputs": [
    {
     "name": "stdout",
     "output_type": "stream",
     "text": [
      "[[ 1.         -0.01648544]\n",
      " [-0.01648544  1.        ]]\n"
     ]
    }
   ],
   "source": [
    "corrcoef_matrix = np.corrcoef(dfnorm13['Temperature_(degC)'],dfnorm13['Dusttraks_(mg/m3)'])\n",
    "print corrcoef_matrix"
   ]
  },
  {
   "cell_type": "markdown",
   "metadata": {},
   "source": [
    "This code for a cross correlation heatmap taken from our helpful stack overflow answer http://stackoverflow.com/questions/2318529/plotting-only-upper-lower-triangle-of-a-heatmap"
   ]
  },
  {
   "cell_type": "code",
   "execution_count": 26,
   "metadata": {
    "collapsed": false
   },
   "outputs": [
    {
     "data": {
      "image/png": "[encoded data removed]",
      "text/plain": [
       "<matplotlib.figure.Figure at 0x7f1e4881d350>"
      ]
     },
     "metadata": {},
     "output_type": "display_data"
    }
   ],
   "source": [
    "A = crosscorr_matrix #cross correlation matrix\n",
    "\n",
    "mask =  np.tri(A.shape[0], k=-1)\n",
    "A = np.ma.array(A, mask=mask) # mask out the lower triangle\n",
    "fig = plt.figure()\n",
    "ax1 = fig.add_subplot(111)\n",
    "cmap = cm.get_cmap('jet', 10) # jet doesn't have white color\n",
    "cmap.set_bad('w') # default value is 'k'\n",
    "ax1.imshow(A, interpolation=\"nearest\", cmap=cmap)\n",
    "ax1.grid(True)\n",
    "plt.show()"
   ]
  },
  {
   "cell_type": "code",
   "execution_count": 51,
   "metadata": {
    "collapsed": false
   },
   "outputs": [
    {
     "ename": "KeyError",
     "evalue": "'Level network must be same as name (None)'",
     "output_type": "error",
     "traceback": [
      "\u001b[1;31m---------------------------------------------------------------------------\u001b[0m",
      "\u001b[1;31mKeyError\u001b[0m                                  Traceback (most recent call last)",
      "\u001b[1;32m<ipython-input-51-1df4780d3910>\u001b[0m in \u001b[0;36m<module>\u001b[1;34m()\u001b[0m\n\u001b[0;32m      8\u001b[0m \u001b[1;33m\u001b[0m\u001b[0m\n\u001b[0;32m      9\u001b[0m \u001b[1;31m# Use matplotlib directly to emphasize known networks\u001b[0m\u001b[1;33m\u001b[0m\u001b[1;33m\u001b[0m\u001b[0m\n\u001b[1;32m---> 10\u001b[1;33m \u001b[0mnetworks\u001b[0m \u001b[1;33m=\u001b[0m \u001b[0mcorrmat\u001b[0m\u001b[1;33m.\u001b[0m\u001b[0mcolumns\u001b[0m\u001b[1;33m.\u001b[0m\u001b[0mget_level_values\u001b[0m\u001b[1;33m(\u001b[0m\u001b[1;34m\"network\"\u001b[0m\u001b[1;33m)\u001b[0m\u001b[1;33m\u001b[0m\u001b[0m\n\u001b[0m\u001b[0;32m     11\u001b[0m \u001b[1;32mfor\u001b[0m \u001b[0mi\u001b[0m\u001b[1;33m,\u001b[0m \u001b[0mnetwork\u001b[0m \u001b[1;32min\u001b[0m \u001b[0menumerate\u001b[0m\u001b[1;33m(\u001b[0m\u001b[0mnetworks\u001b[0m\u001b[1;33m)\u001b[0m\u001b[1;33m:\u001b[0m\u001b[1;33m\u001b[0m\u001b[0m\n\u001b[0;32m     12\u001b[0m     \u001b[1;32mif\u001b[0m \u001b[0mi\u001b[0m \u001b[1;32mand\u001b[0m \u001b[0mnetwork\u001b[0m \u001b[1;33m!=\u001b[0m \u001b[0mnetworks\u001b[0m\u001b[1;33m[\u001b[0m\u001b[0mi\u001b[0m \u001b[1;33m-\u001b[0m \u001b[1;36m1\u001b[0m\u001b[1;33m]\u001b[0m\u001b[1;33m:\u001b[0m\u001b[1;33m\u001b[0m\u001b[0m\n",
      "\u001b[1;32m/home/mackenzie/anaconda2/lib/python2.7/site-packages/pandas/core/index.pyc\u001b[0m in \u001b[0;36mget_level_values\u001b[1;34m(self, level)\u001b[0m\n\u001b[0;32m   1833\u001b[0m         \"\"\"\n\u001b[0;32m   1834\u001b[0m         \u001b[1;31m# checks that level number is actually just 1\u001b[0m\u001b[1;33m\u001b[0m\u001b[1;33m\u001b[0m\u001b[0m\n\u001b[1;32m-> 1835\u001b[1;33m         \u001b[0mself\u001b[0m\u001b[1;33m.\u001b[0m\u001b[0m_validate_index_level\u001b[0m\u001b[1;33m(\u001b[0m\u001b[0mlevel\u001b[0m\u001b[1;33m)\u001b[0m\u001b[1;33m\u001b[0m\u001b[0m\n\u001b[0m\u001b[0;32m   1836\u001b[0m         \u001b[1;32mreturn\u001b[0m \u001b[0mself\u001b[0m\u001b[1;33m\u001b[0m\u001b[0m\n\u001b[0;32m   1837\u001b[0m \u001b[1;33m\u001b[0m\u001b[0m\n",
      "\u001b[1;32m/home/mackenzie/anaconda2/lib/python2.7/site-packages/pandas/core/index.pyc\u001b[0m in \u001b[0;36m_validate_index_level\u001b[1;34m(self, level)\u001b[0m\n\u001b[0;32m   1052\u001b[0m         \u001b[1;32melif\u001b[0m \u001b[0mlevel\u001b[0m \u001b[1;33m!=\u001b[0m \u001b[0mself\u001b[0m\u001b[1;33m.\u001b[0m\u001b[0mname\u001b[0m\u001b[1;33m:\u001b[0m\u001b[1;33m\u001b[0m\u001b[0m\n\u001b[0;32m   1053\u001b[0m             raise KeyError('Level %s must be same as name (%s)'\n\u001b[1;32m-> 1054\u001b[1;33m                            % (level, self.name))\n\u001b[0m\u001b[0;32m   1055\u001b[0m \u001b[1;33m\u001b[0m\u001b[0m\n\u001b[0;32m   1056\u001b[0m     \u001b[1;32mdef\u001b[0m \u001b[0m_get_level_number\u001b[0m\u001b[1;33m(\u001b[0m\u001b[0mself\u001b[0m\u001b[1;33m,\u001b[0m \u001b[0mlevel\u001b[0m\u001b[1;33m)\u001b[0m\u001b[1;33m:\u001b[0m\u001b[1;33m\u001b[0m\u001b[0m\n",
      "\u001b[1;31mKeyError\u001b[0m: 'Level network must be same as name (None)'"
     ]
    },
    {
     "data": {
      "image/png": "[encoded data removed]",
      "text/plain": [
       "<matplotlib.figure.Figure at 0x7f1e7c8be150>"
      ]
     },
     "metadata": {},
     "output_type": "display_data"
    }
   ],
   "source": [
    "corrmat = speardf\n",
    "\n",
    "# Set up the matplotlib figure\n",
    "f, ax = plt.subplots(figsize=(12, 9))\n",
    "\n",
    "# Draw the heatmap using seaborn\n",
    "sns.heatmap(corrmat, vmax=.8, square=True)\n",
    "\n",
    "# Use matplotlib directly to emphasize known networks\n",
    "networks = corrmat.columns.get_level_values(\"network\")\n",
    "for i, network in enumerate(networks):\n",
    "    if i and network != networks[i - 1]:\n",
    "        ax.axhline(len(networks) - i, c=\"w\")\n",
    "        ax.axvline(i, c=\"w\")\n",
    "f.tight_layout()"
   ]
  },
  {
   "cell_type": "code",
   "execution_count": 15,
   "metadata": {
    "collapsed": false
   },
   "outputs": [
    {
     "data": {
      "text/plain": [
       "array([[22, 79, 71, 73, 76, 71, 50, 35, 78, 62],\n",
       "       [60, 10, 79, 40, 83, 62, 63, 71, 24, 93],\n",
       "       [56, 12, 97, 85, 68, 16, 32, 51, 17, 88],\n",
       "       [11, 44, 16, 57, 33, 44, 22, 25, 76, 92],\n",
       "       [25, 35, 15, 88, 98, 19, 22, 10, 65, 90],\n",
       "       [50, 56, 83, 67, 43, 24, 50, 85, 66, 55],\n",
       "       [71, 92, 45, 89, 87, 12, 44, 63, 43, 21],\n",
       "       [36, 78, 80, 12, 42, 96, 29, 84, 17, 14],\n",
       "       [12, 69, 67, 34, 65, 15, 25, 38, 38, 54],\n",
       "       [30, 51, 58, 69, 98, 28, 13, 90, 69, 64]])"
      ]
     },
     "execution_count": 15,
     "metadata": {},
     "output_type": "execute_result"
    }
   ],
   "source": [
    "np.random.randint(10, 100, 100).reshape(10, 10)"
   ]
  },
  {
   "cell_type": "code",
   "execution_count": null,
   "metadata": {
    "collapsed": true
   },
   "outputs": [],
   "source": []
  }
 ],
 "metadata": {
  "kernelspec": {
   "display_name": "Python 2",
   "language": "python",
   "name": "python2"
  },
  "language_info": {
   "codemirror_mode": {
    "name": "ipython",
    "version": 2
   },
   "file_extension": ".py",
   "mimetype": "text/x-python",
   "name": "python",
   "nbconvert_exporter": "python",
   "pygments_lexer": "ipython2",
   "version": "2.7.11"
  }
 },
 "nbformat": 4,
 "nbformat_minor": 0
}

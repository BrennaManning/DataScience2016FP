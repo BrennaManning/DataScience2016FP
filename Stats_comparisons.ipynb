{
 "cells": [
  {
   "cell_type": "markdown",
   "metadata": {},
   "source": [
    "# Statistical Comparisons Generator\n",
    "\n",
    "This notebook separates different measurement categories into numerous populations and compares the statistical significance of data trends"
   ]
  },
  {
   "cell_type": "code",
   "execution_count": 1,
   "metadata": {
    "collapsed": false
   },
   "outputs": [
    {
     "name": "stderr",
     "output_type": "stream",
     "text": [
      "/home/mackenzie/anaconda2/lib/python2.7/site-packages/matplotlib/font_manager.py:273: UserWarning: Matplotlib is building the font cache using fc-list. This may take a moment.\n",
      "  warnings.warn('Matplotlib is building the font cache using fc-list. This may take a moment.')\n",
      "/home/mackenzie/anaconda2/lib/python2.7/site-packages/matplotlib/__init__.py:872: UserWarning: axes.color_cycle is deprecated and replaced with axes.prop_cycle; please use the latter.\n",
      "  warnings.warn(self.msg_depr % (key, alt_key))\n"
     ]
    }
   ],
   "source": [
    "#all package imports needed for notebook here\n",
    "import pandas as pd\n",
    "import numpy as np\n",
    "\n",
    "%matplotlib inline\n",
    "\n",
    "import matplotlib.pyplot as plt\n",
    "from matplotlib.ticker import ScalarFormatter, FormatStrFormatter\n",
    "from scipy.stats import kruskal\n",
    "import seaborn as sns\n",
    "import numpy as np\n",
    "import pprint as pp\n",
    "from datetime import datetime\n",
    "from IPython.display import display\n",
    "import scipy.stats as stats\n",
    "import numpy as np\n",
    "from numpy.fft import fft,ifft,fft2,ifft2,fftshift\n",
    "\n",
    "df2013 = pd.read_csv('Kwadella_winter_2013_cleaned.csv')\n",
    "df2014 = pd.read_csv('Kwadella_winter_2014_cleaned.csv')"
   ]
  },
  {
   "cell_type": "markdown",
   "metadata": {},
   "source": [
    "First we're looking at an analysis of variance between 2014 and 2013 to see how significantly the years differed. We'll look at how the outdoor temperatures varied (as a soft control), then compare the year's pollutant concentrations  to get a read for how well the intervention reduced pollution. We'll do this again with diurnal plots to be sure. \n",
    "\n",
    "Cross correlation will let us track dusttraks vs PM2.5 vs PM10 vs CO concentrations and traking the rise and fall of each pollutant over the course of the entire winter. We're starting by just looking at the entire winter, then we may divide pollution measurements based on temperature deviation of a given day or by month\n",
    "\n",
    "ANOVA is best for comparing one category of measurement at different time points to see if there is significant variance between those groups. for example: 1 way ANOVA done on dusttraks from the mean temp track, dusttraks from 1 sd colder than the mean, and dusttraks from 1 sd warmer than the mean. This measurement would tell us if there is variance in pollution between the three groups. This test could also be applied to 2013 vs 2014 dusttraks to find statistical significance in the differences in pollution before and after intervention"
   ]
  },
  {
   "cell_type": "code",
   "execution_count": 2,
   "metadata": {
    "collapsed": true
   },
   "outputs": [],
   "source": [
    "def get_datetime(s):\n",
    "    \"\"\"strips date and time from the already existing date column\"\"\"\n",
    "    dt = datetime.strptime(s, \"%m/%d/%y %H:%M\")\n",
    "    return dt\n",
    "\n",
    "def daysSinceStart(df):\n",
    "    \"\"\"get time since epoch using a series for month and day\n",
    "    takes in dataframe and returns the dataframe with an added colum for days since the beginning of data collection\"\"\"\n",
    "    dayArray = np.array(df.Day)\n",
    "    monthArray = np.array(df.Month)\n",
    "    \n",
    "    runningDays = []\n",
    "    for day, month in zip(dayArray, monthArray):\n",
    "        if month == 7:\n",
    "            total_days = 0\n",
    "        elif month == 8:\n",
    "            total_days = 31 \n",
    "        elif month == 9:\n",
    "            total_days = 61\n",
    "        else:\n",
    "            raise ValueError \n",
    "        total_days = total_days + day\n",
    "        runningDays.append(total_days)\n",
    "    df['DayCount'] = pd.Series(runningDays, index = df.index)\n",
    "    return df\n",
    "\n",
    "#Daily Average Temp\n",
    "def compute_avg_temp(df):\n",
    "    df['DailyAverageTemp'] = df['Temperature_(degC)'].mean()\n",
    "    return df\n",
    "\n",
    "def preprocess(df):\n",
    "    \"\"\"runs the datetime and daysSinceStart helper functions\n",
    "    takes and returns a dataframe\"\"\"\n",
    "    res = df.copy()\n",
    "    datetimes = res.Date.apply(get_datetime)\n",
    "    res['Hour'] = datetimes.apply(lambda dt: dt.hour)\n",
    "    res['Day'] = datetimes.apply(lambda dt: dt.day)\n",
    "    res['Month'] = datetimes.apply(lambda dt: dt.month)\n",
    "    res['Year'] = datetimes.apply(lambda dt: dt.year)\n",
    "    return res\n",
    "\n",
    "\n"
   ]
  },
  {
   "cell_type": "code",
   "execution_count": 3,
   "metadata": {
    "collapsed": false
   },
   "outputs": [],
   "source": [
    "df2013 = preprocess(df2013)\n",
    "df2013 = daysSinceStart(df2013)\n",
    "grouped = df2013.groupby('DayCount')\n",
    "df2013 = grouped.apply(compute_avg_temp)\n",
    "df2013 = compute_avg_temp(df2013)\n",
    "df2013['Dusttraks_(mg/m3)']= df2013['Dusttraks_(mg/m3)']*0.14\n",
    "\n",
    "\n",
    "df2014 = daysSinceStart(df2014)\n",
    "grouped = df2014.groupby('DayCount')\n",
    "df2014 = grouped.apply(compute_avg_temp)\n",
    "df2014 = compute_avg_temp(df2014)\n",
    "df2014['Dusttraks_(mg/m3)']= df2014['Dusttraks_(mg/m3)']*0.14"
   ]
  },
  {
   "cell_type": "code",
   "execution_count": 4,
   "metadata": {
    "collapsed": false
   },
   "outputs": [
    {
     "data": {
      "text/plain": [
       "KruskalResult(statistic=2365.9088083635561, pvalue=0.0)"
      ]
     },
     "execution_count": 4,
     "metadata": {},
     "output_type": "execute_result"
    }
   ],
   "source": [
    "kruskal(df2013['Temperature_(degC)'],df2014['Temperature_(degC)'])\n"
   ]
  },
  {
   "cell_type": "code",
   "execution_count": 5,
   "metadata": {
    "collapsed": true
   },
   "outputs": [],
   "source": [
    "def cross_correlation_using_fft(x, y):\n",
    "    f1 = fft(x)\n",
    "    f2 = fft(np.flipud(y))\n",
    "    cc = np.real(ifft(f1 * f2))\n",
    "    return fftshift(cc)\n",
    " \n",
    "# shift &lt; 0 means that y starts 'shift' time steps before x # shift &gt; 0 means that y starts 'shift' time steps after x\n",
    "def compute_shift(x, y):\n",
    "    assert len(x) == len(y)\n",
    "    c = cross_correlation_using_fft(x, y)\n",
    "    assert len(c) == len(x)\n",
    "    zero_index = int(len(x) / 2) - 1\n",
    "    shift = zero_index - np.argmax(c)\n",
    "    return shift"
   ]
  },
  {
   "cell_type": "code",
   "execution_count": 6,
   "metadata": {
    "collapsed": false
   },
   "outputs": [
    {
     "data": {
      "text/plain": [
       "62676"
      ]
     },
     "execution_count": 6,
     "metadata": {},
     "output_type": "execute_result"
    }
   ],
   "source": [
    "compute_shift(df2013['Temperature_(degC)'], df2013['Dusttraks_(mg/m3)'])"
   ]
  },
  {
   "cell_type": "code",
   "execution_count": 7,
   "metadata": {
    "collapsed": false
   },
   "outputs": [
    {
     "data": {
      "text/plain": [
       "array([ nan])"
      ]
     },
     "execution_count": 7,
     "metadata": {},
     "output_type": "execute_result"
    }
   ],
   "source": [
    "np.correlate(df2013['Temperature_(degC)'], df2013['Dusttraks_(mg/m3)'])"
   ]
  },
  {
   "cell_type": "code",
   "execution_count": 14,
   "metadata": {
    "collapsed": false
   },
   "outputs": [
    {
     "data": {
      "text/html": [
       "<div>\n",
       "<table border=\"1\" class=\"dataframe\">\n",
       "  <thead>\n",
       "    <tr style=\"text-align: right;\">\n",
       "      <th></th>\n",
       "      <th>Unnamed: 0</th>\n",
       "      <th>Dusttraks_(mg/m3)</th>\n",
       "      <th>PM10_(ug/m3)</th>\n",
       "      <th>PM2.5_(ug/m3)</th>\n",
       "      <th>SO2_(ppb)</th>\n",
       "      <th>CO_(ppm)</th>\n",
       "      <th>NO_(ppb)</th>\n",
       "      <th>NO2_(ppb)</th>\n",
       "      <th>Date</th>\n",
       "      <th>Temperature_(degC)</th>\n",
       "      <th>...</th>\n",
       "      <th>H15-K-S</th>\n",
       "      <th>H17-K-N</th>\n",
       "      <th>H18-K-S</th>\n",
       "      <th>H20-K-S</th>\n",
       "      <th>Hour</th>\n",
       "      <th>Day</th>\n",
       "      <th>Month</th>\n",
       "      <th>Year</th>\n",
       "      <th>DayCount</th>\n",
       "      <th>DailyAverageTemp</th>\n",
       "    </tr>\n",
       "  </thead>\n",
       "  <tbody>\n",
       "    <tr>\n",
       "      <th>0</th>\n",
       "      <td>120</td>\n",
       "      <td>NaN</td>\n",
       "      <td>NaN</td>\n",
       "      <td>NaN</td>\n",
       "      <td>NaN</td>\n",
       "      <td>NaN</td>\n",
       "      <td>NaN</td>\n",
       "      <td>NaN</td>\n",
       "      <td>7/2/13 14:00</td>\n",
       "      <td>NaN</td>\n",
       "      <td>...</td>\n",
       "      <td>16</td>\n",
       "      <td>15.5</td>\n",
       "      <td>16.5</td>\n",
       "      <td>15.0</td>\n",
       "      <td>14</td>\n",
       "      <td>2</td>\n",
       "      <td>7</td>\n",
       "      <td>2013</td>\n",
       "      <td>2</td>\n",
       "      <td>10.798239</td>\n",
       "    </tr>\n",
       "    <tr>\n",
       "      <th>1</th>\n",
       "      <td>121</td>\n",
       "      <td>NaN</td>\n",
       "      <td>NaN</td>\n",
       "      <td>NaN</td>\n",
       "      <td>NaN</td>\n",
       "      <td>NaN</td>\n",
       "      <td>NaN</td>\n",
       "      <td>NaN</td>\n",
       "      <td>7/2/13 14:01</td>\n",
       "      <td>NaN</td>\n",
       "      <td>...</td>\n",
       "      <td>16</td>\n",
       "      <td>15.5</td>\n",
       "      <td>16.5</td>\n",
       "      <td>15.1</td>\n",
       "      <td>14</td>\n",
       "      <td>2</td>\n",
       "      <td>7</td>\n",
       "      <td>2013</td>\n",
       "      <td>2</td>\n",
       "      <td>10.798239</td>\n",
       "    </tr>\n",
       "    <tr>\n",
       "      <th>2</th>\n",
       "      <td>122</td>\n",
       "      <td>NaN</td>\n",
       "      <td>NaN</td>\n",
       "      <td>NaN</td>\n",
       "      <td>NaN</td>\n",
       "      <td>NaN</td>\n",
       "      <td>NaN</td>\n",
       "      <td>NaN</td>\n",
       "      <td>7/2/13 14:02</td>\n",
       "      <td>NaN</td>\n",
       "      <td>...</td>\n",
       "      <td>16</td>\n",
       "      <td>15.5</td>\n",
       "      <td>16.5</td>\n",
       "      <td>15.1</td>\n",
       "      <td>14</td>\n",
       "      <td>2</td>\n",
       "      <td>7</td>\n",
       "      <td>2013</td>\n",
       "      <td>2</td>\n",
       "      <td>10.798239</td>\n",
       "    </tr>\n",
       "    <tr>\n",
       "      <th>3</th>\n",
       "      <td>123</td>\n",
       "      <td>NaN</td>\n",
       "      <td>NaN</td>\n",
       "      <td>NaN</td>\n",
       "      <td>NaN</td>\n",
       "      <td>NaN</td>\n",
       "      <td>NaN</td>\n",
       "      <td>NaN</td>\n",
       "      <td>7/2/13 14:03</td>\n",
       "      <td>NaN</td>\n",
       "      <td>...</td>\n",
       "      <td>16</td>\n",
       "      <td>15.5</td>\n",
       "      <td>16.5</td>\n",
       "      <td>15.2</td>\n",
       "      <td>14</td>\n",
       "      <td>2</td>\n",
       "      <td>7</td>\n",
       "      <td>2013</td>\n",
       "      <td>2</td>\n",
       "      <td>10.798239</td>\n",
       "    </tr>\n",
       "    <tr>\n",
       "      <th>4</th>\n",
       "      <td>124</td>\n",
       "      <td>NaN</td>\n",
       "      <td>NaN</td>\n",
       "      <td>NaN</td>\n",
       "      <td>NaN</td>\n",
       "      <td>NaN</td>\n",
       "      <td>NaN</td>\n",
       "      <td>NaN</td>\n",
       "      <td>7/2/13 14:04</td>\n",
       "      <td>NaN</td>\n",
       "      <td>...</td>\n",
       "      <td>16</td>\n",
       "      <td>15.5</td>\n",
       "      <td>16.5</td>\n",
       "      <td>15.2</td>\n",
       "      <td>14</td>\n",
       "      <td>2</td>\n",
       "      <td>7</td>\n",
       "      <td>2013</td>\n",
       "      <td>2</td>\n",
       "      <td>10.798239</td>\n",
       "    </tr>\n",
       "  </tbody>\n",
       "</table>\n",
       "<p>5 rows × 30 columns</p>\n",
       "</div>"
      ],
      "text/plain": [
       "   Unnamed: 0  Dusttraks_(mg/m3)  PM10_(ug/m3)  PM2.5_(ug/m3)  SO2_(ppb)  \\\n",
       "0         120                NaN           NaN            NaN        NaN   \n",
       "1         121                NaN           NaN            NaN        NaN   \n",
       "2         122                NaN           NaN            NaN        NaN   \n",
       "3         123                NaN           NaN            NaN        NaN   \n",
       "4         124                NaN           NaN            NaN        NaN   \n",
       "\n",
       "   CO_(ppm)  NO_(ppb)  NO2_(ppb)          Date  Temperature_(degC)  \\\n",
       "0       NaN       NaN        NaN  7/2/13 14:00                 NaN   \n",
       "1       NaN       NaN        NaN  7/2/13 14:01                 NaN   \n",
       "2       NaN       NaN        NaN  7/2/13 14:02                 NaN   \n",
       "3       NaN       NaN        NaN  7/2/13 14:03                 NaN   \n",
       "4       NaN       NaN        NaN  7/2/13 14:04                 NaN   \n",
       "\n",
       "         ...         H15-K-S  H17-K-N  H18-K-S  H20-K-S  Hour  Day  Month  \\\n",
       "0        ...              16     15.5     16.5     15.0    14    2      7   \n",
       "1        ...              16     15.5     16.5     15.1    14    2      7   \n",
       "2        ...              16     15.5     16.5     15.1    14    2      7   \n",
       "3        ...              16     15.5     16.5     15.2    14    2      7   \n",
       "4        ...              16     15.5     16.5     15.2    14    2      7   \n",
       "\n",
       "   Year  DayCount  DailyAverageTemp  \n",
       "0  2013         2         10.798239  \n",
       "1  2013         2         10.798239  \n",
       "2  2013         2         10.798239  \n",
       "3  2013         2         10.798239  \n",
       "4  2013         2         10.798239  \n",
       "\n",
       "[5 rows x 30 columns]"
      ]
     },
     "execution_count": 14,
     "metadata": {},
     "output_type": "execute_result"
    }
   ],
   "source": [
    "df2013.head()\n"
   ]
  },
  {
   "cell_type": "code",
   "execution_count": 37,
   "metadata": {
    "collapsed": false
   },
   "outputs": [
    {
     "name": "stdout",
     "output_type": "stream",
     "text": [
      "0        NaN\n",
      "1        NaN\n",
      "2        NaN\n",
      "3        NaN\n",
      "4        NaN\n",
      "5        NaN\n",
      "6        NaN\n",
      "7        NaN\n",
      "8        NaN\n",
      "9        NaN\n",
      "10       NaN\n",
      "11       NaN\n",
      "12       NaN\n",
      "13       NaN\n",
      "14       NaN\n",
      "15       NaN\n",
      "16       NaN\n",
      "17       NaN\n",
      "18       NaN\n",
      "19       NaN\n",
      "20       NaN\n",
      "21       NaN\n",
      "22       NaN\n",
      "23       NaN\n",
      "24       NaN\n",
      "25       NaN\n",
      "26       NaN\n",
      "27       NaN\n",
      "28       NaN\n",
      "29       NaN\n",
      "          ..\n",
      "125325   NaN\n",
      "125326   NaN\n",
      "125327   NaN\n",
      "125328   NaN\n",
      "125329   NaN\n",
      "125330   NaN\n",
      "125331   NaN\n",
      "125332   NaN\n",
      "125333   NaN\n",
      "125334   NaN\n",
      "125335   NaN\n",
      "125336   NaN\n",
      "125337   NaN\n",
      "125338   NaN\n",
      "125339   NaN\n",
      "125340   NaN\n",
      "125341   NaN\n",
      "125342   NaN\n",
      "125343   NaN\n",
      "125344   NaN\n",
      "125345   NaN\n",
      "125346   NaN\n",
      "125347   NaN\n",
      "125348   NaN\n",
      "125349   NaN\n",
      "125350   NaN\n",
      "125351   NaN\n",
      "125352   NaN\n",
      "125353   NaN\n",
      "125354   NaN\n",
      "Name: Temperature_(degC), dtype: float64\n",
      "0        NaN\n",
      "1        NaN\n",
      "2        NaN\n",
      "3        NaN\n",
      "4        NaN\n",
      "5        NaN\n",
      "6        NaN\n",
      "7        NaN\n",
      "8        NaN\n",
      "9        NaN\n",
      "10       NaN\n",
      "11       NaN\n",
      "12       NaN\n",
      "13       NaN\n",
      "14       NaN\n",
      "15       NaN\n",
      "16       NaN\n",
      "17       NaN\n",
      "18       NaN\n",
      "19       NaN\n",
      "20       NaN\n",
      "21       NaN\n",
      "22       NaN\n",
      "23       NaN\n",
      "24       NaN\n",
      "25       NaN\n",
      "26       NaN\n",
      "27       NaN\n",
      "28       NaN\n",
      "29       NaN\n",
      "          ..\n",
      "125325   NaN\n",
      "125326   NaN\n",
      "125327   NaN\n",
      "125328   NaN\n",
      "125329   NaN\n",
      "125330   NaN\n",
      "125331   NaN\n",
      "125332   NaN\n",
      "125333   NaN\n",
      "125334   NaN\n",
      "125335   NaN\n",
      "125336   NaN\n",
      "125337   NaN\n",
      "125338   NaN\n",
      "125339   NaN\n",
      "125340   NaN\n",
      "125341   NaN\n",
      "125342   NaN\n",
      "125343   NaN\n",
      "125344   NaN\n",
      "125345   NaN\n",
      "125346   NaN\n",
      "125347   NaN\n",
      "125348   NaN\n",
      "125349   NaN\n",
      "125350   NaN\n",
      "125351   NaN\n",
      "125352   NaN\n",
      "125353   NaN\n",
      "125354   NaN\n",
      "Name: Dusttraks_(mg/m3), dtype: float64\n"
     ]
    }
   ],
   "source": [
    "def normalize(df, headers):\n",
    "    normdf = df[headers]\n",
    "    for h in headers:\n",
    "        means = pd.rolling_mean(normdf[h],3)\n",
    "        print means\n",
    "        normdf.loc[:,h] = normdf[h].fillna(means)\n",
    "    df_norm = (normdf-normdf.mean())/(normdf.max() - normdf.min())\n",
    "    return df_norm\n",
    "\n",
    "dfnorm13 = normalize(df2013, ['Temperature_(degC)', 'Dusttraks_(mg/m3)'])"
   ]
  },
  {
   "cell_type": "code",
   "execution_count": 33,
   "metadata": {
    "collapsed": false
   },
   "outputs": [
    {
     "data": {
      "text/html": [
       "<div>\n",
       "<table border=\"1\" class=\"dataframe\">\n",
       "  <thead>\n",
       "    <tr style=\"text-align: right;\">\n",
       "      <th></th>\n",
       "      <th>Temperature_(degC)</th>\n",
       "      <th>Dusttraks_(mg/m3)</th>\n",
       "    </tr>\n",
       "  </thead>\n",
       "  <tbody>\n",
       "    <tr>\n",
       "      <th>0</th>\n",
       "      <td>NaN</td>\n",
       "      <td>NaN</td>\n",
       "    </tr>\n",
       "    <tr>\n",
       "      <th>1</th>\n",
       "      <td>NaN</td>\n",
       "      <td>NaN</td>\n",
       "    </tr>\n",
       "    <tr>\n",
       "      <th>2</th>\n",
       "      <td>NaN</td>\n",
       "      <td>NaN</td>\n",
       "    </tr>\n",
       "    <tr>\n",
       "      <th>3</th>\n",
       "      <td>NaN</td>\n",
       "      <td>NaN</td>\n",
       "    </tr>\n",
       "    <tr>\n",
       "      <th>4</th>\n",
       "      <td>NaN</td>\n",
       "      <td>NaN</td>\n",
       "    </tr>\n",
       "  </tbody>\n",
       "</table>\n",
       "</div>"
      ],
      "text/plain": [
       "   Temperature_(degC)  Dusttraks_(mg/m3)\n",
       "0                 NaN                NaN\n",
       "1                 NaN                NaN\n",
       "2                 NaN                NaN\n",
       "3                 NaN                NaN\n",
       "4                 NaN                NaN"
      ]
     },
     "execution_count": 33,
     "metadata": {},
     "output_type": "execute_result"
    }
   ],
   "source": [
    "#need to replace nans with a rolling mean, then normalize, then correlate \n",
    "\n"
   ]
  },
  {
   "cell_type": "code",
   "execution_count": 30,
   "metadata": {
    "collapsed": false
   },
   "outputs": [
    {
     "data": {
      "text/plain": [
       "array([ nan,  nan,  nan, ...,  nan,  nan,  nan])"
      ]
     },
     "execution_count": 30,
     "metadata": {},
     "output_type": "execute_result"
    }
   ],
   "source": [
    "np.correlate(dfnorm13['Temperature_(degC)'],dfnorm13['Dusttraks_(mg/m3)'], mode = 'full')"
   ]
  },
  {
   "cell_type": "code",
   "execution_count": 26,
   "metadata": {
    "collapsed": false
   },
   "outputs": [
    {
     "data": {
      "text/plain": [
       "array([[ nan,  nan],\n",
       "       [ nan,  nan]])"
      ]
     },
     "execution_count": 26,
     "metadata": {},
     "output_type": "execute_result"
    }
   ],
   "source": [
    "np.corrcoef(dfnorm13['Temperature_(degC)'],dfnorm13['Dusttraks_(mg/m3)'])"
   ]
  },
  {
   "cell_type": "code",
   "execution_count": null,
   "metadata": {
    "collapsed": true
   },
   "outputs": [],
   "source": []
  }
 ],
 "metadata": {
  "kernelspec": {
   "display_name": "Python 2",
   "language": "python",
   "name": "python2"
  },
  "language_info": {
   "codemirror_mode": {
    "name": "ipython",
    "version": 2
   },
   "file_extension": ".py",
   "mimetype": "text/x-python",
   "name": "python",
   "nbconvert_exporter": "python",
   "pygments_lexer": "ipython2",
   "version": "2.7.11"
  }
 },
 "nbformat": 4,
 "nbformat_minor": 0
}

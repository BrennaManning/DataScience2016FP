{
 "cells": [
  {
   "cell_type": "markdown",
   "metadata": {},
   "source": [
    "# Statistical Comparisons Generator\n",
    "\n",
    "This notebook separates different measurement categories into numerous populations and compares the statistical significance of data trends"
   ]
  },
  {
   "cell_type": "code",
   "execution_count": 1,
   "metadata": {
    "collapsed": false
   },
   "outputs": [
    {
     "name": "stderr",
     "output_type": "stream",
     "text": [
      "/home/mackenzie/anaconda2/lib/python2.7/site-packages/matplotlib/font_manager.py:273: UserWarning: Matplotlib is building the font cache using fc-list. This may take a moment.\n",
      "  warnings.warn('Matplotlib is building the font cache using fc-list. This may take a moment.')\n",
      "/home/mackenzie/anaconda2/lib/python2.7/site-packages/matplotlib/__init__.py:872: UserWarning: axes.color_cycle is deprecated and replaced with axes.prop_cycle; please use the latter.\n",
      "  warnings.warn(self.msg_depr % (key, alt_key))\n"
     ]
    }
   ],
   "source": [
    "#all package imports needed for notebook here\n",
    "import pandas as pd\n",
    "\n",
    "%matplotlib inline\n",
    "\n",
    "import matplotlib.pyplot as plt\n",
    "import matplotlib.cm as cm\n",
    "from matplotlib.ticker import ScalarFormatter, FormatStrFormatter\n",
    "from scipy.stats import kruskal\n",
    "import seaborn as sns\n",
    "import numpy as np\n",
    "import pprint as pp\n",
    "from datetime import datetime\n",
    "from IPython.display import display\n",
    "import thinkstats2\n",
    "import thinkplot\n",
    "\n",
    "df2013 = pd.read_csv('Kwadella_winter_2013_cleaned.csv')\n",
    "df2014 = pd.read_csv('Kwadella_winter_2014_cleaned.csv')"
   ]
  },
  {
   "cell_type": "markdown",
   "metadata": {},
   "source": [
    "First we're looking at an analysis of variance between 2014 and 2013 to see how significantly the years differed. We'll look at how the outdoor temperatures varied (as a soft control), then compare the year's pollutant concentrations  to get a read for how well the intervention reduced pollution. We'll do this again with diurnal plots to be sure. \n",
    "\n",
    "Cross correlation will let us track dusttraks vs PM2.5 vs PM10 vs CO concentrations and traking the rise and fall of each pollutant over the course of the entire winter. We're starting by just looking at the entire winter, then we may divide pollution measurements based on temperature deviation of a given day or by month\n",
    "\n",
    "Kruskal is best for comparing one category of measurement at different time points to see if there is significant variance between those groups. for example:  Krusal done on dusttraks from the mean temp track, dusttraks from 1 sd colder than the mean, and dusttraks from 1 sd warmer than the mean. This measurement would tell us if there is variance in pollution between the three groups. This test could also be applied to 2013 vs 2014 dusttraks to find statistical significance in the differences in pollution before and after intervention"
   ]
  },
  {
   "cell_type": "code",
   "execution_count": 2,
   "metadata": {
    "collapsed": true
   },
   "outputs": [],
   "source": [
    "def get_datetime(s):\n",
    "    \"\"\"strips date and time from the already existing date column\"\"\"\n",
    "    dt = datetime.strptime(s, \"%m/%d/%y %H:%M\")\n",
    "    return dt\n",
    "\n",
    "def daysSinceStart(df):\n",
    "    \"\"\"get time since epoch using a series for month and day\n",
    "    takes in dataframe and returns the dataframe with an added colum for days since the beginning of data collection\"\"\"\n",
    "    dayArray = np.array(df.Day)\n",
    "    monthArray = np.array(df.Month)\n",
    "    \n",
    "    runningDays = []\n",
    "    for day, month in zip(dayArray, monthArray):\n",
    "        if month == 7:\n",
    "            total_days = 0\n",
    "        elif month == 8:\n",
    "            total_days = 31 \n",
    "        elif month == 9:\n",
    "            total_days = 61\n",
    "        else:\n",
    "            raise ValueError \n",
    "        total_days = total_days + day\n",
    "        runningDays.append(total_days)\n",
    "    df['DayCount'] = pd.Series(runningDays, index = df.index)\n",
    "    return df\n",
    "\n",
    "#Daily Average Outdoor Temp\n",
    "def compute_avg_temp(df):\n",
    "    df['DailyAverageTemp'] = df['Temperature_(degC)'].mean()\n",
    "    return df\n",
    "\n",
    "#each minute's avg indoor temp\n",
    "def compute_avg_val(df):\n",
    "    df['AvgHouse'] = (df['H01-K-E'].mean()+ df['H02-K-N'].mean() + df['H03-K-S'].mean()+ df['H04-K-S'].mean()\n",
    "                      + df['H05-K-N'].mean()+df['H06-K-N'].mean() + df['H10-K-N'].mean()\n",
    "                      +df['H11-K-X'].mean()+ df['H12-K-N'].mean() + df['H15-K-S'].mean() +df['H17-K-N'].mean() \n",
    "                      + df['H18-K-S'].mean() + df['H20-K-S'].mean()\n",
    "                      )/13\n",
    "    return df\n",
    "\n",
    "def preprocess(df):\n",
    "    \"\"\"runs the datetime and daysSinceStart helper functions\n",
    "    takes and returns a dataframe\"\"\"\n",
    "    res = df.copy()\n",
    "    datetimes = res.Date.apply(get_datetime)\n",
    "    res['Hour'] = datetimes.apply(lambda dt: dt.hour)\n",
    "    res['Day'] = datetimes.apply(lambda dt: dt.day)\n",
    "    res['Month'] = datetimes.apply(lambda dt: dt.month)\n",
    "    res['Year'] = datetimes.apply(lambda dt: dt.year)\n",
    "    res = compute_avg_val(res)\n",
    "    return res"
   ]
  },
  {
   "cell_type": "code",
   "execution_count": 3,
   "metadata": {
    "collapsed": false
   },
   "outputs": [],
   "source": [
    "df2013 = preprocess(df2013)\n",
    "df2013 = daysSinceStart(df2013)\n",
    "grouped = df2013.groupby('DayCount')\n",
    "df2013 = grouped.apply(compute_avg_temp)\n",
    "df2013 = compute_avg_temp(df2013)\n",
    "df2013['Dusttraks_(mg/m3)']= df2013['Dusttraks_(mg/m3)']*0.14\n",
    "\n",
    "\n",
    "df2014 = daysSinceStart(df2014)\n",
    "grouped = df2014.groupby('DayCount')\n",
    "df2014 = grouped.apply(compute_avg_temp)\n",
    "df2014 = compute_avg_temp(df2014)\n",
    "df2014['Dusttraks_(mg/m3)']= df2014['Dusttraks_(mg/m3)']*0.14"
   ]
  },
  {
   "cell_type": "code",
   "execution_count": null,
   "metadata": {
    "collapsed": false
   },
   "outputs": [],
   "source": []
  },
  {
   "cell_type": "code",
   "execution_count": 48,
   "metadata": {
    "collapsed": false,
    "scrolled": false
   },
   "outputs": [
    {
     "name": "stdout",
     "output_type": "stream",
     "text": [
      "122525\n",
      "123315\n",
      "122525\n",
      "122525\n",
      "122525\n",
      "122525\n",
      "122525\n",
      "122525\n",
      "125355\n"
     ]
    },
    {
     "name": "stderr",
     "output_type": "stream",
     "text": [
      "/home/mackenzie/anaconda2/lib/python2.7/site-packages/ipykernel/__main__.py:33: SettingWithCopyWarning: \n",
      "A value is trying to be set on a copy of a slice from a DataFrame.\n",
      "Try using .loc[row_indexer,col_indexer] = value instead\n",
      "\n",
      "See the caveats in the documentation: http://pandas.pydata.org/pandas-docs/stable/indexing.html#indexing-view-versus-copy\n"
     ]
    }
   ],
   "source": [
    "def GroupByDay(df,header, func=np.mean):\n",
    "    \"\"\"Groups header values by day and compute the daily mean for each category.\n",
    "    df: DataFrame of environmental data\n",
    "    returns: DataFrame of daily data\n",
    "    \"\"\"\n",
    "    groups = df[['DayCount', headers]].groupby('DayCount')\n",
    "    daily = groups.aggregate(func)\n",
    "    daily['DayCount'] = daily.index\n",
    "    return daily\n",
    "\n",
    "def FillMissing(df,header, span = 5000):\n",
    "    \"\"\"Fills missing values with an exponentially weighted moving average.\n",
    "    Resulting DataFrame has missing values of specified column filled in\n",
    "    df: DataFrame of raw values \n",
    "    span: window size (sort of) passed to ewma\n",
    "    returns: new series for the dataframe\n",
    "    \"\"\"\n",
    "    ewma= pd.ewma(df[str(header)], span, ignore_na = True) #series\n",
    "    print ewma.count() #problem is that there are nans in ewma that get passed down the line\n",
    "    \n",
    "    resid = (df[str(header)]-ewma).dropna() #series\n",
    "    fake_data = ewma +thinkstats2.Resample(resid, len(df))\n",
    "    df[str(header)].fillna(fake_data, inplace = True) \n",
    "    return df[str(header)]\n",
    "\n",
    "def normalize(df, headers):\n",
    "    \"\"\"Normalizes values of a dataframe after filling missing values- see FillMissing\n",
    "    df: dataframe of un-normalized integer only data\n",
    "    headers: specifc columns to be compared to one another\n",
    "    returns: now normalized dataframe of only the specified headers with missing values filled in\"\"\"\n",
    "    \n",
    "    normdf = df[headers].dropna()\n",
    "    #for h in headers:\n",
    "     #   normdf[str(h)]=FillMissing(df,h) \n",
    "\n",
    "    df_norm = (normdf-normdf.mean())/(normdf.max() - normdf.min())\n",
    "    return df_norm\n",
    "\n",
    "intHeadCorrList= [ 'Temperature_(degC)','Dusttraks_(mg/m3)', 'PM10_(ug/m3)','PM2.5_(ug/m3)','SO2_(ppb)','CO_(ppm)','NO_(ppb)',\n",
    "                 'NO2_(ppb)','AvgHouse']\n",
    "dfnorm13 = normalize(df2013, intHeadCorrList)"
   ]
  },
  {
   "cell_type": "code",
   "execution_count": 45,
   "metadata": {
    "collapsed": false,
    "scrolled": true
   },
   "outputs": [
    {
     "data": {
      "text/plain": [
       "Temperature_(degC)    122525\n",
       "Dusttraks_(mg/m3)     123315\n",
       "PM10_(ug/m3)          122525\n",
       "PM2.5_(ug/m3)         122525\n",
       "SO2_(ppb)             122525\n",
       "CO_(ppm)              122525\n",
       "NO_(ppb)              122525\n",
       "NO2_(ppb)             122525\n",
       "AvgHouse              125355\n",
       "dtype: int64"
      ]
     },
     "execution_count": 45,
     "metadata": {},
     "output_type": "execute_result"
    }
   ],
   "source": [
    "#need this to return 0 for every column\n",
    "dfnorm13.count()"
   ]
  },
  {
   "cell_type": "code",
   "execution_count": 29,
   "metadata": {
    "collapsed": false
   },
   "outputs": [
    {
     "name": "stdout",
     "output_type": "stream",
     "text": [
      "                    Temperature_(degC)  Dusttraks_(mg/m3)  PM10_(ug/m3)  \\\n",
      "Temperature_(degC)            1.000000          -0.051971      0.334552   \n",
      "Dusttraks_(mg/m3)            -0.051971           1.000000      0.359603   \n",
      "PM10_(ug/m3)                  0.334552           0.359603      1.000000   \n",
      "PM2.5_(ug/m3)                -0.003481           0.246446      0.366330   \n",
      "SO2_(ppb)                     0.314639           0.320246      0.484691   \n",
      "\n",
      "                    PM2.5_(ug/m3)  SO2_(ppb)  CO_(ppm)  NO_(ppb)  NO2_(ppb)  \\\n",
      "Temperature_(degC)      -0.003481   0.314639 -0.253483 -0.064890   0.187605   \n",
      "Dusttraks_(mg/m3)        0.246446   0.320246  0.135695  0.582362   0.410862   \n",
      "PM10_(ug/m3)             0.366330   0.484691  0.220396  0.205098   0.461499   \n",
      "PM2.5_(ug/m3)            1.000000   0.232282  0.312534  0.087900   0.319056   \n",
      "SO2_(ppb)                0.232282   1.000000  0.282412  0.460925   0.763380   \n",
      "\n",
      "                    AvgHouse  \n",
      "Temperature_(degC)       NaN  \n",
      "Dusttraks_(mg/m3)        NaN  \n",
      "PM10_(ug/m3)             NaN  \n",
      "PM2.5_(ug/m3)            NaN  \n",
      "SO2_(ppb)                NaN  \n"
     ]
    }
   ],
   "source": [
    "#creating a dataframe with the spearman correlation for everything crossing one another\n",
    "speardf = dfnorm13.corr(method = 'spearman')\n",
    "print speardf.head()"
   ]
  },
  {
   "cell_type": "code",
   "execution_count": 6,
   "metadata": {
    "collapsed": false
   },
   "outputs": [],
   "source": [
    "#need to replace nans with a rolling mean, then normalize, then correlate "
   ]
  },
  {
   "cell_type": "markdown",
   "metadata": {},
   "source": [
    "This code for a cross correlation heatmap taken from some helpful seaborn documentation from stanford: https://stanford.edu/~mwaskom/software/seaborn/generated/seaborn.heatmap.html"
   ]
  },
  {
   "cell_type": "code",
   "execution_count": 27,
   "metadata": {
    "collapsed": false
   },
   "outputs": [
    {
     "data": {
      "image/png": "[encoded data removed]",
      "text/plain": [
       "<matplotlib.figure.Figure at 0x7f653179fad0>"
      ]
     },
     "metadata": {},
     "output_type": "display_data"
    }
   ],
   "source": [
    "\n",
    "corrmat = speardf\n",
    "\n",
    "mask = np.zeros_like(speardf, dtype=np.bool)\n",
    "mask[np.triu_indices_from(mask, k=1)] = True\n",
    "\n",
    "# Set up the matplotlib figure\n",
    "f, ax = plt.subplots(figsize=(12, 9))\n",
    "\n",
    "# Draw the heatmap using seaborn\n",
    "sns.heatmap(corrmat,mask=mask, vmax=.8, square=True)\n",
    "\n",
    "plt.title('Winter of 2013 Temperature and Pollutant Correlations')\n",
    "f.tight_layout()"
   ]
  },
  {
   "cell_type": "code",
   "execution_count": null,
   "metadata": {
    "collapsed": true
   },
   "outputs": [],
   "source": []
  }
 ],
 "metadata": {
  "kernelspec": {
   "display_name": "Python 2",
   "language": "python",
   "name": "python2"
  },
  "language_info": {
   "codemirror_mode": {
    "name": "ipython",
    "version": 2
   },
   "file_extension": ".py",
   "mimetype": "text/x-python",
   "name": "python",
   "nbconvert_exporter": "python",
   "pygments_lexer": "ipython2",
   "version": "2.7.11"
  }
 },
 "nbformat": 4,
 "nbformat_minor": 0
}

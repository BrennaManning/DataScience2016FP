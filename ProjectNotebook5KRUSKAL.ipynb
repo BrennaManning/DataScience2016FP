{
 "cells": [
  {
   "cell_type": "markdown",
   "metadata": {},
   "source": [
    "### Mackenzie Frackleton\n",
    "### Brenna Manning\n",
    "## Data Science 2016 Final Project"
   ]
  },
  {
   "cell_type": "markdown",
   "metadata": {},
   "source": [
    "This notebook contains kruskal Statistical Analysis"
   ]
  },
  {
   "cell_type": "code",
   "execution_count": 1,
   "metadata": {
    "collapsed": false
   },
   "outputs": [
    {
     "name": "stderr",
     "output_type": "stream",
     "text": [
      "/home/brenna/anaconda2/lib/python2.7/site-packages/matplotlib/__init__.py:872: UserWarning: axes.color_cycle is deprecated and replaced with axes.prop_cycle; please use the latter.\n",
      "  warnings.warn(self.msg_depr % (key, alt_key))\n"
     ]
    }
   ],
   "source": [
    "#IMPORTS\n",
    "import pandas as pd\n",
    "import numpy as np\n",
    "from datetime import datetime\n",
    "%matplotlib inline\n",
    "import pandas as pd\n",
    "import matplotlib.pyplot as plt\n",
    "from matplotlib.ticker import ScalarFormatter, FormatStrFormatter\n",
    "import seaborn as sns\n",
    "import numpy as np\n",
    "import pprint as pp\n",
    "from IPython.display import display\n",
    "import scipy.stats as stats\n",
    "\n",
    "#LOAD DATA\n",
    "df2013 = pd.read_csv('Kwadela_winter_2013_cleaned.csv')\n",
    "df2014 = pd.read_csv('Kwadela_winter_2014_cleaned.csv')\n",
    "\n"
   ]
  },
  {
   "cell_type": "code",
   "execution_count": 2,
   "metadata": {
    "collapsed": true
   },
   "outputs": [],
   "source": [
    "#SOME HELPER FUNCTIONS\n",
    "def get_datetime(s):\n",
    "    dt = datetime.strptime(s, \"%m/%d/%y %H:%M\")\n",
    "    return dt\n",
    "\n",
    "def preprocess(df):\n",
    "    res = df.copy()\n",
    "    datetimes = res.Date.apply(get_datetime)\n",
    "    res['Hour'] = datetimes.apply(lambda dt: dt.hour)\n",
    "    res['Day'] = datetimes.apply(lambda dt: dt.day)\n",
    "    res['Month'] = datetimes.apply(lambda dt: dt.month)\n",
    "    res['Year'] = datetimes.apply(lambda dt: dt.year)\n",
    "    res['Dusttraks_(mg/m3)']= res['Dusttraks_(mg/m3)']*0.14\n",
    "    return res\n",
    "\n",
    "\n",
    "def preprocess14(df):\n",
    "    res = df.copy()\n",
    "    res['Dusttraks_(mg/m3)']= res['Dusttraks_(mg/m3)']*0.14\n",
    "    return res\n",
    "\n",
    "def daysSinceStart(df):\n",
    "    #get time since epoch\n",
    "    dayArray = np.array(df.Day)\n",
    "    monthArray = np.array(df.Month)\n",
    "    \n",
    "    runningDays = []\n",
    "    for day, month in zip(dayArray, monthArray):\n",
    "        if month == 7:\n",
    "            total_days = 0\n",
    "            #do nothing, append the normal day\n",
    "        elif month == 8:\n",
    "            total_days = 31 \n",
    "        elif month == 9:\n",
    "            total_days = 61\n",
    "        else:\n",
    "            raise ValueError \n",
    "        total_days = total_days + day\n",
    "        #print'tot days:', total_days, month, day\n",
    "        runningDays.append(total_days)\n",
    "    df['DayCount'] = pd.Series(runningDays, index = df.index)\n",
    "    return df\n",
    "\n",
    "\n",
    "#Daily Average Temp\n",
    "def compute_avg_temp(df):\n",
    "    df['DailyAverageTemp'] = df['Temperature_(degC)'].mean()\n",
    "    return df\n",
    "\n",
    "def tempdifference(df, house):\n",
    "    df['tempdifference'] = df[house]\n",
    "    df['tempdifference'] = df[house]-df['Temperature_(degC)']\n",
    "    return df\n",
    "\n"
   ]
  },
  {
   "cell_type": "code",
   "execution_count": 3,
   "metadata": {
    "collapsed": true
   },
   "outputs": [],
   "source": [
    "#GENERAL FUNCTION FOR DIURNAL PLOTS\n",
    "\n",
    "def getmeanfeatureforhour (hourdf, feature):\n",
    "    res = hourdf[feature].mean()\n",
    "    return res\n",
    "def featurehourplot(df, feature, title):\n",
    "    #feature for example could be a temperature or pollutant concentration\n",
    "    dfhour0 = df[df['Hour'] == 0]\n",
    "    feat0 = getmeanfeatureforhour(dfhour0, feature)\n",
    "    dfhour1 = df[df['Hour'] == 1]\n",
    "    feat1= getmeanfeatureforhour(dfhour1, feature)\n",
    "    dfhour2 = df[df['Hour'] == 2]\n",
    "    feat2 = getmeanfeatureforhour(dfhour2, feature)\n",
    "    dfhour3 = df[df['Hour'] == 3]\n",
    "    feat3 = getmeanfeatureforhour(dfhour3, feature)\n",
    "    dfhour4 = df[df['Hour'] == 4]\n",
    "    feat4 = getmeanfeatureforhour(dfhour4, feature)\n",
    "    dfhour5 = df[df['Hour'] == 5]\n",
    "    feat5 = getmeanfeatureforhour(dfhour5, feature)\n",
    "    dfhour6 = df[df['Hour'] == 6]\n",
    "    feat6 = getmeanfeatureforhour(dfhour6, feature)\n",
    "    dfhour7 = df[df['Hour'] == 7]\n",
    "    feat7 = getmeanfeatureforhour(dfhour7, feature)\n",
    "    dfhour8 = df[df['Hour'] == 8]\n",
    "    feat8 = getmeanfeatureforhour(dfhour8, feature)\n",
    "    dfhour9 = df[df['Hour'] == 9]\n",
    "    feat9 = getmeanfeatureforhour(dfhour9, feature)\n",
    "    dfhour10 = df[df['Hour'] == 10]\n",
    "    feat10 = getmeanfeatureforhour(dfhour10, feature)\n",
    "    dfhour11 = df[df['Hour'] == 11]\n",
    "    feat11 = getmeanfeatureforhour(dfhour11, feature)\n",
    "    dfhour12 = df[df['Hour'] == 12]\n",
    "    feat12 = getmeanfeatureforhour(dfhour12, feature)\n",
    "    dfhour13 = df[df['Hour'] == 13]\n",
    "    feat13 = getmeanfeatureforhour(dfhour13, feature)\n",
    "    dfhour14 = df[df['Hour'] == 14]\n",
    "    feat14 = getmeanfeatureforhour(dfhour14, feature)\n",
    "    dfhour15 = df[df['Hour'] == 15]\n",
    "    feat15 = getmeanfeatureforhour(dfhour15, feature)\n",
    "    dfhour16 = df[df['Hour'] == 16]\n",
    "    feat16 = getmeanfeatureforhour(dfhour16, feature)\n",
    "    dfhour17 = df[df['Hour'] == 17]\n",
    "    feat17 = getmeanfeatureforhour(dfhour17, feature)\n",
    "    dfhour18 = df[df['Hour'] == 18]\n",
    "    feat18 = getmeanfeatureforhour(dfhour18, feature)\n",
    "    dfhour19 = df[df['Hour'] == 19]\n",
    "    feat19 = getmeanfeatureforhour(dfhour19, feature)\n",
    "    dfhour20 = df[df['Hour'] == 20]\n",
    "    feat20 = getmeanfeatureforhour(dfhour20, feature)\n",
    "    dfhour21 = df[df['Hour'] == 21]\n",
    "    feat21 = getmeanfeatureforhour(dfhour21, feature)\n",
    "    dfhour22 = df[df['Hour'] == 22]\n",
    "    feat22 = getmeanfeatureforhour(dfhour22, feature)\n",
    "    dfhour23 = df[df['Hour'] == 23]\n",
    "    feat23 = getmeanfeatureforhour(dfhour23, feature)\n",
    "\n",
    "    hourlist = [0,1,2,3,4,5,6,7,8,9,10,11,12,13,14,15,16,17,18,19,20,21,22,23]\n",
    "    featlist = [feat0,feat1,feat2,feat3,feat4,feat5,feat6,feat7,feat8,feat9,feat10,feat11,feat12,feat13,feat14,feat15,feat16,feat17,feat18,feat19,feat20,feat21,feat22,feat23]\n",
    "    plt.plot(hourlist, featlist, label=title)\n",
    "    plt.legend\n",
    "    plt.xlabel('Hour')\n",
    "    if feature[0:1] == 'H0':\n",
    "        plt.ylabel('House Temp, Degrees C')\n",
    "    else:\n",
    "        plt.ylabel(feature)\n",
    "    plt.title(title)\n",
    "\n"
   ]
  },
  {
   "cell_type": "code",
   "execution_count": 4,
   "metadata": {
    "collapsed": true
   },
   "outputs": [],
   "source": [
    "#GENERAL FUNCTION FOR DIURNAL DATA\n",
    "\n",
    "def getmeanfeatureforhour (hourdf, feature):\n",
    "    res = hourdf[feature].mean()\n",
    "    return res\n",
    "def featurediurnaldata(df, feature):\n",
    "    #feature for example could be a temperature or pollutant concentration\n",
    "    dfhour0 = df[df['Hour'] == 0]\n",
    "    feat0 = getmeanfeatureforhour(dfhour0, feature)\n",
    "    dfhour1 = df[df['Hour'] == 1]\n",
    "    feat1= getmeanfeatureforhour(dfhour1, feature)\n",
    "    dfhour2 = df[df['Hour'] == 2]\n",
    "    feat2 = getmeanfeatureforhour(dfhour2, feature)\n",
    "    dfhour3 = df[df['Hour'] == 3]\n",
    "    feat3 = getmeanfeatureforhour(dfhour3, feature)\n",
    "    dfhour4 = df[df['Hour'] == 4]\n",
    "    feat4 = getmeanfeatureforhour(dfhour4, feature)\n",
    "    dfhour5 = df[df['Hour'] == 5]\n",
    "    feat5 = getmeanfeatureforhour(dfhour5, feature)\n",
    "    dfhour6 = df[df['Hour'] == 6]\n",
    "    feat6 = getmeanfeatureforhour(dfhour6, feature)\n",
    "    dfhour7 = df[df['Hour'] == 7]\n",
    "    feat7 = getmeanfeatureforhour(dfhour7, feature)\n",
    "    dfhour8 = df[df['Hour'] == 8]\n",
    "    feat8 = getmeanfeatureforhour(dfhour8, feature)\n",
    "    dfhour9 = df[df['Hour'] == 9]\n",
    "    feat9 = getmeanfeatureforhour(dfhour9, feature)\n",
    "    dfhour10 = df[df['Hour'] == 10]\n",
    "    feat10 = getmeanfeatureforhour(dfhour10, feature)\n",
    "    dfhour11 = df[df['Hour'] == 11]\n",
    "    feat11 = getmeanfeatureforhour(dfhour11, feature)\n",
    "    dfhour12 = df[df['Hour'] == 12]\n",
    "    feat12 = getmeanfeatureforhour(dfhour12, feature)\n",
    "    dfhour13 = df[df['Hour'] == 13]\n",
    "    feat13 = getmeanfeatureforhour(dfhour13, feature)\n",
    "    dfhour14 = df[df['Hour'] == 14]\n",
    "    feat14 = getmeanfeatureforhour(dfhour14, feature)\n",
    "    dfhour15 = df[df['Hour'] == 15]\n",
    "    feat15 = getmeanfeatureforhour(dfhour15, feature)\n",
    "    dfhour16 = df[df['Hour'] == 16]\n",
    "    feat16 = getmeanfeatureforhour(dfhour16, feature)\n",
    "    dfhour17 = df[df['Hour'] == 17]\n",
    "    feat17 = getmeanfeatureforhour(dfhour17, feature)\n",
    "    dfhour18 = df[df['Hour'] == 18]\n",
    "    feat18 = getmeanfeatureforhour(dfhour18, feature)\n",
    "    dfhour19 = df[df['Hour'] == 19]\n",
    "    feat19 = getmeanfeatureforhour(dfhour19, feature)\n",
    "    dfhour20 = df[df['Hour'] == 20]\n",
    "    feat20 = getmeanfeatureforhour(dfhour20, feature)\n",
    "    dfhour21 = df[df['Hour'] == 21]\n",
    "    feat21 = getmeanfeatureforhour(dfhour21, feature)\n",
    "    dfhour22 = df[df['Hour'] == 22]\n",
    "    feat22 = getmeanfeatureforhour(dfhour22, feature)\n",
    "    dfhour23 = df[df['Hour'] == 23]\n",
    "    feat23 = getmeanfeatureforhour(dfhour23, feature)\n",
    "\n",
    "    hourlist = [0,1,2,3,4,5,6,7,8,9,10,11,12,13,14,15,16,17,18,19,20,21,22,23]\n",
    "    featlist = [feat0,feat1,feat2,feat3,feat4,feat5,feat6,feat7,feat8,feat9,feat10,feat11,feat12,feat13,feat14,feat15,feat16,feat17,feat18,feat19,feat20,feat21,feat22,feat23]\n",
    "    return featlist\n",
    "\n"
   ]
  },
  {
   "cell_type": "code",
   "execution_count": 5,
   "metadata": {
    "collapsed": false
   },
   "outputs": [],
   "source": [
    "df2013 = preprocess(df2013)\n",
    "df2013 = daysSinceStart(df2013)\n",
    "grouped = df2013.groupby('DayCount')\n",
    "df2013 = grouped.apply(compute_avg_temp)\n",
    "\n",
    "\n",
    "df2014 = preprocess14(df2014)\n",
    "df2014 = daysSinceStart(df2014)\n",
    "grouped = df2014.groupby('DayCount')\n",
    "df2014 = grouped.apply(compute_avg_temp)"
   ]
  },
  {
   "cell_type": "markdown",
   "metadata": {},
   "source": [
    "### Let's analyze the different temperature brackets."
   ]
  },
  {
   "cell_type": "code",
   "execution_count": 6,
   "metadata": {
    "collapsed": false
   },
   "outputs": [
    {
     "name": "stdout",
     "output_type": "stream",
     "text": [
      "2013 cold temp cutoff = \n",
      "8.6259\n",
      "2014 cold temp cutoff = \n",
      "8.71066111111\n",
      "2014 warm temp cutoff\n",
      "14.4178590278\n"
     ]
    }
   ],
   "source": [
    "df2013median = df2013['DailyAverageTemp'].median()\n",
    "df2013abovemed = df2013[df2013['DailyAverageTemp'] > df2013median]\n",
    "df2013belowmed = df2013[df2013['DailyAverageTemp'] < df2013median]\n",
    "df2013Q3cutoff = df2013abovemed['DailyAverageTemp'].median()\n",
    "df2013Q1cutoff = df2013belowmed['DailyAverageTemp'].median()\n",
    "df2014median = df2014['DailyAverageTemp'].median()\n",
    "df2014abovemed = df2014[df2014['DailyAverageTemp'] > df2014median]\n",
    "df2014belowmed = df2014[df2014['DailyAverageTemp'] < df2014median]\n",
    "df2014Q3cutoff = df2014abovemed['DailyAverageTemp'].median()\n",
    "df2014Q1cutoff = df2014belowmed['DailyAverageTemp'].median()\n",
    "print ('2013 cold temp cutoff = ')\n",
    "print (df2013Q1cutoff)\n",
    "print('2014 cold temp cutoff = ')\n",
    "print(df2014Q1cutoff)\n",
    "print('2014 warm temp cutoff')\n",
    "print(df2014Q3cutoff)"
   ]
  },
  {
   "cell_type": "markdown",
   "metadata": {},
   "source": [
    "#### Based  on these results we will use 8.7 degrees C as the Cold temperature cutoff, and 14.4 as the warm temperature cutoff."
   ]
  },
  {
   "cell_type": "markdown",
   "metadata": {},
   "source": [
    "### Make new dataframes based on year and temperature bracket"
   ]
  },
  {
   "cell_type": "code",
   "execution_count": 7,
   "metadata": {
    "collapsed": false
   },
   "outputs": [],
   "source": [
    "warmcutoff = 14.4\n",
    "coldcutoff = 8.7\n",
    "\n",
    "\n",
    "df2013cold = df2013[df2013['DailyAverageTemp'] <= coldcutoff]\n",
    "df2013mid = df2013[df2013['DailyAverageTemp'] > coldcutoff]\n",
    "df2013mid = df2013mid[df2013mid['DailyAverageTemp'] < warmcutoff]\n",
    "df2013warm = df2013[df2013['DailyAverageTemp'] >= warmcutoff]\n",
    "\n",
    "df2014cold = df2014[df2014['DailyAverageTemp'] <= coldcutoff]\n",
    "df2014mid = df2014[df2014['DailyAverageTemp'] > coldcutoff]\n",
    "df2014mid = df2014mid[df2014mid['DailyAverageTemp'] < warmcutoff]\n",
    "df2014warm = df2014[df2014['DailyAverageTemp'] >= warmcutoff]\n",
    "\n",
    "\n",
    "tempdiurnal2013cold = featurediurnaldata(df2013cold, 'DailyAverageTemp')\n",
    "tempdiurnal2014cold = featurediurnaldata(df2014cold, 'DailyAverageTemp')"
   ]
  },
  {
   "cell_type": "markdown",
   "metadata": {},
   "source": [
    "# KRUSKAL TIME !\n",
    "---------------------------"
   ]
  },
  {
   "cell_type": "code",
   "execution_count": 8,
   "metadata": {
    "collapsed": false
   },
   "outputs": [
    {
     "data": {
      "text/plain": [
       "KruskalResult(statistic=60.612370079061677, pvalue=6.949592412673137e-15)"
      ]
     },
     "execution_count": 8,
     "metadata": {},
     "output_type": "execute_result"
    }
   ],
   "source": [
    "### Compare Cold Days 2014 and Cold Days 2014 Dataframes\n",
    "stats.kruskal(df2013cold.DailyAverageTemp, df2014cold.DailyAverageTemp)"
   ]
  },
  {
   "cell_type": "code",
   "execution_count": 9,
   "metadata": {
    "collapsed": false
   },
   "outputs": [
    {
     "data": {
      "text/plain": [
       "KruskalResult(statistic=7.6919374454515763, pvalue=0.0055468050870174845)"
      ]
     },
     "execution_count": 9,
     "metadata": {},
     "output_type": "execute_result"
    }
   ],
   "source": [
    "\n",
    "stats.kruskal(df2013cold['Temperature_(degC)'], df2014cold['Temperature_(degC)'])"
   ]
  },
  {
   "cell_type": "code",
   "execution_count": 10,
   "metadata": {
    "collapsed": false
   },
   "outputs": [
    {
     "data": {
      "text/plain": [
       "KruskalResult(statistic=0.0, pvalue=1.0)"
      ]
     },
     "execution_count": 10,
     "metadata": {},
     "output_type": "execute_result"
    }
   ],
   "source": [
    "stats.kruskal(tempdiurnal2013cold, tempdiurnal2014cold)"
   ]
  },
  {
   "cell_type": "code",
   "execution_count": null,
   "metadata": {
    "collapsed": true
   },
   "outputs": [],
   "source": []
  },
  {
   "cell_type": "markdown",
   "metadata": {},
   "source": [
    "### ^This shows that the cold dataframes for 2013 and 2014 are basically the same outdoor temperature wise over the course of a day. They are comparable colds. "
   ]
  },
  {
   "cell_type": "code",
   "execution_count": 11,
   "metadata": {
    "collapsed": false
   },
   "outputs": [
    {
     "name": "stderr",
     "output_type": "stream",
     "text": [
      "/home/brenna/anaconda2/lib/python2.7/site-packages/ipykernel/__main__.py:51: SettingWithCopyWarning: \n",
      "A value is trying to be set on a copy of a slice from a DataFrame.\n",
      "Try using .loc[row_indexer,col_indexer] = value instead\n",
      "\n",
      "See the caveats in the documentation: http://pandas.pydata.org/pandas-docs/stable/indexing.html#indexing-view-versus-copy\n",
      "/home/brenna/anaconda2/lib/python2.7/site-packages/ipykernel/__main__.py:52: SettingWithCopyWarning: \n",
      "A value is trying to be set on a copy of a slice from a DataFrame.\n",
      "Try using .loc[row_indexer,col_indexer] = value instead\n",
      "\n",
      "See the caveats in the documentation: http://pandas.pydata.org/pandas-docs/stable/indexing.html#indexing-view-versus-copy\n"
     ]
    },
    {
     "data": {
      "text/plain": [
       "KruskalResult(statistic=13.020833333333343, pvalue=0.00030804470562774503)"
      ]
     },
     "execution_count": 11,
     "metadata": {},
     "output_type": "execute_result"
    }
   ],
   "source": [
    "df2013cold = tempdifference(df2013cold, 'H01-K-E')\n",
    "df2014cold = tempdifference(df2014cold, 'H01-K-E')\n",
    "\n",
    "tempdiurnaldiff2013cold = featurediurnaldata(df2013cold, 'tempdifference')\n",
    "tempdiurnaldiff2014cold = featurediurnaldata(df2014cold, 'tempdifference')\n",
    "\n",
    "stats.kruskal(tempdiurnaldiff2013cold, tempdiurnaldiff2014cold)"
   ]
  },
  {
   "cell_type": "markdown",
   "metadata": {
    "collapsed": true
   },
   "source": [
    "### 2013 v 2014 PM4"
   ]
  },
  {
   "cell_type": "code",
   "execution_count": 12,
   "metadata": {
    "collapsed": false
   },
   "outputs": [
    {
     "data": {
      "text/plain": [
       "KruskalResult(statistic=1.9659863945578309, pvalue=0.16087452877075625)"
      ]
     },
     "execution_count": 12,
     "metadata": {},
     "output_type": "execute_result"
    }
   ],
   "source": [
    "#hourlist = [0,1,2,3,4,5,6,7,8,9,10,11,12,13,14,15,16,17,18,19,20,21,22,23]\n",
    "#plt.plot(hourlist, featurediurnaldata(df2013cold, 'Dusttraks_(mg/m3)'))\n",
    "#plt.plot(hourlist, featurediurnaldata(df2014cold, 'Dusttraks_(mg/m3)'))\n",
    "#plt.legend(['Cold 13', 'Cold 14'])\n",
    "#plt.title('Cold Days Indoor PM4 Concentration (mg/m3)- Temp Brackets by Cutoff')\n",
    "#plt.show()\n",
    " \n",
    "stats.kruskal(featurediurnaldata(df2013cold, 'Dusttraks_(mg/m3)'), featurediurnaldata(df2014cold, 'Dusttraks_(mg/m3)'))"
   ]
  },
  {
   "cell_type": "markdown",
   "metadata": {},
   "source": [
    "### PM10"
   ]
  },
  {
   "cell_type": "code",
   "execution_count": 13,
   "metadata": {
    "collapsed": false
   },
   "outputs": [
    {
     "data": {
      "text/plain": [
       "KruskalResult(statistic=6.3282312925170174, pvalue=0.011883077001124228)"
      ]
     },
     "execution_count": 13,
     "metadata": {},
     "output_type": "execute_result"
    }
   ],
   "source": [
    "\n",
    "stats.kruskal(featurediurnaldata(df2013cold, 'PM10_(ug/m3)'), featurediurnaldata(df2014cold, 'PM10_(ug/m3)'))"
   ]
  },
  {
   "cell_type": "markdown",
   "metadata": {},
   "source": [
    "### PM2.5"
   ]
  },
  {
   "cell_type": "code",
   "execution_count": 14,
   "metadata": {
    "collapsed": false
   },
   "outputs": [
    {
     "data": {
      "text/plain": [
       "KruskalResult(statistic=1.5820578231292473, pvalue=0.208464529537846)"
      ]
     },
     "execution_count": 14,
     "metadata": {},
     "output_type": "execute_result"
    }
   ],
   "source": [
    "\n",
    "stats.kruskal(featurediurnaldata(df2013cold, 'PM2.5_(ug/m3)'), featurediurnaldata(df2014cold, 'PM2.5_(ug/m3)'))"
   ]
  },
  {
   "cell_type": "markdown",
   "metadata": {},
   "source": [
    "### S02"
   ]
  },
  {
   "cell_type": "code",
   "execution_count": 15,
   "metadata": {
    "collapsed": false
   },
   "outputs": [
    {
     "data": {
      "text/plain": [
       "KruskalResult(statistic=32.62287414965985, pvalue=1.118901363554243e-08)"
      ]
     },
     "execution_count": 15,
     "metadata": {},
     "output_type": "execute_result"
    }
   ],
   "source": [
    "\n",
    "stats.kruskal(featurediurnaldata(df2013cold, 'SO2_(ppb)'), featurediurnaldata(df2014cold, 'SO2_(ppb)'))\n"
   ]
  },
  {
   "cell_type": "markdown",
   "metadata": {},
   "source": [
    "### C0"
   ]
  },
  {
   "cell_type": "code",
   "execution_count": 16,
   "metadata": {
    "collapsed": false
   },
   "outputs": [
    {
     "data": {
      "text/plain": [
       "KruskalResult(statistic=26.867804515098726, pvalue=2.1785802291328526e-07)"
      ]
     },
     "execution_count": 16,
     "metadata": {},
     "output_type": "execute_result"
    }
   ],
   "source": [
    "\n",
    "stats.kruskal(featurediurnaldata(df2013cold, 'CO_(ppm)'), featurediurnaldata(df2014cold, 'CO_(ppm)'))\n"
   ]
  },
  {
   "cell_type": "code",
   "execution_count": null,
   "metadata": {
    "collapsed": false
   },
   "outputs": [],
   "source": [
    "stats.kruskal(featurediurnaldata(df2013cold, 'CO_(ppm)'), featurediurnaldata(df2014cold, 'CO_(ppm)'))\n"
   ]
  },
  {
   "cell_type": "markdown",
   "metadata": {},
   "source": [
    "#### PM4 Temp/Yr Comparison"
   ]
  },
  {
   "cell_type": "code",
   "execution_count": 22,
   "metadata": {
    "collapsed": false
   },
   "outputs": [
    {
     "name": "stdout",
     "output_type": "stream",
     "text": [
      "2013:\n",
      "cold v mid\n",
      "KruskalResult(statistic=0.03443877551018204, pvalue=0.8527765917754816)\n",
      "mid v warm\n",
      "KruskalResult(statistic=4.9591836734693686, pvalue=0.025952456022374774)\n",
      "warm v cold\n",
      "KruskalResult(statistic=2.2040816326530432, pvalue=0.13764584551826528)\n",
      "2014:\n",
      "cold v mid\n",
      "KruskalResult(statistic=35.265306122448976, pvalue=2.8771198291039801e-09)\n",
      "mid v warm\n",
      "KruskalResult(statistic=0.9795918367346701, pvalue=0.32229959587192503)\n",
      "warm v cold\n",
      "KruskalResult(statistic=35.265306122448976, pvalue=2.8771198291039801e-09)\n",
      "2013 v 2014:\n",
      "cold13 v cold14\n",
      "KruskalResult(statistic=35.265306122448976, pvalue=2.8771198291039801e-09)\n",
      "mid13 v mid14\n",
      "KruskalResult(statistic=0.2057823129251517, pvalue=0.65009346234851839)\n",
      "warm13 v warm 14\n",
      "KruskalResult(statistic=5.3333333333333428, pvalue=0.020921335337793955)\n"
     ]
    }
   ],
   "source": [
    "print('2013:')\n",
    "print('cold v mid')\n",
    "print stats.kruskal(featurediurnaldata(df2013cold, 'Dusttraks_(mg/m3)'), featurediurnaldata(df2013mid, 'Dusttraks_(mg/m3)'))\n",
    "print ('mid v warm')\n",
    "print stats.kruskal(featurediurnaldata(df2013mid, 'Dusttraks_(mg/m3)'), featurediurnaldata(df2013warm, 'Dusttraks_(mg/m3)'))\n",
    "print('warm v cold')\n",
    "print stats.kruskal(featurediurnaldata(df2013cold, 'Dusttraks_(mg/m3)'), featurediurnaldata(df2013warm, 'Dusttraks_(mg/m3)'))\n",
    "\n",
    "print('2014:')\n",
    "print('cold v mid')\n",
    "print stats.kruskal(featurediurnaldata(df2014cold, 'Dusttraks_(mg/m3)'), featurediurnaldata(df2014mid, 'Dusttraks_(mg/m3)'))\n",
    "print ('mid v warm')\n",
    "print stats.kruskal(featurediurnaldata(df2014mid, 'Dusttraks_(mg/m3)'), featurediurnaldata(df2014warm, 'Dusttraks_(mg/m3)'))\n",
    "print('warm v cold')\n",
    "print stats.kruskal(featurediurnaldata(df2014cold, 'Dusttraks_(mg/m3)'), featurediurnaldata(df2014warm, 'Dusttraks_(mg/m3)'))\n",
    "\n",
    "\n",
    "\n",
    "print('2013 v 2014:')\n",
    "print('cold13 v cold14')\n",
    "print stats.kruskal(featurediurnaldata(df2013cold, 'Dusttraks_(mg/m3)'), featurediurnaldata(df2014cold, 'Dusttraks_(mg/m3)'))\n",
    "# print ('cold13 v mid14')\n",
    "# print stats.kruskal(featurediurnaldata(df2013cold, 'Dusttraks_(mg/m3)'), featurediurnaldata(df2014mid, 'Dusttraks_(mg/m3)'))\n",
    "# print('cold13 v warm 14')\n",
    "# print stats.kruskal(featurediurnaldata(df2013cold, 'Dusttraks_(mg/m3)'), featurediurnaldata(df2014warm, 'Dusttraks_(mg/m3)'))\n",
    "# print('mid13 v cold14')\n",
    "# print stats.kruskal(featurediurnaldata(df2013mid, 'Dusttraks_(mg/m3)'), featurediurnaldata(df2014cold, 'Dusttraks_(mg/m3)'))\n",
    "print ('mid13 v mid14')\n",
    "print stats.kruskal(featurediurnaldata(df2013mid, 'Dusttraks_(mg/m3)'), featurediurnaldata(df2014mid, 'Dusttraks_(mg/m3)'))\n",
    "# print('mid13 v warm 14')\n",
    "# print stats.kruskal(featurediurnaldata(df2013mid, 'Dusttraks_(mg/m3)'), featurediurnaldata(df2014warm, 'Dusttraks_(mg/m3)'))\n",
    "# print('warm13 v cold14')\n",
    "# print stats.kruskal(featurediurnaldata(df2013warm, 'Dusttraks_(mg/m3)'), featurediurnaldata(df2014cold, 'Dusttraks_(mg/m3)'))\n",
    "# print ('warm13 v mid14')\n",
    "# print stats.kruskal(featurediurnaldata(df2013warm, 'Dusttraks_(mg/m3)'), featurediurnaldata(df2014mid, 'Dusttraks_(mg/m3)'))\n",
    "print('warm13 v warm 14')\n",
    "print stats.kruskal(featurediurnaldata(df2013warm, 'Dusttraks_(mg/m3)'), featurediurnaldata(df2014warm, 'Dusttraks_(mg/m3)'))\n"
   ]
  },
  {
   "cell_type": "markdown",
   "metadata": {},
   "source": [
    "#### PM10 Temp/Yr Comparison"
   ]
  },
  {
   "cell_type": "code",
   "execution_count": 23,
   "metadata": {
    "collapsed": false
   },
   "outputs": [
    {
     "name": "stdout",
     "output_type": "stream",
     "text": [
      "2013:\n",
      "cold v mid\n",
      "KruskalResult(statistic=4.8677721088435248, pvalue=0.027362804465867491)\n",
      "mid v warm\n",
      "KruskalResult(statistic=4.5986394557823189, pvalue=0.031997339376391432)\n",
      "warm v cold\n",
      "KruskalResult(statistic=11.158163265306115, pvalue=0.00083662713111930611)\n",
      "2014:\n",
      "cold v mid\n",
      "KruskalResult(statistic=10.884353741496597, pvalue=0.00096980012562292498)\n",
      "mid v warm\n",
      "KruskalResult(statistic=9.1875, pvalue=0.0024367348089890124)\n",
      "warm v cold\n",
      "KruskalResult(statistic=34.534438775510182, pvalue=4.1877605736255801e-09)\n",
      "2013 v 2014:\n",
      "cold13 v cold14\n",
      "KruskalResult(statistic=6.3282312925170174, pvalue=0.011883077001124228)\n",
      "mid13 v mid14\n",
      "KruskalResult(statistic=1.4800170068027114, pvalue=0.22377186144942274)\n",
      "warm13 v warm 14\n",
      "KruskalResult(statistic=0.15348639455780244, pvalue=0.6952256530961467)\n"
     ]
    }
   ],
   "source": [
    "print('2013:')\n",
    "print('cold v mid')\n",
    "print stats.kruskal(featurediurnaldata(df2013cold, 'PM10_(ug/m3)'), featurediurnaldata(df2013mid, 'PM10_(ug/m3)'))\n",
    "print ('mid v warm')\n",
    "print stats.kruskal(featurediurnaldata(df2013mid, 'PM10_(ug/m3)'), featurediurnaldata(df2013warm, 'PM10_(ug/m3)'))\n",
    "print('warm v cold')\n",
    "print stats.kruskal(featurediurnaldata(df2013cold, 'PM10_(ug/m3)'), featurediurnaldata(df2013warm, 'PM10_(ug/m3)'))\n",
    "\n",
    "print('2014:')\n",
    "print('cold v mid')\n",
    "print stats.kruskal(featurediurnaldata(df2014cold, 'PM10_(ug/m3)'), featurediurnaldata(df2014mid, 'PM10_(ug/m3)'))\n",
    "print ('mid v warm')\n",
    "print stats.kruskal(featurediurnaldata(df2014mid, 'PM10_(ug/m3)'), featurediurnaldata(df2014warm, 'PM10_(ug/m3)'))\n",
    "print('warm v cold')\n",
    "print stats.kruskal(featurediurnaldata(df2014cold, 'PM10_(ug/m3)'), featurediurnaldata(df2014warm, 'PM10_(ug/m3)'))\n",
    "\n",
    "\n",
    "print('2013 v 2014:')\n",
    "print('cold13 v cold14')\n",
    "print stats.kruskal(featurediurnaldata(df2013cold, 'PM10_(ug/m3)'), featurediurnaldata(df2014cold, 'PM10_(ug/m3)'))\n",
    "# print ('cold13 v mid14')\n",
    "# print stats.kruskal(featurediurnaldata(df2013cold, 'PM10_(ug/m3)'), featurediurnaldata(df2014mid, 'PM10_(ug/m3)'))\n",
    "# print('cold13 v warm 14')\n",
    "# print stats.kruskal(featurediurnaldata(df2013cold, 'PM10_(ug/m3)'), featurediurnaldata(df2014warm, 'PM10_(ug/m3)'))\n",
    "# print('mid13 v cold14')\n",
    "# print stats.kruskal(featurediurnaldata(df2013mid, 'PM10_(ug/m3)'), featurediurnaldata(df2014cold, 'PM10_(ug/m3)'))\n",
    "print ('mid13 v mid14')\n",
    "print stats.kruskal(featurediurnaldata(df2013mid, 'PM10_(ug/m3)'), featurediurnaldata(df2014mid, 'PM10_(ug/m3)'))\n",
    "# print('mid13 v warm 14')\n",
    "# print stats.kruskal(featurediurnaldata(df2013mid, 'PM10_(ug/m3)'), featurediurnaldata(df2014warm, 'PM10_(ug/m3)'))\n",
    "# print('warm13 v cold14')\n",
    "# print stats.kruskal(featurediurnaldata(df2013warm, 'PM10_(ug/m3)'), featurediurnaldata(df2014cold, 'PM10_(ug/m3)'))\n",
    "# print ('warm13 v mid14')\n",
    "# print stats.kruskal(featurediurnaldata(df2013warm, 'PM10_(ug/m3)'), featurediurnaldata(df2014mid, 'PM10_(ug/m3)'))\n",
    "print('warm13 v warm 14')\n",
    "print stats.kruskal(featurediurnaldata(df2013warm, 'PM10_(ug/m3)'), featurediurnaldata(df2014warm, 'PM10_(ug/m3)'))\n"
   ]
  },
  {
   "cell_type": "markdown",
   "metadata": {},
   "source": [
    "#### PM2.5 Temp/Year Comparison"
   ]
  },
  {
   "cell_type": "code",
   "execution_count": 24,
   "metadata": {
    "collapsed": false
   },
   "outputs": [
    {
     "name": "stdout",
     "output_type": "stream",
     "text": [
      "2013:\n",
      "cold v mid\n",
      "KruskalResult(statistic=6.5374149659863861, pvalue=0.010562872887388651)\n",
      "mid v warm\n",
      "KruskalResult(statistic=4.2517006802721085, pvalue=0.039211044773599643)\n",
      "warm v cold\n",
      "KruskalResult(statistic=9.1875, pvalue=0.0024367348089890124)\n",
      "2014:\n",
      "cold v mid\n",
      "KruskalResult(statistic=9.0629251700680413, pvalue=0.0026084434918926792)\n",
      "mid v warm\n",
      "KruskalResult(statistic=2.4557823129251801, pvalue=0.11709281778662622)\n",
      "warm v cold\n",
      "KruskalResult(statistic=10.214710884353735, pvalue=0.0013932483320315172)\n",
      "2013 v 2014:\n",
      "cold13 v cold14\n",
      "KruskalResult(statistic=1.5820578231292473, pvalue=0.208464529537846)\n",
      "mid13 v mid14\n",
      "KruskalResult(statistic=6.6432823129251801, pvalue=0.0099530391205958288)\n",
      "warm13 v warm 14\n",
      "KruskalResult(statistic=13.62287414965985, pvalue=0.00022344635085947304)\n"
     ]
    }
   ],
   "source": [
    "print('2013:')\n",
    "print('cold v mid')\n",
    "print stats.kruskal(featurediurnaldata(df2013cold, 'PM2.5_(ug/m3)'), featurediurnaldata(df2013mid, 'PM2.5_(ug/m3)'))\n",
    "print ('mid v warm')\n",
    "print stats.kruskal(featurediurnaldata(df2013mid, 'PM2.5_(ug/m3)'), featurediurnaldata(df2013warm, 'PM2.5_(ug/m3)'))\n",
    "print('warm v cold')\n",
    "print stats.kruskal(featurediurnaldata(df2013cold, 'PM2.5_(ug/m3)'), featurediurnaldata(df2013warm, 'PM2.5_(ug/m3)'))\n",
    "\n",
    "print('2014:')\n",
    "print('cold v mid')\n",
    "print stats.kruskal(featurediurnaldata(df2014cold, 'PM2.5_(ug/m3)'), featurediurnaldata(df2014mid, 'PM2.5_(ug/m3)'))\n",
    "print ('mid v warm')\n",
    "print stats.kruskal(featurediurnaldata(df2014mid, 'PM2.5_(ug/m3)'), featurediurnaldata(df2014warm, 'PM2.5_(ug/m3)'))\n",
    "print('warm v cold')\n",
    "print stats.kruskal(featurediurnaldata(df2014cold, 'PM2.5_(ug/m3)'), featurediurnaldata(df2014warm, 'PM2.5_(ug/m3)'))\n",
    "\n",
    "\n",
    "print('2013 v 2014:')\n",
    "print('cold13 v cold14')\n",
    "print stats.kruskal(featurediurnaldata(df2013cold, 'PM2.5_(ug/m3)'), featurediurnaldata(df2014cold, 'PM2.5_(ug/m3)'))\n",
    "# print ('cold13 v mid14')\n",
    "# print stats.kruskal(featurediurnaldata(df2013cold, 'PM2.5_(ug/m3)'), featurediurnaldata(df2014mid, 'PM2.5_(ug/m3)'))\n",
    "# print('cold13 v warm 14')\n",
    "# print stats.kruskal(featurediurnaldata(df2013cold, 'PM2.5_(ug/m3)'), featurediurnaldata(df2014warm, 'PM2.5_(ug/m3)'))\n",
    "# print('mid13 v cold14')\n",
    "# print stats.kruskal(featurediurnaldata(df2013mid, 'PM2.5_(ug/m3)'), featurediurnaldata(df2014cold, 'PM2.5_(ug/m3)'))\n",
    "print ('mid13 v mid14')\n",
    "print stats.kruskal(featurediurnaldata(df2013mid, 'PM2.5_(ug/m3)'), featurediurnaldata(df2014mid, 'PM2.5_(ug/m3)'))\n",
    "# print('mid13 v warm 14')\n",
    "# print stats.kruskal(featurediurnaldata(df2013mid, 'PM2.5_(ug/m3)'), featurediurnaldata(df2014warm, 'PM2.5_(ug/m3)'))\n",
    "# print('warm13 v cold14')\n",
    "# print stats.kruskal(featurediurnaldata(df2013warm, 'PM2.5_(ug/m3)'), featurediurnaldata(df2014cold, 'PM2.5_(ug/m3)'))\n",
    "# print ('warm13 v mid14')\n",
    "# print stats.kruskal(featurediurnaldata(df2013warm, 'PM2.5_(ug/m3)'), featurediurnaldata(df2014mid, 'PM2.5_(ug/m3)'))\n",
    "print('warm13 v warm 14')\n",
    "print stats.kruskal(featurediurnaldata(df2013warm, 'PM2.5_(ug/m3)'), featurediurnaldata(df2014warm, 'PM2.5_(ug/m3)'))\n"
   ]
  },
  {
   "cell_type": "markdown",
   "metadata": {},
   "source": [
    "#### SO2 Temp/Yr Comparison"
   ]
  },
  {
   "cell_type": "code",
   "execution_count": 26,
   "metadata": {
    "collapsed": false
   },
   "outputs": [
    {
     "name": "stdout",
     "output_type": "stream",
     "text": [
      "2013:\n",
      "cold v mid\n",
      "KruskalResult(statistic=0.1875, pvalue=0.66500554210202911)\n",
      "mid v warm\n",
      "KruskalResult(statistic=0.52083333333331439, pvalue=0.47048642205879776)\n",
      "warm v cold\n",
      "KruskalResult(statistic=0.03443877551018204, pvalue=0.8527765917754816)\n",
      "2014:\n",
      "cold v mid\n",
      "KruskalResult(statistic=2.3282312925170174, pvalue=0.12704615837680686)\n",
      "mid v warm\n",
      "KruskalResult(statistic=7.4081632653061149, pvalue=0.0064928577450839159)\n",
      "warm v cold\n",
      "KruskalResult(statistic=15.348639455782319, pvalue=8.9385273036968251e-05)\n",
      "2013 v 2014:\n",
      "cold13 v cold14\n",
      "KruskalResult(statistic=32.62287414965985, pvalue=1.118901363554243e-08)\n",
      "mid13 v mid14\n",
      "KruskalResult(statistic=29.632653061224488, pvalue=5.2217844294602699e-08)\n",
      "warm13 v warm 14\n",
      "KruskalResult(statistic=10.480017006802711, pvalue=0.0012067264548071882)\n"
     ]
    }
   ],
   "source": [
    "print('2013:')\n",
    "print('cold v mid')\n",
    "print stats.kruskal(featurediurnaldata(df2013cold, 'SO2_(ppb)'), featurediurnaldata(df2013mid, 'SO2_(ppb)'))\n",
    "print ('mid v warm')\n",
    "print stats.kruskal(featurediurnaldata(df2013mid, 'SO2_(ppb)'), featurediurnaldata(df2013warm, 'SO2_(ppb)'))\n",
    "print('warm v cold')\n",
    "print stats.kruskal(featurediurnaldata(df2013cold, 'SO2_(ppb)'), featurediurnaldata(df2013warm, 'SO2_(ppb)'))\n",
    "\n",
    "print('2014:')\n",
    "print('cold v mid')\n",
    "print stats.kruskal(featurediurnaldata(df2014cold, 'SO2_(ppb)'), featurediurnaldata(df2014mid, 'SO2_(ppb)'))\n",
    "print ('mid v warm')\n",
    "print stats.kruskal(featurediurnaldata(df2014mid, 'SO2_(ppb)'), featurediurnaldata(df2014warm, 'SO2_(ppb)'))\n",
    "print('warm v cold')\n",
    "print stats.kruskal(featurediurnaldata(df2014cold, 'SO2_(ppb)'), featurediurnaldata(df2014warm, 'SO2_(ppb)'))\n",
    "\n",
    "\n",
    "print('2013 v 2014:')\n",
    "print('cold13 v cold14')\n",
    "print stats.kruskal(featurediurnaldata(df2013cold, 'SO2_(ppb)'), featurediurnaldata(df2014cold, 'SO2_(ppb)'))\n",
    "# print ('cold13 v mid14')\n",
    "# print stats.kruskal(featurediurnaldata(df2013cold, 'SO2_(ppb)'), featurediurnaldata(df2014mid, 'SO2_(ppb)'))\n",
    "# print('cold13 v warm 14')\n",
    "# print stats.kruskal(featurediurnaldata(df2013cold, 'SO2_(ppb)'), featurediurnaldata(df2014warm, 'SO2_(ppb)'))\n",
    "# print('mid13 v cold14')\n",
    "# print stats.kruskal(featurediurnaldata(df2013mid, 'SO2_(ppb)'), featurediurnaldata(df2014cold, 'SO2_(ppb)'))\n",
    "print ('mid13 v mid14')\n",
    "print stats.kruskal(featurediurnaldata(df2013mid, 'SO2_(ppb)'), featurediurnaldata(df2014mid, 'SO2_(ppb)'))\n",
    "# print('mid13 v warm 14')\n",
    "# print stats.kruskal(featurediurnaldata(df2013mid, 'SO2_(ppb)'), featurediurnaldata(df2014warm, 'SO2_(ppb)'))\n",
    "# print('warm13 v cold14')\n",
    "# print stats.kruskal(featurediurnaldata(df2013warm, 'SO2_(ppb)'), featurediurnaldata(df2014cold, 'SO2_(ppb)'))\n",
    "# print ('warm13 v mid14')\n",
    "# print stats.kruskal(featurediurnaldata(df2013warm, 'SO2_(ppb)'), featurediurnaldata(df2014mid, 'SO2_(ppb)'))\n",
    "print('warm13 v warm 14')\n",
    "print stats.kruskal(featurediurnaldata(df2013warm, 'SO2_(ppb)'), featurediurnaldata(df2014warm, 'SO2_(ppb)'))\n"
   ]
  },
  {
   "cell_type": "markdown",
   "metadata": {},
   "source": [
    "#### CO Temp/Yr Comparison"
   ]
  },
  {
   "cell_type": "code",
   "execution_count": 28,
   "metadata": {
    "collapsed": false
   },
   "outputs": [
    {
     "name": "stdout",
     "output_type": "stream",
     "text": [
      "2013:\n",
      "cold v mid\n",
      "KruskalResult(statistic=17.922247023809511, pvalue=2.3011545651138253e-05)\n",
      "mid v warm\n",
      "KruskalResult(statistic=0.020837857401356363, pvalue=0.88522154042386314)\n",
      "warm v cold\n",
      "KruskalResult(statistic=9.0822950325866518, pvalue=0.0025809594651768717)\n",
      "2014:\n",
      "cold v mid\n",
      "KruskalResult(statistic=0.38265306122448806, pvalue=0.53618677190017472)\n",
      "mid v warm\n",
      "KruskalResult(statistic=0.010629251700663644, pvalue=0.91788498411547881)\n",
      "warm v cold\n",
      "KruskalResult(statistic=0.015306122448976112, pvalue=0.90153862665713902)\n",
      "2013 v 2014:\n",
      "cold13 v cold14\n",
      "KruskalResult(statistic=26.867804515098726, pvalue=2.1785802291328526e-07)\n",
      "mid13 v mid14\n",
      "KruskalResult(statistic=0.68027210884352485, pvalue=0.40949304017811938)\n",
      "warm13 v warm 14\n",
      "KruskalResult(statistic=0.33340571842198613, pvalue=0.56366052602770611)\n"
     ]
    }
   ],
   "source": [
    "print('2013:')\n",
    "print('cold v mid')\n",
    "print stats.kruskal(featurediurnaldata(df2013cold, 'CO_(ppm)'), featurediurnaldata(df2013mid, 'CO_(ppm)'))\n",
    "print ('mid v warm')\n",
    "print stats.kruskal(featurediurnaldata(df2013mid, 'CO_(ppm)'), featurediurnaldata(df2013warm, 'CO_(ppm)'))\n",
    "print('warm v cold')\n",
    "print stats.kruskal(featurediurnaldata(df2013cold, 'CO_(ppm)'), featurediurnaldata(df2013warm, 'CO_(ppm)'))\n",
    "\n",
    "print('2014:')\n",
    "print('cold v mid')\n",
    "print stats.kruskal(featurediurnaldata(df2014cold, 'CO_(ppm)'), featurediurnaldata(df2014mid, 'CO_(ppm)'))\n",
    "print ('mid v warm')\n",
    "print stats.kruskal(featurediurnaldata(df2014mid, 'CO_(ppm)'), featurediurnaldata(df2014warm, 'CO_(ppm)'))\n",
    "print('warm v cold')\n",
    "print stats.kruskal(featurediurnaldata(df2014cold, 'CO_(ppm)'), featurediurnaldata(df2014warm, 'CO_(ppm)'))\n",
    "\n",
    "\n",
    "print('2013 v 2014:')\n",
    "print('cold13 v cold14')\n",
    "print stats.kruskal(featurediurnaldata(df2013cold, 'CO_(ppm)'), featurediurnaldata(df2014cold, 'CO_(ppm)'))\n",
    "# print ('cold13 v mid14')\n",
    "# print stats.kruskal(featurediurnaldata(df2013cold, 'CO_(ppm)'), featurediurnaldata(df2014mid, 'CO_(ppm)'))\n",
    "# print('cold13 v warm 14')\n",
    "# print stats.kruskal(featurediurnaldata(df2013cold, 'CO_(ppm)'), featurediurnaldata(df2014warm, 'CO_(ppm)'))\n",
    "# print('mid13 v cold14')\n",
    "# print stats.kruskal(featurediurnaldata(df2013mid, 'CO_(ppm)'), featurediurnaldata(df2014cold, 'CO_(ppm)'))\n",
    "print ('mid13 v mid14')\n",
    "print stats.kruskal(featurediurnaldata(df2013mid, 'CO_(ppm)'), featurediurnaldata(df2014mid, 'CO_(ppm)'))\n",
    "# print('mid13 v warm 14')\n",
    "# print stats.kruskal(featurediurnaldata(df2013mid, 'CO_(ppm)'), featurediurnaldata(df2014warm, 'CO_(ppm)'))\n",
    "# print('warm13 v cold14')\n",
    "# print stats.kruskal(featurediurnaldata(df2013warm, 'CO_(ppm)'), featurediurnaldata(df2014cold, 'CO_(ppm)'))\n",
    "# print ('warm13 v mid14')\n",
    "# print stats.kruskal(featurediurnaldata(df2013warm, 'CO_(ppm)'), featurediurnaldata(df2014mid, 'CO_(ppm)'))\n",
    "print('warm13 v warm 14')\n",
    "print stats.kruskal(featurediurnaldata(df2013warm, 'CO_(ppm)'), featurediurnaldata(df2014warm, 'CO_(ppm)'))\n"
   ]
  },
  {
   "cell_type": "code",
   "execution_count": null,
   "metadata": {
    "collapsed": true
   },
   "outputs": [],
   "source": []
  }
 ],
 "metadata": {
  "kernelspec": {
   "display_name": "Python 2",
   "language": "python",
   "name": "python2"
  },
  "language_info": {
   "codemirror_mode": {
    "name": "ipython",
    "version": 2
   },
   "file_extension": ".py",
   "mimetype": "text/x-python",
   "name": "python",
   "nbconvert_exporter": "python",
   "pygments_lexer": "ipython2",
   "version": "2.7.11"
  }
 },
 "nbformat": 4,
 "nbformat_minor": 0
}

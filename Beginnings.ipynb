{
 "cells": [
  {
   "cell_type": "code",
   "execution_count": 1,
   "metadata": {
    "collapsed": false
   },
   "outputs": [
    {
     "name": "stdout",
     "output_type": "stream",
     "text": [
      "<class 'pandas.core.frame.DataFrame'>\n",
      "Int64Index: 125475 entries, 0 to 125474\n",
      "Data columns (total 24 columns):\n",
      "Unnamed: 0            125475 non-null int64\n",
      "Dusttraks_(mg/m3)     116559 non-null float64\n",
      "PM10_(ug/m3)          64669 non-null float64\n",
      "PM2.5_(ug/m3)         79939 non-null float64\n",
      "SO2_(ppb)             86106 non-null float64\n",
      "CO_(ppm)              18618 non-null float64\n",
      "NO_(ppb)              65526 non-null float64\n",
      "NO2_(ppb)             65661 non-null float64\n",
      "Date                  125475 non-null object\n",
      "Temperature_(degC)    101947 non-null float64\n",
      "H01-K-E               125288 non-null float64\n",
      "H02-K-N               105235 non-null float64\n",
      "H03-K-S               125304 non-null float64\n",
      "H04-K-S               125275 non-null float64\n",
      "H05-K-N               122834 non-null float64\n",
      "H06-K-N               125353 non-null float64\n",
      "H07-K-S               81779 non-null float64\n",
      "H10-K-N               125297 non-null float64\n",
      "H11-K-X               113919 non-null float64\n",
      "H12-K-N               125271 non-null float64\n",
      "H15-K-S               125316 non-null float64\n",
      "H17-K-N               125344 non-null float64\n",
      "H18-K-S               125299 non-null float64\n",
      "H20-K-S               125284 non-null float64\n",
      "dtypes: float64(22), int64(1), object(1)\n",
      "memory usage: 23.9+ MB\n",
      "None\n"
     ]
    }
   ],
   "source": [
    "import pandas as pd\n",
    "\n",
    "df = pd.read_csv('Kwadella_winter_2013_cleaned.csv')\n",
    "print df.info()\n"
   ]
  },
  {
   "cell_type": "code",
   "execution_count": 5,
   "metadata": {
    "collapsed": true
   },
   "outputs": [],
   "source": [
    "from datetime import datetime\n",
    "def get_datetime(s):\n",
    "    dt = datetime.strptime(s, \"%m/%d/%y %H:%M\")\n",
    "    return dt\n",
    "\n",
    "def preprocess(df):\n",
    "    res = df.copy()\n",
    "    datetimes = res.Date.apply(get_datetime)\n",
    "    res['Hour'] = datetimes.apply(lambda dt: dt.hour)\n",
    "    res['Day'] = datetimes.apply(lambda dt: dt.day)\n",
    "    res['Month'] = datetimes.apply(lambda dt: dt.month)\n",
    "    res['Year'] = datetimes.apply(lambda dt: dt.year)\n",
    "    return res\n"
   ]
  },
  {
   "cell_type": "code",
   "execution_count": 6,
   "metadata": {
    "collapsed": false
   },
   "outputs": [
    {
     "name": "stdout",
     "output_type": "stream",
     "text": [
      "<class 'pandas.core.frame.DataFrame'>\n",
      "Int64Index: 125475 entries, 0 to 125474\n",
      "Data columns (total 28 columns):\n",
      "Unnamed: 0            125475 non-null int64\n",
      "Dusttraks_(mg/m3)     116559 non-null float64\n",
      "PM10_(ug/m3)          64669 non-null float64\n",
      "PM2.5_(ug/m3)         79939 non-null float64\n",
      "SO2_(ppb)             86106 non-null float64\n",
      "CO_(ppm)              18618 non-null float64\n",
      "NO_(ppb)              65526 non-null float64\n",
      "NO2_(ppb)             65661 non-null float64\n",
      "Date                  125475 non-null object\n",
      "Temperature_(degC)    101947 non-null float64\n",
      "H01-K-E               125288 non-null float64\n",
      "H02-K-N               105235 non-null float64\n",
      "H03-K-S               125304 non-null float64\n",
      "H04-K-S               125275 non-null float64\n",
      "H05-K-N               122834 non-null float64\n",
      "H06-K-N               125353 non-null float64\n",
      "H07-K-S               81779 non-null float64\n",
      "H10-K-N               125297 non-null float64\n",
      "H11-K-X               113919 non-null float64\n",
      "H12-K-N               125271 non-null float64\n",
      "H15-K-S               125316 non-null float64\n",
      "H17-K-N               125344 non-null float64\n",
      "H18-K-S               125299 non-null float64\n",
      "H20-K-S               125284 non-null float64\n",
      "Hour                  125475 non-null int64\n",
      "Day                   125475 non-null int64\n",
      "Month                 125475 non-null int64\n",
      "Year                  125475 non-null int64\n",
      "dtypes: float64(22), int64(5), object(1)\n",
      "memory usage: 27.8+ MB\n",
      "None\n"
     ]
    }
   ],
   "source": [
    "df2 = preprocess(df)\n",
    "df2.head()\n",
    "print df2.info()"
   ]
  },
  {
   "cell_type": "code",
   "execution_count": 7,
   "metadata": {
    "collapsed": false
   },
   "outputs": [
    {
     "name": "stderr",
     "output_type": "stream",
     "text": [
      "/home/brenna/anaconda2/lib/python2.7/site-packages/matplotlib/__init__.py:872: UserWarning: axes.color_cycle is deprecated and replaced with axes.prop_cycle; please use the latter.\n",
      "  warnings.warn(self.msg_depr % (key, alt_key))\n"
     ]
    }
   ],
   "source": [
    "%matplotlib inline\n",
    "\n",
    "import pandas as pd\n",
    "import matplotlib.pyplot as plt\n",
    "from matplotlib.ticker import ScalarFormatter, FormatStrFormatter\n",
    "import seaborn as sns\n",
    "import numpy as np\n",
    "import pprint as pp\n",
    "from IPython.display import display"
   ]
  },
  {
   "cell_type": "code",
   "execution_count": 20,
   "metadata": {
    "collapsed": false
   },
   "outputs": [
    {
     "data": {
      "text/plain": [
       "<matplotlib.collections.PathCollection at 0x7f0837c5efd0>"
      ]
     },
     "execution_count": 20,
     "metadata": {},
     "output_type": "execute_result"
    },
    {
     "data": {
      "image/png": "[encoded data removed]",
      "text/plain": [
       "<matplotlib.figure.Figure at 0x7f0837d056d0>"
      ]
     },
     "metadata": {},
     "output_type": "display_data"
    }
   ],
   "source": [
    "dfjuly = df2[df2['Month'] ==7]\n",
    "\n",
    "plt.scatter(dfjuly['Day'], dfjuly['Temperature_(degC)'] )"
   ]
  },
  {
   "cell_type": "code",
   "execution_count": null,
   "metadata": {
    "collapsed": true
   },
   "outputs": [],
   "source": []
  },
  {
   "cell_type": "code",
   "execution_count": null,
   "metadata": {
    "collapsed": true
   },
   "outputs": [],
   "source": []
  }
 ],
 "metadata": {
  "kernelspec": {
   "display_name": "Python 2",
   "language": "python",
   "name": "python2"
  },
  "language_info": {
   "codemirror_mode": {
    "name": "ipython",
    "version": 2
   },
   "file_extension": ".py",
   "mimetype": "text/x-python",
   "name": "python",
   "nbconvert_exporter": "python",
   "pygments_lexer": "ipython2",
   "version": "2.7.11"
  }
 },
 "nbformat": 4,
 "nbformat_minor": 0
}

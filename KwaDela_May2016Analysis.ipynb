{
 "cells": [
  {
   "cell_type": "markdown",
   "metadata": {},
   "source": [
    "# Investigating KwaDela: May 2016 Analysis\n",
    "-----------------------------------------------------"
   ]
  },
  {
   "cell_type": "markdown",
   "metadata": {},
   "source": [
    "### Data Science 2016 Final Project\n",
    "Mackenzie Frackleton\n",
    "\n",
    "Brenna Manning\n",
    "\n",
    "Olin College of Engineering"
   ]
  },
  {
   "cell_type": "markdown",
   "metadata": {},
   "source": [
    "#### Initial Proposal\n",
    "The key ideas of this project are to work with an external collaborator to understand a data set. We are also looking to work with a time course data series in this project; we need to find the best way to examine data in a temporal dimension and not misrepresent with values that gather multi-week spanning data into one misleading value (non meaningful means for example). We’ve both also done a fair bit of work with data visualization and are looking to enhance the experience by finding effective techniques for representing data across time. We’re hoping we can look at existing journal articles and other peer-reviewed documents for inspiration on appropriate visualization techniques. We haven’t used much of what we have discussed in Thinkstats2 in projects yet, so we are now looking to apply these statistics techniques for comparing time course datasets (we do not yet know what these conventions are) to our data-heavy project. The MVP for this project would be well documented code with visualizations to make data relationships more clear in order to further data analysis."
   ]
  },
  {
   "cell_type": "markdown",
   "metadata": {},
   "source": [
    "### Imports, loading and cleaning data, defining functions to be used later."
   ]
  },
  {
   "cell_type": "code",
   "execution_count": 2,
   "metadata": {
    "collapsed": false
   },
   "outputs": [
    {
     "name": "stderr",
     "output_type": "stream",
     "text": [
      "/home/brenna/anaconda2/lib/python2.7/site-packages/matplotlib/__init__.py:872: UserWarning: axes.color_cycle is deprecated and replaced with axes.prop_cycle; please use the latter.\n",
      "  warnings.warn(self.msg_depr % (key, alt_key))\n"
     ]
    }
   ],
   "source": [
    "#IMPORTS\n",
    "import pandas as pd\n",
    "import numpy as np\n",
    "from datetime import datetime\n",
    "%matplotlib inline\n",
    "import pandas as pd\n",
    "import matplotlib.pyplot as plt\n",
    "from matplotlib.ticker import ScalarFormatter, FormatStrFormatter\n",
    "import seaborn as sns\n",
    "import numpy as np\n",
    "import pprint as pp\n",
    "from IPython.display import display\n",
    "import scipy.stats as stats\n",
    "\n",
    "#LOAD DATA FROM CSVs FROM CSVBUILDER\n",
    "df2013 = pd.read_csv('Kwadela_winter_2013_cleaned.csv')\n",
    "df2014 = pd.read_csv('Kwadela_winter_2014_cleaned.csv')\n"
   ]
  },
  {
   "cell_type": "markdown",
   "metadata": {},
   "source": [
    "#### Helper Functions"
   ]
  },
  {
   "cell_type": "code",
   "execution_count": 3,
   "metadata": {
    "collapsed": false
   },
   "outputs": [],
   "source": [
    "#SOME HELPER FUNCTIONS\n",
    "\n",
    "\n",
    "def get_datetime(s):\n",
    "    #gets date objects from the date column of the csv\n",
    "    dt = datetime.strptime(s, \"%m/%d/%y %H:%M\")\n",
    "    return dt\n",
    "\n",
    "def daysSinceStart(df):\n",
    "    #Get time since epoch\n",
    "    dayArray = np.array(df.Day)\n",
    "    monthArray = np.array(df.Month)\n",
    "    \n",
    "    runningDays = []\n",
    "    for day, month in zip(dayArray, monthArray):\n",
    "        if month == 7:\n",
    "            total_days = 0\n",
    "            #do nothing, append the normal day\n",
    "        elif month == 8:\n",
    "            total_days = 31 \n",
    "        elif month == 9:\n",
    "            total_days = 61\n",
    "        else:\n",
    "            raise ValueError \n",
    "        total_days = total_days + day\n",
    "        #print'tot days:', total_days, month, day\n",
    "        runningDays.append(total_days)\n",
    "    df['DayCount'] = pd.Series(runningDays, index = df.index)\n",
    "    return df\n",
    "\n",
    "\n",
    "#Daily Average Temperature\n",
    "\n",
    "def compute_avg_vals(df):\n",
    "    #computes average temperature of each day in a dataframe\n",
    "    df['DailyAverageTemp'] = df['Temperature_(degC)'].mean()\n",
    "    df['DailyAverageTempH01KE'] = df['H01-K-E'].mean()\n",
    "    #computes avg indoor temp: takes in a dataframe and returns a dataframe with a new column\n",
    "    #Removed: df['H07-K-S'].mean() because it's mostly just Nans\n",
    "    df['AvgHouse'] = (df['H01-K-E'].mean()+ df['H02-K-N'].mean() + df['H03-K-S'].mean()+ df['H04-K-S'].mean())/4\n",
    "    #df['DailyAvgHouse']= df['AvgHouse'].mean()\n",
    "    #Dusttraks/PM4\n",
    "    df['DailyAvgDusttraks'] = df['Dusttraks_(mg/m3)'].mean()\n",
    "    df['DailyAvgPM4'] = df['PM4_(ug/m3)'].mean()\n",
    "    return df\n",
    "\n",
    "\n",
    "def tempdifference(df, house):\n",
    "    # given a dataframe and a home, computes a column of the difference in temperature between that house and outside\n",
    "    df['tempdifference'] = df[house]\n",
    "    df['tempdifference'] = df[house]-df['Temperature_(degC)']\n",
    "    return df\n",
    "\n",
    "\n",
    "def abcdeTimeDataframes(df):\n",
    "    #DATAFRAMES FOR GIVEN TIME RANGES\n",
    "    dfA = df[df['Hour'] < 5]\n",
    "    dfB = df[df['Hour'] > 4]\n",
    "    dfB = dfB[dfB['Hour'] <= 9]\n",
    "    dfC = df[df['Hour'] >9]\n",
    "    dfC = dfC[dfC['Hour'] <= 14]\n",
    "    dfD = df[df['Hour'] >14]\n",
    "    dfD = dfD[dfD['Hour'] <= 21]\n",
    "    dfE = df[df['Hour'] > 21]\n",
    "    res = [dfA, dfB, dfC, dfD, dfE]\n",
    "    return res\n",
    "\n",
    "\n",
    "#GENERAL FUNCTION FOR DIURNAL DATA\n",
    "\n",
    "def getmeanfeatureforhour(hourdf, feature):\n",
    "    #calculates the average value of a feature\n",
    "    res = hourdf[feature].mean()\n",
    "    return res\n",
    "def featurediurnaldata(df, feature):\n",
    "    #feature for example could be a temperature or pollutant concentration\n",
    "    dfhour0 = df[df['Hour'] == 0]\n",
    "    feat0 = getmeanfeatureforhour(dfhour0, feature)\n",
    "    dfhour1 = df[df['Hour'] == 1]\n",
    "    feat1= getmeanfeatureforhour(dfhour1, feature)\n",
    "    dfhour2 = df[df['Hour'] == 2]\n",
    "    feat2 = getmeanfeatureforhour(dfhour2, feature)\n",
    "    dfhour3 = df[df['Hour'] == 3]\n",
    "    feat3 = getmeanfeatureforhour(dfhour3, feature)\n",
    "    dfhour4 = df[df['Hour'] == 4]\n",
    "    feat4 = getmeanfeatureforhour(dfhour4, feature)\n",
    "    dfhour5 = df[df['Hour'] == 5]\n",
    "    feat5 = getmeanfeatureforhour(dfhour5, feature)\n",
    "    dfhour6 = df[df['Hour'] == 6]\n",
    "    feat6 = getmeanfeatureforhour(dfhour6, feature)\n",
    "    dfhour7 = df[df['Hour'] == 7]\n",
    "    feat7 = getmeanfeatureforhour(dfhour7, feature)\n",
    "    dfhour8 = df[df['Hour'] == 8]\n",
    "    feat8 = getmeanfeatureforhour(dfhour8, feature)\n",
    "    dfhour9 = df[df['Hour'] == 9]\n",
    "    feat9 = getmeanfeatureforhour(dfhour9, feature)\n",
    "    dfhour10 = df[df['Hour'] == 10]\n",
    "    feat10 = getmeanfeatureforhour(dfhour10, feature)\n",
    "    dfhour11 = df[df['Hour'] == 11]\n",
    "    feat11 = getmeanfeatureforhour(dfhour11, feature)\n",
    "    dfhour12 = df[df['Hour'] == 12]\n",
    "    feat12 = getmeanfeatureforhour(dfhour12, feature)\n",
    "    dfhour13 = df[df['Hour'] == 13]\n",
    "    feat13 = getmeanfeatureforhour(dfhour13, feature)\n",
    "    dfhour14 = df[df['Hour'] == 14]\n",
    "    feat14 = getmeanfeatureforhour(dfhour14, feature)\n",
    "    dfhour15 = df[df['Hour'] == 15]\n",
    "    feat15 = getmeanfeatureforhour(dfhour15, feature)\n",
    "    dfhour16 = df[df['Hour'] == 16]\n",
    "    feat16 = getmeanfeatureforhour(dfhour16, feature)\n",
    "    dfhour17 = df[df['Hour'] == 17]\n",
    "    feat17 = getmeanfeatureforhour(dfhour17, feature)\n",
    "    dfhour18 = df[df['Hour'] == 18]\n",
    "    feat18 = getmeanfeatureforhour(dfhour18, feature)\n",
    "    dfhour19 = df[df['Hour'] == 19]\n",
    "    feat19 = getmeanfeatureforhour(dfhour19, feature)\n",
    "    dfhour20 = df[df['Hour'] == 20]\n",
    "    feat20 = getmeanfeatureforhour(dfhour20, feature)\n",
    "    dfhour21 = df[df['Hour'] == 21]\n",
    "    feat21 = getmeanfeatureforhour(dfhour21, feature)\n",
    "    dfhour22 = df[df['Hour'] == 22]\n",
    "    feat22 = getmeanfeatureforhour(dfhour22, feature)\n",
    "    dfhour23 = df[df['Hour'] == 23]\n",
    "    feat23 = getmeanfeatureforhour(dfhour23, feature)\n",
    "\n",
    "    featlist = [feat0,feat1,feat2,feat3,feat4,feat5,feat6,feat7,feat8,feat9,feat10,feat11,feat12,feat13,feat14,feat15,feat16,feat17,feat18,feat19,feat20,feat21,feat22,feat23]\n",
    "    return featlist\n",
    "\n",
    "\n",
    "\n",
    "def preprocess(df):\n",
    "    #set hour, day, month, year values from datetime. Apply dusttracks correction factor of 0.14\n",
    "    res = df.copy()\n",
    "    if hasattr(res, 'Date'):\n",
    "        datetimes = res.Date.apply(get_datetime)\n",
    "        res['Hour'] = datetimes.apply(lambda dt: dt.hour)\n",
    "        res['Day'] = datetimes.apply(lambda dt: dt.day)\n",
    "        res['Month'] = datetimes.apply(lambda dt: dt.month)\n",
    "        res['Year'] = datetimes.apply(lambda dt: dt.year)\n",
    "    res = daysSinceStart(res)\n",
    "    res = tempdifference(res, 'H02-K-N')\n",
    "    res['Dusttraks_(mg/m3)']= res['Dusttraks_(mg/m3)']*0.14\n",
    "    res['PM4_(ug/m3)']=res['Dusttraks_(mg/m3)']*1000\n",
    "    grouped = res.groupby('DayCount')\n",
    "    res = grouped.apply(compute_avg_vals)\n",
    "    return res\n",
    "\n",
    "\n"
   ]
  },
  {
   "cell_type": "markdown",
   "metadata": {},
   "source": [
    "### Preprocess our dataframes\n",
    "##### Get Hour, Day, Month, Year from Date object, apply Dusttraks correction factor, and create PM4 column with same units as PM2.5 & PM10\n"
   ]
  },
  {
   "cell_type": "code",
   "execution_count": 4,
   "metadata": {
    "collapsed": false
   },
   "outputs": [],
   "source": [
    "#PREPROCESS OUR DATAFRAMES\n",
    "df2013 = preprocess(df2013)\n",
    "df2014 = preprocess(df2014)"
   ]
  },
  {
   "cell_type": "markdown",
   "metadata": {
    "collapsed": true
   },
   "source": [
    "## First, we will examine just the 2013 data"
   ]
  },
  {
   "cell_type": "markdown",
   "metadata": {},
   "source": [
    "### Data Over Entire Winter"
   ]
  },
  {
   "cell_type": "code",
   "execution_count": 5,
   "metadata": {
    "collapsed": false
   },
   "outputs": [
    {
     "data": {
      "image/png": "[encoded data removed]",
      "text/plain": [
       "<matplotlib.figure.Figure at 0x7fb91458f2d0>"
      ]
     },
     "metadata": {},
     "output_type": "display_data"
    }
   ],
   "source": [
    "plt.figure(1)\n",
    "\n",
    "plt.subplot(211)\n",
    "plt.title('Temperature and Indoor PM4 Concentration Over Time')\n",
    "plt.plot(df2013['DayCount'], df2013['Temperature_(degC)'])\n",
    "plt.plot(df2013['DayCount'], df2013['H01-K-E'])\n",
    "plt.ylabel('Indoor/Outdoor Temp. (Deg C)')\n",
    "\n",
    "plt.subplot(212)\n",
    "plt.plot(df2013['DayCount'], df2013['PM4_(ug/m3)'], '-r')\n",
    "plt.xlabel('Days since July 1')\n",
    "plt.ylabel('PM4 Concentration(ug/m3)')\n",
    "plt.show()"
   ]
  },
  {
   "cell_type": "markdown",
   "metadata": {},
   "source": [
    "This visualization above is noisy and unclear. By taking the average temperature/concentration of each day of the winter and plotting that, we can see the trends over the course of the winter."
   ]
  },
  {
   "cell_type": "code",
   "execution_count": 6,
   "metadata": {
    "collapsed": false
   },
   "outputs": [
    {
     "data": {
      "image/png": "[encoded data removed]",
      "text/plain": [
       "<matplotlib.figure.Figure at 0x7fb8e12aab50>"
      ]
     },
     "metadata": {},
     "output_type": "display_data"
    }
   ],
   "source": [
    "#By Daily Averages\n",
    "plt.figure(1)\n",
    "\n",
    "plt.subplot(211)\n",
    "plt.title('Temperature and Indoor PM4 Concentration Over Time')\n",
    "plt.plot(df2013['DayCount'], df2013['DailyAverageTemp'])\n",
    "plt.plot(df2013['DayCount'], df2013['DailyAverageTempH01KE'])\n",
    "plt.ylabel('Indoor/Outdoor Temp. (Deg C)')\n",
    "\n",
    "plt.subplot(212)\n",
    "plt.plot(df2013['DayCount'], df2013['DailyAvgPM4'], '-r')\n",
    "plt.xlabel('Days since July 1')\n",
    "plt.ylabel('PM4 Concentration(ug/m3)')\n",
    "plt.show()"
   ]
  },
  {
   "cell_type": "markdown",
   "metadata": {},
   "source": [
    "### Diurnal Profiles of the Data\n",
    "Because the pollution is coming from coal burning within homes, which is influenced by daily routines, we see more meaningful trends when we examine this data diurnally. "
   ]
  },
  {
   "cell_type": "code",
   "execution_count": 7,
   "metadata": {
    "collapsed": true
   },
   "outputs": [],
   "source": [
    "#0-23 Hours of the day to use as x-axis for diurnal visualizations.\n",
    "hourlist = [0,1,2,3,4,5,6,7,8,9,10,11,12,13,14,15,16,17,18,19,20,21,22,23]"
   ]
  },
  {
   "cell_type": "markdown",
   "metadata": {},
   "source": [
    "Outdoor Temperature over the course of an average day"
   ]
  },
  {
   "cell_type": "code",
   "execution_count": 8,
   "metadata": {
    "collapsed": false
   },
   "outputs": [
    {
     "data": {
      "image/png": "[encoded data removed]",
      "text/plain": [
       "<matplotlib.figure.Figure at 0x7fb8e2064990>"
      ]
     },
     "metadata": {},
     "output_type": "display_data"
    }
   ],
   "source": [
    "plt.plot(hourlist, featurediurnaldata(df2013, 'Temperature_(degC)'))\n",
    "plt.legend(['2013'])\n",
    "plt.title('Diurnal Outdoor Temperature: Temp vs Time Avg Winter Day')\n",
    "plt.xlabel('Hour of Day')\n",
    "plt.ylabel('Temperature (Degrees Celsius)')\n",
    "plt.show()"
   ]
  },
  {
   "cell_type": "markdown",
   "metadata": {},
   "source": [
    "Indoor Temperature over the course of an average day for four different houses"
   ]
  },
  {
   "cell_type": "code",
   "execution_count": 9,
   "metadata": {
    "collapsed": false
   },
   "outputs": [
    {
     "data": {
      "image/png": "[encoded data removed]",
      "text/plain": [
       "<matplotlib.figure.Figure at 0x7fb8e2008fd0>"
      ]
     },
     "metadata": {},
     "output_type": "display_data"
    }
   ],
   "source": [
    "plt.plot(hourlist, featurediurnaldata(df2013, 'H01-K-E'))\n",
    "plt.plot(hourlist, featurediurnaldata(df2013, 'H02-K-N'))\n",
    "plt.plot(hourlist, featurediurnaldata(df2013, 'H03-K-S'))\n",
    "plt.plot(hourlist, featurediurnaldata(df2013, 'H04-K-S'))\n",
    "\n",
    "plt.legend(['House1', 'House2', 'House3', 'House4'])\n",
    "plt.title('Diurnal Indoor Kitchen Temperature: Temp vs Time Avg Winter Day')\n",
    "plt.xlabel('Hour of Day')\n",
    "plt.ylabel('Temperature (Degreed Celsius)')\n",
    "plt.show()"
   ]
  },
  {
   "cell_type": "markdown",
   "metadata": {},
   "source": [
    "Difference between indoor and outdoor temperature over the course of a day"
   ]
  },
  {
   "cell_type": "code",
   "execution_count": 13,
   "metadata": {
    "collapsed": false
   },
   "outputs": [
    {
     "data": {
      "image/png": "[encoded data removed]",
      "text/plain": [
       "<matplotlib.figure.Figure at 0x7fb8e1a83510>"
      ]
     },
     "metadata": {},
     "output_type": "display_data"
    }
   ],
   "source": [
    "hourlist23 = [0, 1, 2, 3, 4, 5, 6, 7, 8, 9, 10, 11, 12, 13, 14, 15, 16, 17, 18, 19, 20, 21, 22]\n",
    "plt.plot(hourlist23, np.diff(featurediurnaldata(df2013, 'tempdifference')))\n",
    "plt.title('Derivative Diurnal Indoor Outdoor Temperature Difference')\n",
    "plt.legend(['House2'])\n",
    "plt.ylabel('Temperature Difference (Degrees C')\n",
    "plt.show()"
   ]
  },
  {
   "cell_type": "code",
   "execution_count": null,
   "metadata": {
    "collapsed": true
   },
   "outputs": [],
   "source": [
    "plt.plot(hourlist, featurediurnaldata(df2013, 'tempdifference'))\n",
    "plt.title('Diurnal Indoor Outdoor Temperature Difference')\n",
    "plt.legend(['House2'])\n",
    "plt.ylabel('Temperature Difference (Degrees C')\n",
    "plt.show()"
   ]
  },
  {
   "cell_type": "code",
   "execution_count": null,
   "metadata": {
    "collapsed": false
   },
   "outputs": [],
   "source": [
    "plt.plot(hourlist, featurediurnaldata(df2013, 'PM4_(ug/m3)'))\n",
    "plt.legend(['2013'])\n",
    "plt.title('Diurnal PM4: Indoor PM4 Concentration vs Time Average Winter Day')\n",
    "plt.xlabel('Hour of Day')\n",
    "plt.ylabel('PM4 Concentration (ug/m3)')\n",
    "plt.show()"
   ]
  },
  {
   "cell_type": "code",
   "execution_count": null,
   "metadata": {
    "collapsed": false
   },
   "outputs": [],
   "source": [
    "plt.plot(hourlist, featurediurnaldata(df2013, 'PM10_(ug/m3)'))\n",
    "plt.legend(['2013'])\n",
    "plt.title('Diurnal PM10: Outdoor PM10 Concentration vs Time Average Winter Day')\n",
    "plt.xlabel('Hour of Day')\n",
    "plt.ylabel('PM10 Concentration (ug/m3)')\n",
    "plt.show()"
   ]
  },
  {
   "cell_type": "code",
   "execution_count": null,
   "metadata": {
    "collapsed": false
   },
   "outputs": [],
   "source": [
    "plt.plot(hourlist, featurediurnaldata(df2013, 'PM2.5_(ug/m3)'))\n",
    "plt.legend(['2013'])\n",
    "plt.title('Diurnal PM2.5: Outdoor PM2.5 Concentration vs Time Average Winter Day')\n",
    "plt.xlabel('Hour of Day')\n",
    "plt.ylabel('PM2.5 Concentration (ug/m3)')\n",
    "plt.show()"
   ]
  },
  {
   "cell_type": "code",
   "execution_count": null,
   "metadata": {
    "collapsed": false
   },
   "outputs": [],
   "source": [
    "plt.plot(hourlist, featurediurnaldata(df2013, 'CO_(ppm)'))\n",
    "plt.legend(['2013'])\n",
    "plt.title('Diurnal CO: Outdoor CO Concentration vs Time Average Winter Day')\n",
    "plt.xlabel('Hour of Day')\n",
    "plt.ylabel('CO Concentration (ppm)')\n",
    "plt.show()"
   ]
  },
  {
   "cell_type": "markdown",
   "metadata": {},
   "source": [
    "## Compare 2013 & 2014 Data\n",
    "### Pre Vs Post Intervention"
   ]
  },
  {
   "cell_type": "markdown",
   "metadata": {},
   "source": [
    "#### Over Entire Winter"
   ]
  },
  {
   "cell_type": "code",
   "execution_count": null,
   "metadata": {
    "collapsed": false
   },
   "outputs": [],
   "source": [
    "plt.figure(1)\n",
    "\n",
    "plt.subplot(211)\n",
    "plt.title('Temperature and Indoor PM4 Concentration Over Time')\n",
    "plt.plot(df2013['DayCount'], df2013['DailyAverageTemp'])\n",
    "plt.plot(df2013['DayCount'], df2013['DailyAverageTempH01KE'])\n",
    "plt.plot(df2014['DayCount'], df2014['DailyAverageTemp'])\n",
    "plt.plot(df2014['DayCount'], df2014['DailyAverageTempH01KE'])\n",
    "plt.legend(['13','13', '14', '14'])\n",
    "plt.ylabel('Indoor/Outdoor Temp. (Deg C)')\n",
    "\n",
    "plt.subplot(212)\n",
    "plt.plot(df2013['DayCount'], df2013['DailyAvgPM4'], '-r')\n",
    "plt.plot(df2014['DayCount'], df2014['DailyAvgPM4'])\n",
    "plt.legend(['13', '14'])\n",
    "plt.xlabel('Days since July 1')\n",
    "plt.ylabel('PM4 Concentration(ug/m3)')"
   ]
  },
  {
   "cell_type": "markdown",
   "metadata": {},
   "source": [
    "#### Diurnal Profiles"
   ]
  },
  {
   "cell_type": "code",
   "execution_count": null,
   "metadata": {
    "collapsed": false
   },
   "outputs": [],
   "source": [
    "plt.plot(hourlist, featurediurnaldata(df2013, 'Temperature_(degC)'))\n",
    "plt.plot(hourlist, featurediurnaldata(df2014, 'Temperature_(degC)'))\n",
    "plt.legend(['2013', '2014'])\n",
    "plt.title('Diurnal Outdoor Temperature: Temp vs Time Avg Winter Day')\n",
    "plt.xlabel('Hour of Day')\n",
    "plt.ylabel('Temperature (Degrees Celsius)')\n",
    "plt.show()"
   ]
  },
  {
   "cell_type": "code",
   "execution_count": null,
   "metadata": {
    "collapsed": false
   },
   "outputs": [],
   "source": [
    "plt.plot(hourlist, featurediurnaldata(df2013, 'H02-K-N'))\n",
    "plt.plot(hourlist, featurediurnaldata(df2014, 'H02-K-N'))\n",
    "\n",
    "plt.legend(['2013', '2014'])\n",
    "plt.title('Diurnal Indoor Kitchen Temperature: Temp vs Time Avg Winter Day')\n",
    "plt.xlabel('Hour of Day')\n",
    "plt.ylabel('Temperature House2 (Degreed Celsius)')\n",
    "plt.show()\n"
   ]
  },
  {
   "cell_type": "code",
   "execution_count": null,
   "metadata": {
    "collapsed": false
   },
   "outputs": [],
   "source": [
    "plt.plot(hourlist, featurediurnaldata(df2013, 'tempdifference'))\n",
    "plt.plot(hourlist, featurediurnaldata(df2014, 'tempdifference'))\n",
    "plt.title('Diurnal Indoor Outdoor Temperature Difference')\n",
    "plt.legend(['2013', '2014'])\n",
    "plt.ylabel('Temperature Difference (Degrees C) House2')\n",
    "plt.show()"
   ]
  },
  {
   "cell_type": "code",
   "execution_count": null,
   "metadata": {
    "collapsed": false
   },
   "outputs": [],
   "source": [
    "plt.plot(hourlist, featurediurnaldata(df2013, 'PM4_(ug/m3)'))\n",
    "plt.plot(hourlist, featurediurnaldata(df2014, 'PM4_(ug/m3)'))\n",
    "plt.legend(['2013', '2014'])\n",
    "plt.title('Diurnal PM4: Indoor PM4 Concentration vs Time Average Winter Day')\n",
    "plt.xlabel('Hour of Day')\n",
    "plt.ylabel('PM4 Concentration (ug/m3)')\n",
    "plt.show()"
   ]
  },
  {
   "cell_type": "code",
   "execution_count": null,
   "metadata": {
    "collapsed": false
   },
   "outputs": [],
   "source": [
    "plt.plot(hourlist, featurediurnaldata(df2013, 'PM10_(ug/m3)'))\n",
    "plt.plot(hourlist, featurediurnaldata(df2014, 'PM2.5_(ug/m3)'))\n",
    "plt.legend(['2013', '2014'])\n",
    "plt.title('Diurnal PM2.5: Outdoor PM2.5 Concentration vs Time Average Winter Day')\n",
    "plt.xlabel('Hour of Day')\n",
    "plt.ylabel('PM2.5 Concentration (ug/m3)')\n",
    "plt.show()"
   ]
  },
  {
   "cell_type": "code",
   "execution_count": null,
   "metadata": {
    "collapsed": false
   },
   "outputs": [],
   "source": [
    "plt.plot(hourlist, featurediurnaldata(df2013, 'PM2.5_(ug/m3)'))\n",
    "plt.plot(hourlist, featurediurnaldata(df2014, 'PM2.5_(ug/m3)'))\n",
    "plt.legend(['2013', '2014'])\n",
    "plt.title('Diurnal PM2.5: Outdoor PM2.5 Concentration vs Time Average Winter Day')\n",
    "plt.xlabel('Hour of Day')\n",
    "plt.ylabel('PM2.5 Concentration (ug/m3)')\n",
    "plt.show()"
   ]
  },
  {
   "cell_type": "code",
   "execution_count": null,
   "metadata": {
    "collapsed": false
   },
   "outputs": [],
   "source": [
    "plt.plot(hourlist, featurediurnaldata(df2013, 'CO_(ppm)'))\n",
    "plt.plot(hourlist, featurediurnaldata(df2014, 'CO_(ppm)'))\n",
    "plt.legend(['2013', '2014'])\n",
    "plt.title('Diurnal CO: Outdoor CO Concentration vs Time Average Winter Day')\n",
    "plt.xlabel('Hour of Day')\n",
    "plt.ylabel('CO Concentration (ppm)')\n",
    "plt.show()"
   ]
  },
  {
   "cell_type": "markdown",
   "metadata": {
    "collapsed": true
   },
   "source": [
    "### Separate days into temperature brackets: warm, medium, and cold days."
   ]
  },
  {
   "cell_type": "markdown",
   "metadata": {
    "collapsed": true
   },
   "source": [
    "These will be used to draw comparisons between 2013 and 2014. We want to set cutoff temperatures for these brackets so 2013 and 2014 will be comparable.\n",
    "To find these cutoff temperatures, we found the IQR brackets of outdoor temperature for each year, and used the quartile cutoff temperatures of the warmer year, so that both will have at least 25% of their days counted as cold days.\n",
    "\n",
    "2014 was the warmer year, so cold days are defined as days in either 2013 or 2014 where the average temperature that day was colder than 25% of days in 2014."
   ]
  },
  {
   "cell_type": "code",
   "execution_count": null,
   "metadata": {
    "collapsed": false
   },
   "outputs": [],
   "source": [
    "df2013median = df2013['DailyAverageTemp'].median()\n",
    "df2013abovemed = df2013[df2013['DailyAverageTemp'] > df2013median]\n",
    "df2013belowmed = df2013[df2013['DailyAverageTemp'] < df2013median]\n",
    "df2013Q3cutoff = df2013abovemed['DailyAverageTemp'].median()\n",
    "df2013Q1cutoff = df2013belowmed['DailyAverageTemp'].median()\n",
    "\n",
    "df2014median = df2014['DailyAverageTemp'].median()\n",
    "df2014abovemed = df2014[df2014['DailyAverageTemp'] > df2014median]\n",
    "df2014belowmed = df2014[df2014['DailyAverageTemp'] < df2014median]\n",
    "df2014Q3cutoff = df2014abovemed['DailyAverageTemp'].median()\n",
    "df2014Q1cutoff = df2014belowmed['DailyAverageTemp'].median()\n",
    "\n",
    "print ('2013 cold temp cutoff = ')\n",
    "print (df2013Q1cutoff)\n",
    "print('2014 cold temp cutoff = ')\n",
    "print(df2014Q1cutoff)\n",
    "print('2014 warm temp cutoff')\n",
    "print(df2014Q3cutoff)"
   ]
  },
  {
   "cell_type": "markdown",
   "metadata": {
    "collapsed": true
   },
   "source": [
    "We will from now on define warm days as days where the average outdoor temperature is above 14.4179 Degrees C, and cold days as days where the average outdoor temperature is below 8.7107 Degrees C."
   ]
  },
  {
   "cell_type": "code",
   "execution_count": null,
   "metadata": {
    "collapsed": false
   },
   "outputs": [],
   "source": [
    "df2013cold = df2013[df2013['DailyAverageTemp'] <= df2014Q1cutoff]\n",
    "df2013mid = df2013[df2013['DailyAverageTemp'] > df2014Q1cutoff]\n",
    "df2013mid = df2013mid[df2013mid['DailyAverageTemp'] < df2014Q3cutoff]\n",
    "df2013warm = df2013[df2013['DailyAverageTemp'] >= df2014Q3cutoff]\n",
    "df2014cold = df2014[df2014['DailyAverageTemp'] <= df2014Q1cutoff]\n",
    "df2014mid = df2014[df2014['DailyAverageTemp'] > df2014Q1cutoff]\n",
    "df2014mid = df2014mid[df2014mid['DailyAverageTemp'] < df2014Q3cutoff]\n",
    "df2014warm = df2014[df2014['DailyAverageTemp'] >= df2014Q3cutoff]"
   ]
  },
  {
   "cell_type": "code",
   "execution_count": null,
   "metadata": {
    "collapsed": false
   },
   "outputs": [],
   "source": [
    "plt.plot(hourlist, featurediurnaldata(df2013cold, 'Temperature_(degC)'))\n",
    "plt.plot(hourlist, featurediurnaldata(df2013mid, 'Temperature_(degC)'))\n",
    "plt.plot(hourlist, featurediurnaldata(df2013warm, 'Temperature_(degC)'))\n",
    "plt.plot(hourlist, featurediurnaldata(df2014cold, 'Temperature_(degC)'))\n",
    "plt.plot(hourlist, featurediurnaldata(df2014mid, 'Temperature_(degC)'))\n",
    "plt.plot(hourlist, featurediurnaldata(df2014warm, 'Temperature_(degC)'))         \n",
    "      \n",
    "plt.legend(['Cold 13', 'Mid 13', 'Warm 13', 'Cold 14', 'Mid 14', 'Warm 14'])\n",
    "plt.title('Diurnal Outdoor Temp Degrees C')\n",
    "plt.xlabel('Hour')\n",
    "plt.ylabel('Degrees Celsius')\n",
    "plt.show()"
   ]
  },
  {
   "cell_type": "markdown",
   "metadata": {},
   "source": [
    "With these temperature  brackets, the 2013 and 2014 data, particularly for the cold days is comparable diurnally, and we can now compare cold and warm days to each other."
   ]
  },
  {
   "cell_type": "markdown",
   "metadata": {},
   "source": [
    "#### Outdoor Temperature"
   ]
  },
  {
   "cell_type": "code",
   "execution_count": null,
   "metadata": {
    "collapsed": false
   },
   "outputs": [],
   "source": [
    "plt.plot(hourlist, featurediurnaldata(df2013cold, 'H02-K-N'))\n",
    "plt.plot(hourlist, featurediurnaldata(df2013mid, 'H02-K-N'))\n",
    "plt.plot(hourlist, featurediurnaldata(df2013warm, 'H02-K-N'))\n",
    "plt.plot(hourlist, featurediurnaldata(df2014cold, 'H02-K-N'))\n",
    "plt.plot(hourlist, featurediurnaldata(df2014mid, 'H02-K-N'))\n",
    "plt.plot(hourlist, featurediurnaldata(df2014warm, 'H02-K-N'))         \n",
    "      \n",
    "plt.legend(['Cold 13', 'Mid 13', 'Warm 13', 'Cold 14', 'Mid 14', 'Warm 14'])\n",
    "plt.title('Diurnal Indoor Temp Degrees C')\n",
    "plt.xlabel('Hour')\n",
    "plt.ylabel('Degrees Celsius')\n",
    "\n",
    "plt.show()\n",
    "\n"
   ]
  },
  {
   "cell_type": "markdown",
   "metadata": {},
   "source": [
    "#### Indoor Temperature"
   ]
  },
  {
   "cell_type": "code",
   "execution_count": null,
   "metadata": {
    "collapsed": false
   },
   "outputs": [],
   "source": [
    "plt.plot(hourlist, featurediurnaldata(df2013cold, 'H02-K-N'))\n",
    "plt.plot(hourlist, featurediurnaldata(df2013mid, 'H02-K-N'))\n",
    "plt.plot(hourlist, featurediurnaldata(df2013warm, 'H02-K-N'))      \n",
    "      \n",
    "plt.legend(['Cold 13', 'Mid 13', 'Warm 13'])\n",
    "plt.title('2013 Diurnal Indoor Temp Degrees C')\n",
    "plt.xlabel('Hour')\n",
    "plt.ylabel('Degrees Celsius')\n",
    "\n",
    "plt.show()\n",
    "\n"
   ]
  },
  {
   "cell_type": "code",
   "execution_count": null,
   "metadata": {
    "collapsed": false
   },
   "outputs": [],
   "source": [
    "plt.plot(hourlist, featurediurnaldata(df2014cold, 'H02-K-N'))\n",
    "plt.plot(hourlist, featurediurnaldata(df2014mid, 'H02-K-N'))\n",
    "plt.plot(hourlist, featurediurnaldata(df2014warm, 'H02-K-N'))      \n",
    "      \n",
    "plt.legend(['Cold 14', 'Mid 14', 'Warm 14'])\n",
    "plt.title('2014 Diurnal Indoor Temp Degrees C')\n",
    "plt.xlabel('Hour')\n",
    "plt.ylabel('Degrees Celsius')\n",
    "\n",
    "plt.show()\n",
    "\n"
   ]
  },
  {
   "cell_type": "code",
   "execution_count": null,
   "metadata": {
    "collapsed": false
   },
   "outputs": [],
   "source": [
    "plt.plot(hourlist, featurediurnaldata(df2013cold, 'H02-K-N'))\n",
    "plt.plot(hourlist, featurediurnaldata(df2014cold, 'H02-K-N'))\n",
    "\n",
    "plt.legend(['Cold 13', 'Cold 14'])\n",
    "plt.title('COLD Days Diurnal Indoor Temp Degrees C')\n",
    "plt.xlabel('Hour')\n",
    "plt.ylabel('Degrees Celsius')\n",
    "\n",
    "plt.show()\n",
    "\n"
   ]
  },
  {
   "cell_type": "code",
   "execution_count": null,
   "metadata": {
    "collapsed": false
   },
   "outputs": [],
   "source": [
    "plt.plot(hourlist, featurediurnaldata(df2013warm, 'H02-K-N'))\n",
    "plt.plot(hourlist, featurediurnaldata(df2014warm, 'H02-K-N'))\n",
    "\n",
    "plt.legend(['Warm 13', 'Warm 14'])\n",
    "plt.title('WARM Days Diurnal Indoor Temp Degrees C')\n",
    "plt.xlabel('Hour')\n",
    "plt.ylabel('Degrees Celsius')\n",
    "\n",
    "plt.show()\n"
   ]
  },
  {
   "cell_type": "markdown",
   "metadata": {},
   "source": [
    "#### Indoor/Outdoor Temperature Difference"
   ]
  },
  {
   "cell_type": "code",
   "execution_count": null,
   "metadata": {
    "collapsed": false
   },
   "outputs": [],
   "source": [
    "plt.plot(hourlist, featurediurnaldata(df2013cold, 'tempdifference'))\n",
    "plt.plot(hourlist, featurediurnaldata(df2013mid, 'tempdifference'))\n",
    "plt.plot(hourlist, featurediurnaldata(df2013warm, 'tempdifference'))\n",
    "plt.plot(hourlist, featurediurnaldata(df2014cold, 'tempdifference'))\n",
    "plt.plot(hourlist, featurediurnaldata(df2014mid, 'tempdifference'))\n",
    "plt.plot(hourlist, featurediurnaldata(df2014warm, 'tempdifference'))\n",
    "plt.title('Diurnal Indoor/Outdoor Temperature Difference')\n",
    "plt.legend(['Cold 13', 'Mid 13', 'Warm 13', 'Cold 14', 'Mid 14', 'Warm 14'])\n",
    "plt.ylabel('Temperature Difference (Degrees C) House2') \n",
    "plt.show()"
   ]
  },
  {
   "cell_type": "code",
   "execution_count": null,
   "metadata": {
    "collapsed": false
   },
   "outputs": [],
   "source": [
    "plt.plot(hourlist, featurediurnaldata(df2013cold, 'tempdifference'))\n",
    "plt.plot(hourlist, featurediurnaldata(df2013mid, 'tempdifference'))\n",
    "plt.plot(hourlist, featurediurnaldata(df2013warm, 'tempdifference'))\n",
    "plt.title('2013 Diurnal Indoor/Outdoor Temperature Difference')\n",
    "plt.legend(['Cold 13', 'Mid 13', 'Warm 13'])\n",
    "plt.ylabel('Temperature Difference (Degrees C) House2') \n",
    "plt.show()"
   ]
  },
  {
   "cell_type": "code",
   "execution_count": null,
   "metadata": {
    "collapsed": false
   },
   "outputs": [],
   "source": [
    "plt.plot(hourlist, featurediurnaldata(df2014cold, 'tempdifference'))\n",
    "plt.plot(hourlist, featurediurnaldata(df2014mid, 'tempdifference'))\n",
    "plt.plot(hourlist, featurediurnaldata(df2014warm, 'tempdifference'))\n",
    "plt.title('2014 Diurnal Indoor/Outdoor Temperature Difference')\n",
    "plt.legend(['Cold 14', 'Mid 14', 'Warm 14'])\n",
    "plt.ylabel('Temperature Difference (Degrees C) House2') \n",
    "plt.show()"
   ]
  },
  {
   "cell_type": "code",
   "execution_count": null,
   "metadata": {
    "collapsed": false
   },
   "outputs": [],
   "source": [
    "plt.plot(hourlist, featurediurnaldata(df2013cold, 'tempdifference'))\n",
    "plt.plot(hourlist, featurediurnaldata(df2014cold, 'tempdifference'))\n",
    "plt.title('COLD Days Diurnal Indoor/Outdoor Temperature Difference')\n",
    "plt.legend(['Cold 13', 'Cold 14'])\n",
    "plt.ylabel('Temperature Difference (Degrees C) House2') \n",
    "plt.show()"
   ]
  },
  {
   "cell_type": "code",
   "execution_count": null,
   "metadata": {
    "collapsed": false
   },
   "outputs": [],
   "source": [
    "plt.plot(hourlist, featurediurnaldata(df2013warm, 'tempdifference'))\n",
    "plt.plot(hourlist, featurediurnaldata(df2014warm, 'tempdifference'))\n",
    "plt.title('WARM Days Diurnal Indoor/Outdoor Temperature Difference')\n",
    "plt.legend(['Warm 13', 'Warm 14'])\n",
    "plt.ylabel('Temperature Difference (Degrees C) House2') \n",
    "plt.show()"
   ]
  },
  {
   "cell_type": "markdown",
   "metadata": {},
   "source": [
    "#### PM4"
   ]
  },
  {
   "cell_type": "code",
   "execution_count": null,
   "metadata": {
    "collapsed": false
   },
   "outputs": [],
   "source": [
    "plt.plot(hourlist, featurediurnaldata(df2013cold, 'PM4_(ug/m3)'))\n",
    "plt.plot(hourlist, featurediurnaldata(df2013mid, 'PM4_(ug/m3)'))\n",
    "plt.plot(hourlist, featurediurnaldata(df2013warm, 'PM4_(ug/m3)'))\n",
    "plt.plot(hourlist, featurediurnaldata(df2014cold, 'PM4_(ug/m3)'))\n",
    "plt.plot(hourlist, featurediurnaldata(df2014mid, 'PM4_(ug/m3)'))\n",
    "plt.plot(hourlist, featurediurnaldata(df2014warm, 'PM4_(ug/m3)'))\n",
    "plt.title('Diurnal Indoor PM4 Concentration')\n",
    "plt.legend(['Cold 13', 'Mid 13', 'Warm 13', 'Cold 14', 'Mid 14', 'Warm 14'])\n",
    "plt.ylabel('PM4 Concentration (ug/m3)') \n",
    "plt.show()\n"
   ]
  },
  {
   "cell_type": "code",
   "execution_count": null,
   "metadata": {
    "collapsed": false
   },
   "outputs": [],
   "source": [
    "plt.plot(hourlist, featurediurnaldata(df2013cold, 'PM4_(ug/m3)'))\n",
    "plt.plot(hourlist, featurediurnaldata(df2013mid, 'PM4_(ug/m3)'))\n",
    "plt.plot(hourlist, featurediurnaldata(df2013warm, 'PM4_(ug/m3)'))\n",
    "plt.title('2013 Diurnal Indoor PM4 Concentration')\n",
    "plt.legend(['Cold 13', 'Mid 13', 'Warm 13'])\n",
    "plt.ylabel('PM4 Concentration (ug/m3)') \n",
    "plt.show()\n"
   ]
  },
  {
   "cell_type": "code",
   "execution_count": null,
   "metadata": {
    "collapsed": false
   },
   "outputs": [],
   "source": [
    "plt.plot(hourlist, featurediurnaldata(df2014cold, 'PM4_(ug/m3)'))\n",
    "plt.plot(hourlist, featurediurnaldata(df2014mid, 'PM4_(ug/m3)'))\n",
    "plt.plot(hourlist, featurediurnaldata(df2014warm, 'PM4_(ug/m3)'))\n",
    "plt.title('2014 Diurnal Indoor PM4 Concentration')\n",
    "plt.legend(['Cold 14', 'Mid 14', 'Warm 14'])\n",
    "plt.ylabel('PM4 Concentration (ug/m3)') \n",
    "plt.show()\n"
   ]
  },
  {
   "cell_type": "code",
   "execution_count": null,
   "metadata": {
    "collapsed": false
   },
   "outputs": [],
   "source": [
    "plt.plot(hourlist, featurediurnaldata(df2013cold, 'PM4_(ug/m3)'))\n",
    "plt.plot(hourlist, featurediurnaldata(df2014cold, 'PM4_(ug/m3)'))\n",
    "plt.title('COLD Days Diurnal Indoor PM4 Concentration')\n",
    "plt.legend(['Cold 13','Cold 14'])\n",
    "plt.ylabel('PM4 Concentration (ug/m3)') \n",
    "plt.show()\n"
   ]
  },
  {
   "cell_type": "code",
   "execution_count": null,
   "metadata": {
    "collapsed": false
   },
   "outputs": [],
   "source": [
    "plt.plot(hourlist, featurediurnaldata(df2013warm, 'PM4_(ug/m3)'))\n",
    "plt.plot(hourlist, featurediurnaldata(df2014warm, 'PM4_(ug/m3)'))\n",
    "plt.title('WARM Days Diurnal Indoor PM4 Concentration')\n",
    "plt.legend(['Warm 13', 'Warm 14'])\n",
    "plt.ylabel('PM4 Concentration (ug/m3)') \n",
    "plt.show()\n"
   ]
  },
  {
   "cell_type": "markdown",
   "metadata": {},
   "source": [
    "#### PM10"
   ]
  },
  {
   "cell_type": "code",
   "execution_count": null,
   "metadata": {
    "collapsed": false
   },
   "outputs": [],
   "source": [
    "plt.plot(hourlist, featurediurnaldata(df2013cold, 'PM10_(ug/m3)'))\n",
    "plt.plot(hourlist, featurediurnaldata(df2013mid, 'PM10_(ug/m3)'))\n",
    "plt.plot(hourlist, featurediurnaldata(df2013warm, 'PM10_(ug/m3)'))\n",
    "plt.plot(hourlist, featurediurnaldata(df2014cold, 'PM10_(ug/m3)'))\n",
    "plt.plot(hourlist, featurediurnaldata(df2014mid, 'PM10_(ug/m3)'))\n",
    "plt.plot(hourlist, featurediurnaldata(df2014warm, 'PM10_(ug/m3)'))\n",
    "plt.title('Diurnal Outdoor PM10 Concentration')\n",
    "plt.legend(['Cold 13', 'Mid 13', 'Warm 13', 'Cold 14', 'Mid 14', 'Warm 14'])\n",
    "plt.ylabel('PM10 Concentration (ug/m3)') \n",
    "plt.show()\n"
   ]
  },
  {
   "cell_type": "code",
   "execution_count": null,
   "metadata": {
    "collapsed": false
   },
   "outputs": [],
   "source": [
    "plt.plot(hourlist, featurediurnaldata(df2013cold, 'PM10_(ug/m3)'))\n",
    "plt.plot(hourlist, featurediurnaldata(df2013mid, 'PM10_(ug/m3)'))\n",
    "plt.plot(hourlist, featurediurnaldata(df2013warm, 'PM10_(ug/m3)'))\n",
    "plt.title('2013 Diurnal Outdoor PM10 Concentration')\n",
    "plt.legend(['Cold 13', 'Mid 13', 'Warm 13'])\n",
    "plt.ylabel('PM10 Concentration (ug/m3)') \n",
    "plt.show()\n"
   ]
  },
  {
   "cell_type": "code",
   "execution_count": null,
   "metadata": {
    "collapsed": false
   },
   "outputs": [],
   "source": [
    "plt.plot(hourlist, featurediurnaldata(df2014cold, 'PM10_(ug/m3)'))\n",
    "plt.plot(hourlist, featurediurnaldata(df2014mid, 'PM10_(ug/m3)'))\n",
    "plt.plot(hourlist, featurediurnaldata(df2014warm, 'PM10_(ug/m3)'))\n",
    "plt.title('2014 Diurnal Outdoor PM10 Concentration')\n",
    "plt.legend(['Cold 14', 'Mid 14', 'Warm 14'])\n",
    "plt.ylabel('PM10 Concentration (ug/m3)') \n",
    "plt.show()\n"
   ]
  },
  {
   "cell_type": "code",
   "execution_count": null,
   "metadata": {
    "collapsed": false
   },
   "outputs": [],
   "source": [
    "plt.plot(hourlist, featurediurnaldata(df2013cold, 'PM10_(ug/m3)'))\n",
    "plt.plot(hourlist, featurediurnaldata(df2014cold, 'PM10_(ug/m3)'))\n",
    "plt.title('COLD Days Diurnal Outdoor PM10 Concentration')\n",
    "plt.legend(['Cold 13', 'Cold 14'])\n",
    "plt.ylabel('PM10 Concentration (ug/m3)') \n",
    "plt.show()\n"
   ]
  },
  {
   "cell_type": "code",
   "execution_count": null,
   "metadata": {
    "collapsed": false
   },
   "outputs": [],
   "source": [
    "plt.plot(hourlist, featurediurnaldata(df2013warm, 'PM10_(ug/m3)'))\n",
    "plt.plot(hourlist, featurediurnaldata(df2014warm, 'PM10_(ug/m3)'))\n",
    "plt.title('WARM Days Diurnal Outdoor PM10 Concentration')\n",
    "plt.legend(['Warm 13','Warm 14'])\n",
    "plt.ylabel('PM10 Concentration (ug/m3)') \n",
    "plt.show()\n"
   ]
  },
  {
   "cell_type": "markdown",
   "metadata": {},
   "source": [
    "#### PM2.5"
   ]
  },
  {
   "cell_type": "code",
   "execution_count": null,
   "metadata": {
    "collapsed": false
   },
   "outputs": [],
   "source": [
    "plt.plot(hourlist, featurediurnaldata(df2013cold, 'PM2.5_(ug/m3)'))\n",
    "plt.plot(hourlist, featurediurnaldata(df2013mid, 'PM2.5_(ug/m3)'))\n",
    "plt.plot(hourlist, featurediurnaldata(df2013warm, 'PM2.5_(ug/m3)'))\n",
    "plt.plot(hourlist, featurediurnaldata(df2014cold, 'PM2.5_(ug/m3)'))\n",
    "plt.plot(hourlist, featurediurnaldata(df2014mid, 'PM2.5_(ug/m3)'))\n",
    "plt.plot(hourlist, featurediurnaldata(df2014warm, 'PM2.5_(ug/m3)'))\n",
    "plt.title('Diurnal Outdoor PM2.5 Concentration')\n",
    "plt.legend(['Cold 13', 'Mid 13', 'Warm 13', 'Cold 14', 'Mid 14', 'Warm 14'])\n",
    "plt.ylabel('PM2.5 Concentration (ug/m3)') \n",
    "plt.show()"
   ]
  },
  {
   "cell_type": "code",
   "execution_count": null,
   "metadata": {
    "collapsed": false
   },
   "outputs": [],
   "source": [
    "plt.plot(hourlist, featurediurnaldata(df2013cold, 'PM2.5_(ug/m3)'))\n",
    "plt.plot(hourlist, featurediurnaldata(df2013mid, 'PM2.5_(ug/m3)'))\n",
    "plt.plot(hourlist, featurediurnaldata(df2013warm, 'PM2.5_(ug/m3)'))\n",
    "plt.title('2013 Diurnal Outdoor PM2.5 Concentration')\n",
    "plt.legend(['Cold 13', 'Mid 13', 'Warm 13'])\n",
    "plt.ylabel('PM2.5 Concentration (ug/m3)') \n",
    "plt.show()"
   ]
  },
  {
   "cell_type": "code",
   "execution_count": null,
   "metadata": {
    "collapsed": false
   },
   "outputs": [],
   "source": [
    "plt.plot(hourlist, featurediurnaldata(df2014cold, 'PM2.5_(ug/m3)'))\n",
    "plt.plot(hourlist, featurediurnaldata(df2014mid, 'PM2.5_(ug/m3)'))\n",
    "plt.plot(hourlist, featurediurnaldata(df2014warm, 'PM2.5_(ug/m3)'))\n",
    "plt.title('2014 Diurnal Outdoor PM2.5 Concentration')\n",
    "plt.legend(['Cold 14', 'Mid 14', 'Warm 14'])\n",
    "plt.ylabel('PM2.5 Concentration (ug/m3)') \n",
    "plt.show()"
   ]
  },
  {
   "cell_type": "code",
   "execution_count": null,
   "metadata": {
    "collapsed": false
   },
   "outputs": [],
   "source": [
    "plt.plot(hourlist, featurediurnaldata(df2013cold, 'PM2.5_(ug/m3)'))\n",
    "plt.plot(hourlist, featurediurnaldata(df2014cold, 'PM2.5_(ug/m3)'))\n",
    "plt.title('COLD Days Diurnal Outdoor PM2.5 Concentration')\n",
    "plt.legend(['Cold 13', 'Cold 14'])\n",
    "plt.ylabel('PM2.5 Concentration (ug/m3)') \n",
    "plt.show()"
   ]
  },
  {
   "cell_type": "code",
   "execution_count": null,
   "metadata": {
    "collapsed": false
   },
   "outputs": [],
   "source": [
    "plt.plot(hourlist, featurediurnaldata(df2013warm, 'PM2.5_(ug/m3)'))\n",
    "plt.plot(hourlist, featurediurnaldata(df2014warm, 'PM2.5_(ug/m3)'))\n",
    "plt.title('WARM Days Diurnal Outdoor PM2.5 Concentration')\n",
    "plt.legend(['Warm 13','Warm 14'])\n",
    "plt.ylabel('PM2.5 Concentration (ug/m3)') \n",
    "plt.show()"
   ]
  },
  {
   "cell_type": "markdown",
   "metadata": {},
   "source": [
    "#### CO"
   ]
  },
  {
   "cell_type": "code",
   "execution_count": null,
   "metadata": {
    "collapsed": false
   },
   "outputs": [],
   "source": [
    "plt.plot(hourlist, featurediurnaldata(df2013cold, 'CO_(ppm)'))\n",
    "plt.plot(hourlist, featurediurnaldata(df2013mid, 'CO_(ppm)'))\n",
    "plt.plot(hourlist, featurediurnaldata(df2013warm, 'CO_(ppm)'))\n",
    "plt.plot(hourlist, featurediurnaldata(df2014cold, 'CO_(ppm)'))\n",
    "plt.plot(hourlist, featurediurnaldata(df2014mid, 'CO_(ppm)'))\n",
    "plt.plot(hourlist, featurediurnaldata(df2014warm, 'CO_(ppm)'))\n",
    "plt.title('Diurnal Outdoor CO Concentration')\n",
    "plt.legend(['Cold 13', 'Mid 13', 'Warm 13', 'Cold 14', 'Mid 14', 'Warm 14'])\n",
    "plt.ylabel('CO Concentration (ppm)') \n",
    "plt.show()\n"
   ]
  },
  {
   "cell_type": "code",
   "execution_count": null,
   "metadata": {
    "collapsed": false
   },
   "outputs": [],
   "source": [
    "plt.plot(hourlist, featurediurnaldata(df2013cold, 'CO_(ppm)'))\n",
    "plt.plot(hourlist, featurediurnaldata(df2013mid, 'CO_(ppm)'))\n",
    "plt.plot(hourlist, featurediurnaldata(df2013warm, 'CO_(ppm)'))\n",
    "plt.title('2013 Diurnal Outdoor CO Concentration')\n",
    "plt.legend(['Cold 13', 'Mid 13', 'Warm 13'])\n",
    "plt.ylabel('CO Concentration (ppm)') \n",
    "plt.show()\n"
   ]
  },
  {
   "cell_type": "code",
   "execution_count": null,
   "metadata": {
    "collapsed": false
   },
   "outputs": [],
   "source": [
    "plt.plot(hourlist, featurediurnaldata(df2014cold, 'CO_(ppm)'))\n",
    "plt.plot(hourlist, featurediurnaldata(df2014mid, 'CO_(ppm)'))\n",
    "plt.plot(hourlist, featurediurnaldata(df2014warm, 'CO_(ppm)'))\n",
    "plt.title('2014 Diurnal Outdoor CO Concentration')\n",
    "plt.legend(['Cold 14', 'Mid 14', 'Warm 14'])\n",
    "plt.ylabel('CO Concentration (ppm)') \n",
    "plt.show()\n"
   ]
  },
  {
   "cell_type": "code",
   "execution_count": null,
   "metadata": {
    "collapsed": false
   },
   "outputs": [],
   "source": [
    "plt.plot(hourlist, featurediurnaldata(df2013cold, 'CO_(ppm)'))\n",
    "plt.plot(hourlist, featurediurnaldata(df2014cold, 'CO_(ppm)'))\n",
    "plt.title('COLD Days Diurnal Outdoor CO Concentration')\n",
    "plt.legend(['Cold 13', 'Cold 14'])\n",
    "plt.ylabel('CO Concentration (ppm)') \n",
    "plt.show()\n"
   ]
  },
  {
   "cell_type": "code",
   "execution_count": null,
   "metadata": {
    "collapsed": false
   },
   "outputs": [],
   "source": [
    "plt.plot(hourlist, featurediurnaldata(df2013warm, 'CO_(ppm)'))\n",
    "plt.plot(hourlist, featurediurnaldata(df2014warm, 'CO_(ppm)'))\n",
    "plt.title('WARM Days Diurnal Outdoor CO Concentration')\n",
    "plt.legend(['Warm 13','Warm 14'])\n",
    "plt.ylabel('CO Concentration (ppm)') \n",
    "plt.show()\n"
   ]
  },
  {
   "cell_type": "markdown",
   "metadata": {},
   "source": [
    "CO Data was inconclusive."
   ]
  },
  {
   "cell_type": "markdown",
   "metadata": {},
   "source": [
    "### We explored splitting the dataframes up by time of day.\n",
    "#### The different peaks would give us different information - the evening peak was more becuase of dinner, while the morning peak was caused by making tea but mostly hetating."
   ]
  },
  {
   "cell_type": "markdown",
   "metadata": {},
   "source": [
    "#### The graphs below are helpful in visualizing what each time bracket is.  \n",
    "A, C, and E are the baseline, either middle of the day or middle of the night, when people aren't burning.\n",
    "B is the morning when people get up, make tea, and heat up their homes.\n",
    "D is the evening when people make dinner."
   ]
  },
  {
   "cell_type": "code",
   "execution_count": null,
   "metadata": {
    "collapsed": false
   },
   "outputs": [],
   "source": [
    "[df2013A, df2013B, df2013C, df2013D, df2013E] = abcdeTimeDataframes(df2013)\n",
    "[df2014A, df2014B, df2014C, df2014D, df2014E] = abcdeTimeDataframes(df2014)\n",
    "\n",
    "\n",
    "plt.plot(hourlist, featurediurnaldata(df2013A, 'Temperature_(degC)'))\n",
    "plt.plot(hourlist, featurediurnaldata(df2014A, 'Temperature_(degC)'))\n",
    "plt.plot(hourlist, featurediurnaldata(df2013B, 'Temperature_(degC)'))\n",
    "plt.plot(hourlist, featurediurnaldata(df2014B, 'Temperature_(degC)'))\n",
    "plt.plot(hourlist, featurediurnaldata(df2013C, 'Temperature_(degC)'))\n",
    "plt.plot(hourlist, featurediurnaldata(df2014C, 'Temperature_(degC)'))\n",
    "plt.plot(hourlist, featurediurnaldata(df2013D, 'Temperature_(degC)'))\n",
    "plt.plot(hourlist, featurediurnaldata(df2014D, 'Temperature_(degC)'))\n",
    "plt.plot(hourlist, featurediurnaldata(df2013E, 'Temperature_(degC)'))\n",
    "plt.plot(hourlist, featurediurnaldata(df2014E, 'Temperature_(degC)'))\n",
    "plt.legend([\"A '13\", \"A '14\", \"B '13\", \"B '14\", \"C '13\", \"C '14\", \"D '13\", \"D '14\", \"E '13\", \"E '14\" ])\n",
    "plt.title('Diurnal Outdoor Temperature by Time Brackets')\n",
    "plt.show()"
   ]
  },
  {
   "cell_type": "code",
   "execution_count": null,
   "metadata": {
    "collapsed": false
   },
   "outputs": [],
   "source": [
    "plt.plot(hourlist, featurediurnaldata(df2013A, 'PM4_(ug/m3)'))\n",
    "plt.plot(hourlist, featurediurnaldata(df2014A, 'PM4_(ug/m3)'))\n",
    "plt.plot(hourlist, featurediurnaldata(df2013B, 'PM4_(ug/m3)'))\n",
    "plt.plot(hourlist, featurediurnaldata(df2014B, 'PM4_(ug/m3)'))\n",
    "plt.plot(hourlist, featurediurnaldata(df2013C, 'PM4_(ug/m3)'))\n",
    "plt.plot(hourlist, featurediurnaldata(df2014C, 'PM4_(ug/m3)'))\n",
    "plt.plot(hourlist, featurediurnaldata(df2013D, 'PM4_(ug/m3)'))\n",
    "plt.plot(hourlist, featurediurnaldata(df2014D, 'PM4_(ug/m3)'))\n",
    "plt.plot(hourlist, featurediurnaldata(df2013E, 'PM4_(ug/m3)'))\n",
    "plt.plot(hourlist, featurediurnaldata(df2014E, 'PM4_(ug/m3)'))\n",
    "plt.legend([\"A '13\", \"A '14\", \"B '13\", \"B '14\", \"C '13\", \"C '14\", \"D '13\", \"D '14\", \"E '13\", \"E '14\" ])\n",
    "plt.title('Diurnal PM4 Concentration by Time Brackets')\n",
    "plt.xlabel('Hour')\n",
    "plt.ylabel('PM4 Concentration (ug/m3)')\n",
    "plt.show()"
   ]
  },
  {
   "cell_type": "markdown",
   "metadata": {},
   "source": [
    "# STATISTICAL COMPARISIONS"
   ]
  },
  {
   "cell_type": "markdown",
   "metadata": {},
   "source": [
    "First we're looking at an analysis of variance between 2014 and 2013 to see how significantly the years differed. We'll look at how the outdoor temperatures varied (as a soft control), then compare the year's pollutant concentrations to get a read for how well the intervention reduced pollution. We'll do this again with diurnal plots to be sure.\n",
    "Cross correlation will let us track dusttraks vs PM2.5 vs PM10 vs CO concentrations and traking the rise and fall of each pollutant over the course of the entire winter. We're starting by just looking at the entire winter, then we may divide pollution measurements based on temperature deviation of a given day or by month\n",
    "Kruskal is best for comparing one category of measurement at different time points to see if there is significant variance between those groups. for example: Krusal done on dusttraks from the mean temp track, dusttraks from 1 sd colder than the mean, and dusttraks from 1 sd warmer than the mean. This measurement would tell us if there is variance in pollution between the three groups. This test could also be applied to 2013 vs 2014 dusttraks to find statistical significance in the differences in pollution before and after intervention"
   ]
  },
  {
   "cell_type": "markdown",
   "metadata": {},
   "source": [
    "## Kruskal Analysis "
   ]
  },
  {
   "cell_type": "markdown",
   "metadata": {},
   "source": [
    "#### Outdoor Temperature"
   ]
  },
  {
   "cell_type": "markdown",
   "metadata": {},
   "source": [
    "##### Comparing Different Time brackets within a given year we see that the Kruskal test shows they are statistically not the same."
   ]
  },
  {
   "cell_type": "code",
   "execution_count": null,
   "metadata": {
    "collapsed": false
   },
   "outputs": [],
   "source": [
    "print('2013:')\n",
    "print ('A vs B')\n",
    "print stats.kruskal(df2013A['Temperature_(degC)'], df2013B['Temperature_(degC)'])\n",
    "print ('A vs C')\n",
    "print stats.kruskal(df2013A['Temperature_(degC)'], df2013C['Temperature_(degC)'])\n",
    "print ('A vs D')\n",
    "print stats.kruskal(df2013A['Temperature_(degC)'], df2013D['Temperature_(degC)'])\n",
    "print ('A vs E')\n",
    "print stats.kruskal(df2013A['Temperature_(degC)'], df2013E['Temperature_(degC)'])\n",
    "print ('B vs C')\n",
    "print stats.kruskal(df2013B['Temperature_(degC)'], df2013C['Temperature_(degC)'])\n",
    "print ('B vs D')\n",
    "print stats.kruskal(df2013B['Temperature_(degC)'], df2013D['Temperature_(degC)'])\n",
    "print ('B vs E')\n",
    "print stats.kruskal(df2013B['Temperature_(degC)'], df2013E['Temperature_(degC)'])\n",
    "print ('C vs D')\n",
    "print stats.kruskal(df2013C['Temperature_(degC)'], df2013D['Temperature_(degC)'])\n",
    "print ('C vs E')\n",
    "print stats.kruskal(df2013C['Temperature_(degC)'], df2013E['Temperature_(degC)'])\n",
    "print ('D vs E')\n",
    "print stats.kruskal(df2013D['Temperature_(degC)'], df2013E['Temperature_(degC)'])\n",
    "\n",
    "\n",
    "print('')\n",
    "print('2014')\n",
    "print ('A vs B')\n",
    "print stats.kruskal(df2014A['Temperature_(degC)'], df2014B['Temperature_(degC)'])\n",
    "print ('A vs C')\n",
    "print stats.kruskal(df2014A['Temperature_(degC)'], df2014C['Temperature_(degC)'])\n",
    "print ('A vs D')\n",
    "print stats.kruskal(df2014A['Temperature_(degC)'], df2014D['Temperature_(degC)'])\n",
    "print ('A vs E')\n",
    "print stats.kruskal(df2014A['Temperature_(degC)'], df2014E['Temperature_(degC)'])\n",
    "print ('B vs C')\n",
    "print stats.kruskal(df2014B['Temperature_(degC)'], df2014C['Temperature_(degC)'])\n",
    "print ('B vs D')\n",
    "print stats.kruskal(df2014B['Temperature_(degC)'], df2014D['Temperature_(degC)'])\n",
    "print ('B vs E')\n",
    "print stats.kruskal(df2014B['Temperature_(degC)'], df2014E['Temperature_(degC)'])\n",
    "print ('C vs D')\n",
    "print stats.kruskal(df2014C['Temperature_(degC)'], df2014D['Temperature_(degC)'])\n",
    "print ('C vs E')\n",
    "print stats.kruskal(df2014C['Temperature_(degC)'], df2014E['Temperature_(degC)'])\n",
    "print ('D vs E')\n",
    "print stats.kruskal(df2014D['Temperature_(degC)'], df2014E['Temperature_(degC)'])"
   ]
  },
  {
   "cell_type": "code",
   "execution_count": null,
   "metadata": {
    "collapsed": false
   },
   "outputs": [],
   "source": [
    " \n",
    "print('2013 vs 2014')\n",
    "print ('A')\n",
    "print stats.kruskal(df2013A['Temperature_(degC)'], df2014A['Temperature_(degC)'])\n",
    "print ('B')\n",
    "print stats.kruskal(df2013B['Temperature_(degC)'], df2014B['Temperature_(degC)'])\n",
    "print ('C')\n",
    "print stats.kruskal(df2013C['Temperature_(degC)'], df2014C['Temperature_(degC)'])\n",
    "print ('D')\n",
    "print stats.kruskal(df2013D['Temperature_(degC)'], df2014D['Temperature_(degC)'])\n",
    "print ('E')\n",
    "print stats.kruskal(df2013E['Temperature_(degC)'], df2014E['Temperature_(degC)'])"
   ]
  },
  {
   "cell_type": "markdown",
   "metadata": {},
   "source": [
    "##### Comparing time of day brackets between 2013 and 2014, unfortunately the only one with a kruskal value of above 0.05, the cutoff below which differences between some of the medians are statistically significant, was the C time range, which represents a baseline temp for midday.  \n",
    "This means that we can't say the outdoor temperature conditions were similar enough for variation to not be due to chance for any of the other time brackets, and thus comparing the other features will not be useful using the time brackets."
   ]
  },
  {
   "cell_type": "markdown",
   "metadata": {},
   "source": [
    "### Without time brackets - Compare cold days"
   ]
  },
  {
   "cell_type": "code",
   "execution_count": null,
   "metadata": {
    "collapsed": false
   },
   "outputs": [],
   "source": [
    "### Compare Cold Days 2014 and Cold Days 2014 Dataframes\n",
    "\n",
    "#Every data point\n",
    "stats.kruskal(df2013cold['Temperature_(degC)'], df2014cold['Temperature_(degC)'])\n",
    "## This shows that looking at all data points we can't say temperature conditions were similar enough \n",
    "#for variation to not be due to chance"
   ]
  },
  {
   "cell_type": "code",
   "execution_count": null,
   "metadata": {
    "collapsed": false
   },
   "outputs": [],
   "source": [
    "#Daily Averages\n",
    "stats.kruskal(df2013cold.DailyAverageTemp, df2014cold.DailyAverageTemp)\n",
    "\n",
    "## This shows that looking at all data points we can't say temperature conditions were similar enough \n",
    "#for variation to not be due to chance"
   ]
  },
  {
   "cell_type": "code",
   "execution_count": null,
   "metadata": {
    "collapsed": false
   },
   "outputs": [],
   "source": [
    "#Diurnal Profile\n",
    "stats.kruskal(featurediurnaldata(df2013cold, 'Temperature_(degC)'), featurediurnaldata(df2014cold, 'Temperature_(degC)'))\n",
    "## This shows the differences between the medians are not statistically significant, and there is not evidence\n",
    "# to reject the null hypothesis that variation is not due to chance"
   ]
  },
  {
   "cell_type": "markdown",
   "metadata": {},
   "source": [
    "##### From this we now know that the diurnal profiles of the cold days are about the same. Becuase of this, if we see diurnal profiles of other features are statistically significantly different, it is significant because the temperatures were the same."
   ]
  },
  {
   "cell_type": "markdown",
   "metadata": {},
   "source": [
    "Indoor/Outdoor Temperature Difference IS significantly different between years for the cold day diurnal profiles.\n",
    "From this p-value we have enough evidence to reject the null hypothesis that variation is not due to chance."
   ]
  },
  {
   "cell_type": "code",
   "execution_count": null,
   "metadata": {
    "collapsed": false
   },
   "outputs": [],
   "source": [
    "stats.kruskal(featurediurnaldata(df2013cold, 'tempdifference'),featurediurnaldata(df2014cold, 'tempdifference'))"
   ]
  },
  {
   "cell_type": "markdown",
   "metadata": {},
   "source": [
    "Though the pvalue of this is not low enough to outright reject the null hypothesis that variation is not due to chance, it is low enough, especially compared to that of the temperature profiles that we can conclude that PM4 concentration is different between years for the cold day diurnal profiles."
   ]
  },
  {
   "cell_type": "code",
   "execution_count": null,
   "metadata": {
    "collapsed": false
   },
   "outputs": [],
   "source": [
    "stats.kruskal(featurediurnaldata(df2013cold, 'PM4_(ug/m3)'), featurediurnaldata(df2014cold, 'PM4_(ug/m3)'))"
   ]
  },
  {
   "cell_type": "markdown",
   "metadata": {},
   "source": [
    "PM10 IS significantly different between years for the cold day diurnal profiles.\n",
    "From this p-value we have enough evidence to reject the null hypothesis that variation is not due to chance."
   ]
  },
  {
   "cell_type": "code",
   "execution_count": null,
   "metadata": {
    "collapsed": false
   },
   "outputs": [],
   "source": [
    "stats.kruskal(featurediurnaldata(df2013cold, 'PM10_(ug/m3)'), featurediurnaldata(df2014cold, 'PM10_(ug/m3)'))"
   ]
  },
  {
   "cell_type": "markdown",
   "metadata": {},
   "source": [
    "We do not have enough evidence to reject the null hypothesis that variation is not due to chance between 2013 and 2014 cold day diurnal profiles for PM2.5"
   ]
  },
  {
   "cell_type": "code",
   "execution_count": null,
   "metadata": {
    "collapsed": false
   },
   "outputs": [],
   "source": [
    "stats.kruskal(featurediurnaldata(df2013cold, 'PM2.5_(ug/m3)'), featurediurnaldata(df2014cold, 'PM2.5_(ug/m3)'))"
   ]
  },
  {
   "cell_type": "markdown",
   "metadata": {},
   "source": [
    "CO concentration IS significantly different between years for the cold day diurnal profiles.\n",
    "From this p-value we have enough evidence to reject the null hypothesis that variation is not due to chance."
   ]
  },
  {
   "cell_type": "code",
   "execution_count": null,
   "metadata": {
    "collapsed": false
   },
   "outputs": [],
   "source": [
    "stats.kruskal(featurediurnaldata(df2013cold, 'CO_(ppm)'), featurediurnaldata(df2014cold, 'CO_(ppm)'))"
   ]
  },
  {
   "cell_type": "code",
   "execution_count": null,
   "metadata": {
    "collapsed": true
   },
   "outputs": [],
   "source": []
  },
  {
   "cell_type": "markdown",
   "metadata": {},
   "source": [
    "## Spearman Correlations"
   ]
  },
  {
   "cell_type": "markdown",
   "metadata": {},
   "source": [
    "The normalize function literally normalizes a dataframe, you just have to be careful you give it only columns with integers that you want to normalize together(ie don't give it DayCounts or another time/date indicator).\n",
    "A large chunk of our data is nan, to the point where it's actually a bad idea to drop nans and filling any in won't give us meaningful data.We found out that pandas actually does a pretty good job just ignoring nans when performing operations, so we actually stayed away from using numpy and scipy for all the following operations, and stuck to pandas methods."
   ]
  },
  {
   "cell_type": "code",
   "execution_count": null,
   "metadata": {
    "collapsed": false
   },
   "outputs": [],
   "source": [
    "def normalize(df, headers):\n",
    "    \"\"\"Normalizes values of a dataframe after filling missing values- see FillMissing\n",
    "    df: dataframe of un-normalized integer only data\n",
    "    headers: specifc columns to be compared to one another\n",
    "    returns: now normalized dataframe of only the specified headers with missing values filled in\"\"\"\n",
    "    normdf = df[headers]\n",
    "    df_norm = (normdf-normdf.mean())/(normdf.max() - normdf.min())\n",
    "    return df_norm\n",
    "\n",
    "intHeadCorrList= [ 'Temperature_(degC)','PM4_(ug/m3)', 'PM10_(ug/m3)','PM2.5_(ug/m3)','SO2_(ppb)','CO_(ppm)','NO_(ppb)',\n",
    "                 'NO2_(ppb)','AvgHouse']\n",
    "plt.plot(df2013[intHeadCorrList[0:1]].isnull().mean(axis=1))\n",
    "dfnorm13 = normalize(df2013, intHeadCorrList)"
   ]
  },
  {
   "cell_type": "markdown",
   "metadata": {},
   "source": [
    "We chose a spearman correlation because it doesn't rely on the parameters a perason's correlation does. The pandas methof dataframe.corr let us pick spearman, ignores nans (a must have) and constructs a useful dataframe of correlation coefficients that just make the whole matrix process a lot less painful.\n"
   ]
  },
  {
   "cell_type": "code",
   "execution_count": null,
   "metadata": {
    "collapsed": false
   },
   "outputs": [],
   "source": [
    "speardf = dfnorm13.corr(method = 'spearman')\n",
    "print speardf.head()"
   ]
  },
  {
   "cell_type": "code",
   "execution_count": null,
   "metadata": {
    "collapsed": true
   },
   "outputs": [],
   "source": [
    "def correlationHeatmap(corrmat, year = ''):\n",
    "    \"\"\"Constructs a heatmap correlation matrix\n",
    "    corrmat: dataframe of correlation constants\n",
    "    year: year to which data applies\"\"\"\n",
    "#set up mask to cover upper triangle of the matrix \n",
    "    mask = np.zeros_like(speardf, dtype=np.bool)\n",
    "    mask[np.triu_indices_from(mask, k=1)] = True\n",
    "\n",
    "# Set up the matplotlib figure\n",
    "    f, ax = plt.subplots(figsize=(12, 9))\n",
    "\n",
    "# Draw the heatmap using seaborn\n",
    "    sns.heatmap(corrmat,mask=mask, vmax=.8, square=True)\n",
    "\n",
    "    plt.title('Winter of '+ year+ ' Temperature and Pollutant Correlations')\n",
    "    plt.xticks(rotation=30)\n",
    "    f.tight_layout()"
   ]
  },
  {
   "cell_type": "markdown",
   "metadata": {},
   "source": [
    "This code for a cross correlation heatmap taken from some helpful seaborn documentation from stanford: https://stanford.edu/~mwaskom/software/seaborn/generated/seaborn.heatmap.html"
   ]
  },
  {
   "cell_type": "markdown",
   "metadata": {},
   "source": [
    "#### From these maps we can see what features are most strongly correlated"
   ]
  },
  {
   "cell_type": "code",
   "execution_count": null,
   "metadata": {
    "collapsed": false
   },
   "outputs": [],
   "source": [
    "correlationHeatmap(speardf, '2013')"
   ]
  },
  {
   "cell_type": "markdown",
   "metadata": {},
   "source": [
    "\n",
    "Do this with 2014, cold, warm, hot, and diurnal profiles"
   ]
  },
  {
   "cell_type": "code",
   "execution_count": null,
   "metadata": {
    "collapsed": false
   },
   "outputs": [],
   "source": [
    "dfnorm14 = normalize(df2014, intHeadCorrList)\n",
    "speardf14 = dfnorm14.corr(method = 'spearman')\n",
    "correlationHeatmap(speardf14, '2014')"
   ]
  },
  {
   "cell_type": "markdown",
   "metadata": {},
   "source": [
    "Difference between temperature brackets"
   ]
  },
  {
   "cell_type": "code",
   "execution_count": null,
   "metadata": {
    "collapsed": false
   },
   "outputs": [],
   "source": [
    "dfnormwarm13 = normalize(df2013warm, intHeadCorrList)\n",
    "speardfwarm13 = dfnormwarm13.corr(method = 'spearman')\n",
    "correlationHeatmap(speardfwarm13, '2013')"
   ]
  },
  {
   "cell_type": "code",
   "execution_count": null,
   "metadata": {
    "collapsed": false
   },
   "outputs": [],
   "source": [
    "dfnormcold13 = normalize(df2013cold, intHeadCorrList)\n",
    "speardfcold13 = dfnormcold13.corr(method = 'spearman')\n",
    "correlationHeatmap(speardfcold13, '2013')"
   ]
  },
  {
   "cell_type": "code",
   "execution_count": null,
   "metadata": {
    "collapsed": false
   },
   "outputs": [],
   "source": [
    "\n",
    "dfnormwarm14 = normalize(df2014warm, intHeadCorrList)\n",
    "speardfwarm14 = dfnormwarm14.corr(method = 'spearman')\n",
    "correlationHeatmap(speardfwarm14, '2014')"
   ]
  },
  {
   "cell_type": "code",
   "execution_count": null,
   "metadata": {
    "collapsed": false
   },
   "outputs": [],
   "source": [
    "dfnormcold14 = normalize(df2014cold, intHeadCorrList)\n",
    "speardfcold14 = dfnormcold14.corr(method = 'spearman')\n",
    "correlationHeatmap(speardfcold14, '2014')"
   ]
  },
  {
   "cell_type": "code",
   "execution_count": null,
   "metadata": {
    "collapsed": true
   },
   "outputs": [],
   "source": []
  }
 ],
 "metadata": {
  "kernelspec": {
   "display_name": "Python 2",
   "language": "python",
   "name": "python2"
  },
  "language_info": {
   "codemirror_mode": {
    "name": "ipython",
    "version": 2
   },
   "file_extension": ".py",
   "mimetype": "text/x-python",
   "name": "python",
   "nbconvert_exporter": "python",
   "pygments_lexer": "ipython2",
   "version": "2.7.11"
  }
 },
 "nbformat": 4,
 "nbformat_minor": 0
}

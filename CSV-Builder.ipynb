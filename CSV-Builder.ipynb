{
 "cells": [
  {
   "cell_type": "markdown",
   "metadata": {},
   "source": [
    "### Data Science 2016 Final Project\n",
    "Mackenzie Frackleton & Brenna Manning\n",
    "\n",
    "Olin College of Engineering"
   ]
  },
  {
   "cell_type": "markdown",
   "metadata": {},
   "source": [
    "# Investigating KwaDela: CSV Builder\n",
    "-----------------------------------------------------"
   ]
  },
  {
   "cell_type": "markdown",
   "metadata": {},
   "source": [
    "CSV-Builder\n",
    "\n",
    "This file is meant to create a new, lean set of csvs to work with going forward with the final Data Science Project. It's selecting only the columns we care about for this particular project and bulding smaller csv files from those columns that will take up less space and are faster to load and work with. Some manual work had to be done in order to prep the original Kwadela winter csvs to make them compatible with pandas. This work is noted in the cells below. Columns were selected through suggestions made by Olin Professor Scott Hersey."
   ]
  },
  {
   "cell_type": "code",
   "execution_count": 34,
   "metadata": {
    "collapsed": false
   },
   "outputs": [
    {
     "name": "stdout",
     "output_type": "stream",
     "text": [
      "<class 'pandas.core.frame.DataFrame'>\n",
      "Int64Index: 97921 entries, 0 to 97920\n",
      "Columns: 456 entries, Date to Unnamed: 455\n",
      "dtypes: bool(1), float64(220), int64(6), object(229)\n",
      "memory usage: 340.8+ MB\n",
      "None\n"
     ]
    }
   ],
   "source": [
    "import pandas as pd\n",
    "\n",
    "df = pd.read_csv('Kwadela2014-winter.csv')\n",
    "#note: we did have to replace all the spaces in the headers we cared about with underscores. \n",
    "#We had to do this manually in the csv because pandas doesn't play nice with spaces in names\n",
    "print df.info()"
   ]
  },
  {
   "cell_type": "code",
   "execution_count": 35,
   "metadata": {
    "collapsed": false
   },
   "outputs": [],
   "source": [
    "house_list = [column for column in df if '-K' in column]\n",
    "\n",
    "column_list = ['Dusttraks_(mg/m3)','PM10_(ug/m3)','PM2.5_(ug/m3)','SO2_(ppb)',\n",
    "              'CO_(ppm)','NO_(ppb)','NO2_(ppb)','Hour', 'Minute','Day','Month',\n",
    "              'Year','Temperature_(degC)','Wind_Speed_(m/s)']\n",
    "\n",
    "\n",
    "cleandf = df[house_list + column_list]\n",
    "\n",
    "cleandf.to_csv('Kwadela_winter_2014_cleaned.csv')"
   ]
  },
  {
   "cell_type": "code",
   "execution_count": 32,
   "metadata": {
    "collapsed": false
   },
   "outputs": [
    {
     "name": "stdout",
     "output_type": "stream",
     "text": [
      "           Date  Record  Wind_Speed_(m/s)  Wind_Direction (deg)  \\\n",
      "0  7/2/13 12:00     NaN               NaN                   NaN   \n",
      "1  7/2/13 12:01     NaN               NaN                   NaN   \n",
      "2  7/2/13 12:02     NaN               NaN                   NaN   \n",
      "3  7/2/13 12:03     NaN               NaN                   NaN   \n",
      "4  7/2/13 12:04     NaN               NaN                   NaN   \n",
      "\n",
      "   Wind_Direction_Std (deg)  Wind_Speed_Max (m/s)  Temperature_(degC)  \\\n",
      "0                       NaN                   NaN                 NaN   \n",
      "1                       NaN                   NaN                 NaN   \n",
      "2                       NaN                   NaN                 NaN   \n",
      "3                       NaN                   NaN                 NaN   \n",
      "4                       NaN                   NaN                 NaN   \n",
      "\n",
      "   Relative_Humidity (%)  Solar_Radiation (W/m2)  Rainfall (mm)  \\\n",
      "0                    NaN                     NaN            NaN   \n",
      "1                    NaN                     NaN            NaN   \n",
      "2                    NaN                     NaN            NaN   \n",
      "3                    NaN                     NaN            NaN   \n",
      "4                    NaN                     NaN            NaN   \n",
      "\n",
      "         ...         H20-S-X  H21-B-S  H21-E-X  H21-L-N  H21-S-W  H21-S-X  \\\n",
      "0        ...             NaN     15.2      NaN     15.5      NaN      NaN   \n",
      "1        ...             NaN     15.3      NaN     15.5      NaN      NaN   \n",
      "2        ...             NaN     15.3      NaN     15.5      NaN      NaN   \n",
      "3        ...             NaN     15.3      NaN     15.5      NaN      NaN   \n",
      "4        ...             NaN     15.3      NaN     15.5      NaN      NaN   \n",
      "\n",
      "   Dusttraks_(mg/m3)  Meshgaurd_SO2 (ppm)  Meshgaurd_CO (ppm)  \\\n",
      "0                NaN                  NaN                 NaN   \n",
      "1                NaN                  NaN                 NaN   \n",
      "2                NaN                  NaN                 NaN   \n",
      "3                NaN                  NaN                 NaN   \n",
      "4                NaN                  NaN                 NaN   \n",
      "\n",
      "   Sidepaks (mg/m3)  \n",
      "0               NaN  \n",
      "1               NaN  \n",
      "2               NaN  \n",
      "3               NaN  \n",
      "4               NaN  \n",
      "\n",
      "[5 rows x 156 columns]\n"
     ]
    }
   ],
   "source": [
    "df2 = pd.read_csv('Kwadela2013-winter.csv')\n",
    "#note: we did have to replace all the spaces in the headers we cared about with underscores. \n",
    "#We had to do this manually in the csv because pandas doesn't play nice with spaces in names\n",
    "\n",
    "print df2.head()"
   ]
  },
  {
   "cell_type": "code",
   "execution_count": 33,
   "metadata": {
    "collapsed": false
   },
   "outputs": [],
   "source": [
    "house_list = [column for column in df if '-K' in column]\n",
    "\n",
    "column_list = ['Dusttraks_(mg/m3)','PM10_(ug/m3)','PM2.5_(ug/m3)','SO2_(ppb)',\n",
    "              'CO_(ppm)','NO_(ppb)','NO2_(ppb)','Date','Temperature_(degC)','Wind_Speed_(m/s)']\n",
    "\n",
    "cleandf2 = df2[column_list+house_list]\n",
    "\n",
    "cleandf2.to_csv('Kwadela_winter_2013_cleaned.csv')\n",
    "#note: rows up to 121 are still nan. I've just used manual row deletion because it's the quickest "
   ]
  },
  {
   "cell_type": "code",
   "execution_count": null,
   "metadata": {
    "collapsed": true
   },
   "outputs": [],
   "source": []
  }
 ],
 "metadata": {
  "kernelspec": {
   "display_name": "Python 2",
   "language": "python",
   "name": "python2"
  },
  "language_info": {
   "codemirror_mode": {
    "name": "ipython",
    "version": 2
   },
   "file_extension": ".py",
   "mimetype": "text/x-python",
   "name": "python",
   "nbconvert_exporter": "python",
   "pygments_lexer": "ipython2",
   "version": "2.7.11"
  }
 },
 "nbformat": 4,
 "nbformat_minor": 0
}

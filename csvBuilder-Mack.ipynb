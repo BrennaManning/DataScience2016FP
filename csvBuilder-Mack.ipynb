{
 "cells": [
  {
   "cell_type": "code",
   "execution_count": 1,
   "metadata": {
    "collapsed": false
   },
   "outputs": [
    {
     "name": "stdout",
     "output_type": "stream",
     "text": [
      "<class 'pandas.core.frame.DataFrame'>\n",
      "Int64Index: 97921 entries, 0 to 97920\n",
      "Columns: 456 entries, Date to Unnamed: 455\n",
      "dtypes: bool(1), float64(220), int64(6), object(229)\n",
      "memory usage: 340.8+ MB\n",
      "None\n"
     ]
    },
    {
     "name": "stderr",
     "output_type": "stream",
     "text": [
      "/home/brenna/anaconda2/lib/python2.7/site-packages/IPython/core/interactiveshell.py:2902: DtypeWarning: Columns (228,229,230,231,232,233,234,235,236,237,238,239,240,241,242,243,244,245,246,247,248,249,250,251,252,253,254,255,256,257,258,259,260,261,262,263,264,265,266,267,268,269,270,271,272,273,274,275,276,277,278,279,280,281,282,283,284,285,286,287,288,289,290,291,292,293,294,295,296,297,298,299,300,301,302,303,304,305,306,307,308,309,310,311,312,313,314,315,316,317,318,319,320,321,322,323,324,325,326,327,328,329,330,331,332,333,334,335,336,337,338,339,340,341,342,343,344,345,346,347,348,349,350,351,352,353,354,355,356,357,358,359,360,361,362,363,364,365,366,367,368,369,370,371,372,373,374,375,376,377,378,379,380,381,382,383,384,385,386,387,388,389,390,391,392,393,394,395,396,397,398,399,400,401,402,403,404,405,406,407,408,409,410,411,412,413,414,415,416,417,418,419,420,421,422,423,424,425,426,427,428,429,430,431,432,433,434,435,436,437,438,439,440,441,442,443,444,445,446,447,448,449,450,451,452,453,454,455) have mixed types. Specify dtype option on import or set low_memory=False.\n",
      "  interactivity=interactivity, compiler=compiler, result=result)\n"
     ]
    }
   ],
   "source": [
    "import pandas as pd\n",
    "\n",
    "df = pd.read_csv('Kwadela2014-winter.csv')\n",
    "#note: we did have to replace all the spaces in the headers we cared about with underscores. \n",
    "#We had to do this manually in the csv because pandas doesn't play nice with spaces in names\n",
    "print df.info()"
   ]
  },
  {
   "cell_type": "code",
   "execution_count": 2,
   "metadata": {
    "collapsed": false
   },
   "outputs": [
    {
     "name": "stdout",
     "output_type": "stream",
     "text": [
      "['H01-K-E', 'H02-K-N', 'H03-K-S', 'H04-K-S', 'H05-K-N', 'H06-K-N', 'H07-K-S', 'H10-K-N', 'H11-K-N', 'H15-K-N', 'H16-K-N', 'H17-K-S', 'H18-K-N', 'H19-K-W', 'H22-K-S']\n",
      "   Dusttraks_(mg/m3)  PM10_(ug/m3)  PM2.5_(ug/m3)  SO2_(ppb)  CO_(ppm)  \\\n",
      "0              0.043           NaN         31.576        NaN     0.193   \n",
      "1              0.041           NaN         32.248        NaN     0.163   \n",
      "2              0.042           NaN         12.765        NaN     0.188   \n",
      "3              0.044           NaN          2.687        NaN     0.206   \n",
      "4              0.043           NaN          3.807        NaN     0.240   \n",
      "\n",
      "   NO_(ppb)  NO2_(ppb)  Hour  Minute  Day   ...     H06-K-N  H07-K-S  H10-K-N  \\\n",
      "0     6.494      8.734    12       0   11   ...        11.7     15.3     17.1   \n",
      "1     5.375      8.286    12       1   11   ...        11.7     15.4     17.2   \n",
      "2     5.375      8.062    12       2   11   ...        11.8     15.4     17.3   \n",
      "3     5.375      8.062    12       3   11   ...        11.8     15.5     17.4   \n",
      "4     4.927      8.062    12       4   11   ...        11.8     15.5     17.5   \n",
      "\n",
      "   H11-K-N  H15-K-N  H16-K-N  H17-K-S  H18-K-N  H19-K-W  H22-K-S  \n",
      "0     16.2     15.3     15.3     15.5     15.5       15       15  \n",
      "1     16.5     15.4     15.3     15.5     15.5       15       15  \n",
      "2     16.8     15.5     15.4     15.5     15.5       15       15  \n",
      "3     17.0     15.5     15.4     15.5     15.5       15       15  \n",
      "4     17.2     15.5     15.5     15.5     15.5       15       15  \n",
      "\n",
      "[5 rows x 28 columns]\n"
     ]
    }
   ],
   "source": [
    "\n",
    "house_list = [column for column in df if '-K' in column]\n",
    "print house_list\n",
    "\n",
    "column_list = ['Dusttraks_(mg/m3)','PM10_(ug/m3)','PM2.5_(ug/m3)','SO2_(ppb)',\n",
    "              'CO_(ppm)','NO_(ppb)','NO2_(ppb)','Hour', 'Minute','Day','Month',\n",
    "              'Year','Temperature_(degC)']\n",
    "\n",
    "cleandf = df[column_list+house_list]\n",
    "\n",
    "print cleandf.head()\n",
    "\n",
    "cleandf.to_csv('Kwadela_winter_2014_cleaned.csv')"
   ]
  },
  {
   "cell_type": "code",
   "execution_count": 3,
   "metadata": {
    "collapsed": false
   },
   "outputs": [
    {
     "name": "stdout",
     "output_type": "stream",
     "text": [
      "           Date  Record  Wind_Speed (m/s)  Wind_Direction (deg)  \\\n",
      "0  7/2/13 12:00     NaN               NaN                   NaN   \n",
      "1  7/2/13 12:01     NaN               NaN                   NaN   \n",
      "2  7/2/13 12:02     NaN               NaN                   NaN   \n",
      "3  7/2/13 12:03     NaN               NaN                   NaN   \n",
      "4  7/2/13 12:04     NaN               NaN                   NaN   \n",
      "\n",
      "   Wind_Direction_Std (deg)  Wind_Speed_Max (m/s)  Temperature_(degC)  \\\n",
      "0                       NaN                   NaN                 NaN   \n",
      "1                       NaN                   NaN                 NaN   \n",
      "2                       NaN                   NaN                 NaN   \n",
      "3                       NaN                   NaN                 NaN   \n",
      "4                       NaN                   NaN                 NaN   \n",
      "\n",
      "   Relative_Humidity (%)  Solar_Radiation (W/m2)  Rainfall (mm)  \\\n",
      "0                    NaN                     NaN            NaN   \n",
      "1                    NaN                     NaN            NaN   \n",
      "2                    NaN                     NaN            NaN   \n",
      "3                    NaN                     NaN            NaN   \n",
      "4                    NaN                     NaN            NaN   \n",
      "\n",
      "         ...         H20-S-X  H21-B-S  H21-E-X  H21-L-N  H21-S-W  H21-S-X  \\\n",
      "0        ...             NaN     15.2      NaN     15.5      NaN      NaN   \n",
      "1        ...             NaN     15.3      NaN     15.5      NaN      NaN   \n",
      "2        ...             NaN     15.3      NaN     15.5      NaN      NaN   \n",
      "3        ...             NaN     15.3      NaN     15.5      NaN      NaN   \n",
      "4        ...             NaN     15.3      NaN     15.5      NaN      NaN   \n",
      "\n",
      "   Dusttraks_(mg/m3)  Meshgaurd_SO2 (ppm)  Meshgaurd_CO (ppm)  \\\n",
      "0                NaN                  NaN                 NaN   \n",
      "1                NaN                  NaN                 NaN   \n",
      "2                NaN                  NaN                 NaN   \n",
      "3                NaN                  NaN                 NaN   \n",
      "4                NaN                  NaN                 NaN   \n",
      "\n",
      "   Sidepaks (mg/m3)  \n",
      "0               NaN  \n",
      "1               NaN  \n",
      "2               NaN  \n",
      "3               NaN  \n",
      "4               NaN  \n",
      "\n",
      "[5 rows x 156 columns]\n"
     ]
    }
   ],
   "source": [
    "\n",
    "df = pd.read_csv('Kwadela2013-winter.csv')\n",
    "#note: we did have to replace all the spaces in the headers we cared about with underscores. \n",
    "#We had to do this manually in the csv because pandas doesn't play nice with spaces in names\n",
    "\n",
    "print df.head()"
   ]
  },
  {
   "cell_type": "code",
   "execution_count": 4,
   "metadata": {
    "collapsed": false
   },
   "outputs": [],
   "source": [
    "house_list = [column for column in df if '-K' in column]\n",
    "\n",
    "column_list = ['Dusttraks_(mg/m3)','PM10_(ug/m3)','PM2.5_(ug/m3)','SO2_(ppb)',\n",
    "              'CO_(ppm)','NO_(ppb)','NO2_(ppb)','Date','Temperature_(degC)']\n",
    "\n",
    "cleandf = df[column_list+house_list]\n",
    "\n",
    "cleandf.to_csv('Kwadela_winter_2013_cleaned.csv')\n",
    "#note: rows up to 121 are still nan. I've just used manual row deletion because it's the quickest "
   ]
  },
  {
   "cell_type": "code",
   "execution_count": null,
   "metadata": {
    "collapsed": true
   },
   "outputs": [],
   "source": []
  },
  {
   "cell_type": "code",
   "execution_count": null,
   "metadata": {
    "collapsed": true
   },
   "outputs": [],
   "source": []
  },
  {
   "cell_type": "code",
   "execution_count": null,
   "metadata": {
    "collapsed": true
   },
   "outputs": [],
   "source": []
  }
 ],
 "metadata": {
  "kernelspec": {
   "display_name": "Python 2",
   "language": "python",
   "name": "python2"
  },
  "language_info": {
   "codemirror_mode": {
    "name": "ipython",
    "version": 2
   },
   "file_extension": ".py",
   "mimetype": "text/x-python",
   "name": "python",
   "nbconvert_exporter": "python",
   "pygments_lexer": "ipython2",
   "version": "2.7.11"
  }
 },
 "nbformat": 4,
 "nbformat_minor": 0
}

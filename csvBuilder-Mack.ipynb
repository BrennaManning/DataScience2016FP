{
 "cells": [
  {
   "cell_type": "markdown",
   "metadata": {},
   "source": [
    "# csv Builder File\n",
    "\n",
    "This file is meant to create a new, lean set of csvs for Mackenzie and Brenna to work with going forward with the final Data Science Project. It's selecting only the columns they care about for this pparticular project and bulding smaller csv files from those columns that will take up less space and are faster to load and work with. Some manual work had to be done in order to prep the original Kwadela winter csvs to make them compatible with pandas. This work is noted in the cells below. Columns were selected throug suggestions made by Scott Hersey."
   ]
  },
  {
   "cell_type": "code",
   "execution_count": 1,
   "metadata": {
    "collapsed": false,
    "scrolled": true
   },
   "outputs": [
    {
     "name": "stdout",
     "output_type": "stream",
     "text": [
      "<class 'pandas.core.frame.DataFrame'>\n",
      "Int64Index: 97921 entries, 0 to 97920\n",
      "Columns: 226 entries, Date to Sidepaks (mg/m3)\n",
      "dtypes: bool(1), float64(218), int64(6), object(1)\n",
      "memory usage: 168.9+ MB\n",
      "None\n"
     ]
    }
   ],
   "source": [
    "import pandas as pd\n",
    "\n",
    "df = pd.read_csv('Kwadela2014-winter.csv')\n",
    "#note: we did have to replace all the spaces in the headers we cared about with underscores. \n",
    "#We had to do this manually in the csv because pandas doesn't play nice with spaces in names\n",
    "print df.info()"
   ]
  },
  {
   "cell_type": "code",
   "execution_count": 2,
   "metadata": {
    "collapsed": false,
    "scrolled": true
   },
   "outputs": [
    {
     "name": "stdout",
     "output_type": "stream",
     "text": [
      "['H01-K-E', 'H02-K-N', 'H03-K-S', 'H04-K-S', 'H05-K-N', 'H06-K-N', 'H07-K-S', 'H10-K-N', 'H11-K-N', 'H15-K-N', 'H16-K-N', 'H17-K-S', 'H18-K-N', 'H19-K-W', 'H22-K-S']\n",
      "   Dusttraks_(mg/m3)  PM10_(ug/m3)  PM2.5_(ug/m3)  SO2_(ppb)  CO_(ppm)  \\\n",
      "0              0.043           NaN         31.576        NaN     0.193   \n",
      "1              0.041           NaN         32.248        NaN     0.163   \n",
      "2              0.042           NaN         12.765        NaN     0.188   \n",
      "3              0.044           NaN          2.687        NaN     0.206   \n",
      "4              0.043           NaN          3.807        NaN     0.240   \n",
      "\n",
      "   NO_(ppb)  NO2_(ppb)  Hour  Minute  Day   ...     H06-K-N  H07-K-S  H10-K-N  \\\n",
      "0     6.494      8.734    12       0   11   ...        11.7     15.3     17.1   \n",
      "1     5.375      8.286    12       1   11   ...        11.7     15.4     17.2   \n",
      "2     5.375      8.062    12       2   11   ...        11.8     15.4     17.3   \n",
      "3     5.375      8.062    12       3   11   ...        11.8     15.5     17.4   \n",
      "4     4.927      8.062    12       4   11   ...        11.8     15.5     17.5   \n",
      "\n",
      "   H11-K-N  H15-K-N  H16-K-N  H17-K-S  H18-K-N  H19-K-W  H22-K-S  \n",
      "0     16.2     15.3     15.3     15.5     15.5       15       15  \n",
      "1     16.5     15.4     15.3     15.5     15.5       15       15  \n",
      "2     16.8     15.5     15.4     15.5     15.5       15       15  \n",
      "3     17.0     15.5     15.4     15.5     15.5       15       15  \n",
      "4     17.2     15.5     15.5     15.5     15.5       15       15  \n",
      "\n",
      "[5 rows x 28 columns]\n"
     ]
    }
   ],
   "source": [
    "\n",
    "house_list = [column for column in df if '-K' in column]\n",
    "print house_list\n",
    "\n",
    "column_list = ['Dusttraks_(mg/m3)','PM10_(ug/m3)','PM2.5_(ug/m3)','SO2_(ppb)',\n",
    "              'CO_(ppm)','NO_(ppb)','NO2_(ppb)','Hour', 'Minute','Day','Month',\n",
    "              'Year','Temperature_(degC)']\n",
    "\n",
    "cleandf = df[column_list+house_list]\n",
    "\n",
    "print cleandf.head()\n",
    "\n",
    "cleandf.to_csv('Kwadella_winter_2014_cleaned.csv')"
   ]
  },
  {
   "cell_type": "code",
   "execution_count": 7,
   "metadata": {
    "collapsed": false,
    "scrolled": true
   },
   "outputs": [
    {
     "name": "stdout",
     "output_type": "stream",
     "text": [
      "           Date  Record  Wind_Speed (m/s)  Wind_Direction (deg)  \\\n",
      "0  7/2/13 12:00     NaN               NaN                   NaN   \n",
      "1  7/2/13 12:01     NaN               NaN                   NaN   \n",
      "2  7/2/13 12:02     NaN               NaN                   NaN   \n",
      "3  7/2/13 12:03     NaN               NaN                   NaN   \n",
      "4  7/2/13 12:04     NaN               NaN                   NaN   \n",
      "\n",
      "   Wind_Direction_Std (deg)  Wind_Speed_Max (m/s)  Temperature_(degC)  \\\n",
      "0                       NaN                   NaN                 NaN   \n",
      "1                       NaN                   NaN                 NaN   \n",
      "2                       NaN                   NaN                 NaN   \n",
      "3                       NaN                   NaN                 NaN   \n",
      "4                       NaN                   NaN                 NaN   \n",
      "\n",
      "   Relative_Humidity (%)  Solar_Radiation (W/m2)  Rainfall (mm)  \\\n",
      "0                    NaN                     NaN            NaN   \n",
      "1                    NaN                     NaN            NaN   \n",
      "2                    NaN                     NaN            NaN   \n",
      "3                    NaN                     NaN            NaN   \n",
      "4                    NaN                     NaN            NaN   \n",
      "\n",
      "         ...         H20-S-X  H21-B-S  H21-E-X  H21-L-N  H21-S-W  H21-S-X  \\\n",
      "0        ...             NaN     15.2      NaN     15.5      NaN      NaN   \n",
      "1        ...             NaN     15.3      NaN     15.5      NaN      NaN   \n",
      "2        ...             NaN     15.3      NaN     15.5      NaN      NaN   \n",
      "3        ...             NaN     15.3      NaN     15.5      NaN      NaN   \n",
      "4        ...             NaN     15.3      NaN     15.5      NaN      NaN   \n",
      "\n",
      "   Dusttraks_(mg/m3)  Meshgaurd_SO2 (ppm)  Meshgaurd_CO (ppm)  \\\n",
      "0                NaN                  NaN                 NaN   \n",
      "1                NaN                  NaN                 NaN   \n",
      "2                NaN                  NaN                 NaN   \n",
      "3                NaN                  NaN                 NaN   \n",
      "4                NaN                  NaN                 NaN   \n",
      "\n",
      "   Sidepaks_(mg/m3)  \n",
      "0               NaN  \n",
      "1               NaN  \n",
      "2               NaN  \n",
      "3               NaN  \n",
      "4               NaN  \n",
      "\n",
      "[5 rows x 156 columns]\n"
     ]
    }
   ],
   "source": [
    "df = pd.read_csv('Kwadela2013-winter.csv')\n",
    "#note: we did have to replace all the spaces in the headers we cared about with underscores. \n",
    "#We had to do this manually in the csv because pandas doesn't play nice with spaces in names\n",
    "\n",
    "print df.head()"
   ]
  },
  {
   "cell_type": "code",
   "execution_count": 17,
   "metadata": {
    "collapsed": false,
    "scrolled": false
   },
   "outputs": [
    {
     "name": "stdout",
     "output_type": "stream",
     "text": [
      "119      NaN\n",
      "120      NaN\n",
      "121      NaN\n",
      "122      NaN\n",
      "123      NaN\n",
      "124      NaN\n",
      "125      NaN\n",
      "126      NaN\n",
      "127      NaN\n",
      "128      NaN\n",
      "129      NaN\n",
      "130      NaN\n",
      "131      NaN\n",
      "132      NaN\n",
      "133      NaN\n",
      "134      NaN\n",
      "135      NaN\n",
      "136      NaN\n",
      "137      NaN\n",
      "138      NaN\n",
      "139      NaN\n",
      "140      NaN\n",
      "141      NaN\n",
      "142      NaN\n",
      "143      NaN\n",
      "144      NaN\n",
      "145      NaN\n",
      "146      NaN\n",
      "147      NaN\n",
      "148      NaN\n",
      "          ..\n",
      "125445   NaN\n",
      "125446   NaN\n",
      "125447   NaN\n",
      "125448   NaN\n",
      "125449   NaN\n",
      "125450   NaN\n",
      "125451   NaN\n",
      "125452   NaN\n",
      "125453   NaN\n",
      "125454   NaN\n",
      "125455   NaN\n",
      "125456   NaN\n",
      "125457   NaN\n",
      "125458   NaN\n",
      "125459   NaN\n",
      "125460   NaN\n",
      "125461   NaN\n",
      "125462   NaN\n",
      "125463   NaN\n",
      "125464   NaN\n",
      "125465   NaN\n",
      "125466   NaN\n",
      "125467   NaN\n",
      "125468   NaN\n",
      "125469   NaN\n",
      "125470   NaN\n",
      "125471   NaN\n",
      "125472   NaN\n",
      "125473   NaN\n",
      "125474   NaN\n",
      "Name: Temperature_(degC), dtype: float64\n"
     ]
    }
   ],
   "source": [
    "\n",
    "house_list = [column for column in df if '-K' in column]\n",
    "\n",
    "column_list = ['Dusttraks_(mg/m3)','PM10_(ug/m3)','PM2.5_(ug/m3)','SO2_(ppb)',\n",
    "              'CO_(ppm)','NO_(ppb)','NO2_(ppb)','Date','Temperature_(degC)']\n",
    "\n",
    "cleandf = df[column_list+house_list]\n",
    "\n",
    "cleandf.to_csv('Kwadella_winter_2013_cleaned.csv')\n",
    "#note: rows up to 121 are still nan. I've just used manual row deletion because it's the quickest "
   ]
  },
  {
   "cell_type": "code",
   "execution_count": null,
   "metadata": {
    "collapsed": true
   },
   "outputs": [],
   "source": []
  },
  {
   "cell_type": "code",
   "execution_count": null,
   "metadata": {
    "collapsed": true
   },
   "outputs": [],
   "source": []
  }
 ],
 "metadata": {
  "kernelspec": {
   "display_name": "Python 2",
   "language": "python",
   "name": "python2"
  },
  "language_info": {
   "codemirror_mode": {
    "name": "ipython",
    "version": 2
   },
   "file_extension": ".py",
   "mimetype": "text/x-python",
   "name": "python",
   "nbconvert_exporter": "python",
   "pygments_lexer": "ipython2",
   "version": "2.7.11"
  }
 },
 "nbformat": 4,
 "nbformat_minor": 0
}
